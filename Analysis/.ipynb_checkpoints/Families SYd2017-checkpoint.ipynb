{
 "cells": [
  {
   "cell_type": "code",
   "execution_count": 1,
   "metadata": {},
   "outputs": [
    {
     "name": "stderr",
     "output_type": "stream",
     "text": [
      "\n",
      "Bad key \"text.kerning_factor\" on line 4 in\n",
      "/Users/Bernardo/miniconda3/lib/python3.7/site-packages/matplotlib/mpl-data/stylelib/_classic_test_patch.mplstyle.\n",
      "You probably need to get an updated matplotlibrc file from\n",
      "http://github.com/matplotlib/matplotlib/blob/master/matplotlibrc.template\n",
      "or from the matplotlib source distribution\n"
     ]
    }
   ],
   "source": [
    "%run libreria.py\n",
    "%matplotlib inline\n",
    "import matplotlib.pyplot as plt\n",
    "import numpy as np\n",
    "import utm\n",
    "import pandas as pd\n",
    "import math\n",
    "from matplotlib.pyplot import figure\n",
    "from matplotlib import cm as CM\n",
    "from matplotlib import mlab as ML\n",
    "import pymysql\n",
    "\n",
    "def distancia_genetica_corregida(a, b, distribution, N_mam=269):\n",
    "    P_A1_a1=1\n",
    "    P_A2_a2=1\n",
    "    P_A2_a2_hermano_a2=1\n",
    "    for alele in distribution:\n",
    "        P_A1_a1=P_A1_a1*(distribution[alele][a[alele]])\n",
    "        P_A2_a2=P_A2_a2*(distribution[alele][b[alele]])\n",
    "        # La probabilidad abajo es: si son iguales, es 1/2 (si vino de la misma columna alelo) + (1/2)*prob_del_alelo si vino de distinta columna, pero si \n",
    "        # son distintos son 1/2 * probabilidad de ese alelo. \n",
    "        P_A2_a2_hermano_a2=P_A2_a2_hermano_a2*((1/2)*int(a[alele]==b[alele])+(1/2)*distribution[alele][b[alele]])\n",
    "    P_A1_A2_distinta_mama=P_A1_a1*P_A2_a2\n",
    "    P_A1_A2_misma_mama=P_A1_a1*P_A2_a2_hermano_a2\n",
    "    return (1/(1+(N_mam-1)*P_A1_A2_distinta_mama/P_A1_A2_misma_mama))\n",
    "    \n",
    "def get_connection():\n",
    "    return pymysql.connect(host='ec2-3-16-15-72.us-east-2.compute.amazonaws.com',\n",
    "                             user='root',\n",
    "                             password='password',\n",
    "                             db='dbname',\n",
    "                             charset='utf8mb4',\n",
    "                             cursorclass=pymysql.cursors.DictCursor)\n",
    "        \n",
    "    "
   ]
  },
  {
   "cell_type": "code",
   "execution_count": 2,
   "metadata": {},
   "outputs": [],
   "source": [
    "locations, coordenadas, distance_national_park=get_loc_coords_dnp()\n",
    "\n",
    "xaxis  = [utm.from_latlon(coordenadas[l][0],coordenadas[l][1])[0]  for l in coordenadas]\n",
    "yaxis = [utm.from_latlon(coordenadas[l][0],coordenadas[l][1])[1] for l in coordenadas]\n",
    "medy  =  np.mean(yaxis)\n",
    "medx  =  np.mean(xaxis)\n",
    "\n",
    "xaxis  = [to_xy((coordenadas[l][0],coordenadas[l][1]))[0]  for l in coordenadas]\n",
    "yaxis = [to_xy((coordenadas[l][0],coordenadas[l][1]))[1] for l in coordenadas]\n",
    "medy2  =  np.mean(yaxis)\n",
    "medx2  =  np.mean(xaxis)\n",
    "\n",
    "information={}\n",
    "for k in coordenadas:\n",
    "    information[k]={}\n",
    "    information[k][\"coordenadas\"]=coordenadas[k]\n",
    "    utm_val=utm.from_latlon(coordenadas[k][0], coordenadas[k][1])\n",
    "    information[k][\"utm_xy\"]=((utm_val[0]-medx)/1000, (utm_val[1]-medy)/1000)\n",
    "    \n",
    "    xy_val=to_xy(coordenadas[k])\n",
    "    information[k][\"alt_xy\"]=((xy_val[0]-medx2)/1000, (xy_val[1]-medy2)/1000)\n",
    "    \n",
    "    information[k][\"distance_np\"]=distance_national_park[k]\n",
    "    \n",
    "    "
   ]
  },
  {
   "cell_type": "code",
   "execution_count": 3,
   "metadata": {},
   "outputs": [],
   "source": [
    "f=open(\"output_colony.csv\", \"r\")\n",
    "a=\"A\"\n",
    "ind=0\n",
    "familias=[]\n",
    "while a!=\"\":\n",
    "    a=f.readline()\n",
    "    if ind>0:\n",
    "        nd={}\n",
    "        b=a.split(\",\")\n",
    "        if len(b)>2:\n",
    "            nd[\"Familia\"]=b[0]\n",
    "            nd[\"c1\"]=float(b[1])\n",
    "            nd[\"c2\"]=float(b[2])\n",
    "            ind2=3\n",
    "            parientes=[]\n",
    "            while ind2<len(b):\n",
    "                if b[ind2]!=\"\" and b[ind2]!=\"\\n\": parientes.append(b[ind2].replace(\"\\n\", \"\"))\n",
    "                ind2+=1\n",
    "            nd[\"integrantes\"]=parientes\n",
    "            familias.append(nd)\n",
    "    ind+=1"
   ]
  },
  {
   "cell_type": "code",
   "execution_count": null,
   "metadata": {},
   "outputs": [],
   "source": []
  },
  {
   "cell_type": "code",
   "execution_count": 4,
   "metadata": {},
   "outputs": [],
   "source": [
    "import random\n",
    "d2=0\n",
    "connection=get_connection()\n",
    "\n",
    "with connection.cursor() as cursor:\n",
    "    sql=\"select * from tasks_abejas where (task_params like \\\"%\\\\\\\"year\\\\\\\":2017%\\\" or task_id>119121) and task_completed>0\"\n",
    "    cursor.execute(sql)\n",
    "    res=cursor.fetchall()\n",
    "connection.close()\n"
   ]
  },
  {
   "cell_type": "code",
   "execution_count": null,
   "metadata": {},
   "outputs": [],
   "source": []
  },
  {
   "cell_type": "code",
   "execution_count": null,
   "metadata": {},
   "outputs": [],
   "source": []
  },
  {
   "cell_type": "code",
   "execution_count": 5,
   "metadata": {
    "scrolled": true
   },
   "outputs": [],
   "source": [
    "df_tasks=pd.DataFrame(res)\n",
    "tids=list(df_tasks[\"task_id\"])\n",
    "\n",
    "connection=get_connection()\n",
    "\n",
    "with connection.cursor() as cursor:\n",
    "    sql=\"select * from familias_abejas_conteo where task_id in (\"+\", \".join([str(j) for j in tids])+\")\"\n",
    "    cursor.execute(sql)\n",
    "    res_fams=cursor.fetchall()\n",
    "connection.close()\n"
   ]
  },
  {
   "cell_type": "code",
   "execution_count": null,
   "metadata": {},
   "outputs": [],
   "source": []
  },
  {
   "cell_type": "code",
   "execution_count": 6,
   "metadata": {},
   "outputs": [],
   "source": [
    "df_fams=pd.DataFrame(res_fams)\n",
    "def ify(aa):\n",
    "    if \"year\" in eval(aa): return 2017\n",
    "    return 2018\n",
    "df_tasks[\"bootstrap\"]=[eval(aa)[\"bootstrap\"] for aa in df_tasks[\"task_params\"]]\n",
    "df_tasks[\"N_mam\"]=[eval(aa)[\"N_mam\"] for aa in df_tasks[\"task_params\"]]\n",
    "df_tasks[\"urban\"]=[eval(aa)[\"urban\"] for aa in df_tasks[\"task_params\"]]\n",
    "df_tasks[\"rural\"]=[eval(aa)[\"rural\"] for aa in df_tasks[\"task_params\"]]\n",
    "df_tasks[\"lambda\"]=[eval(aa)[\"params\"][\"lambd\"] for aa in df_tasks[\"task_params\"]]\n",
    "\n",
    "df_tasks[\"year\"]=[ify(aa) for aa in df_tasks[\"task_params\"]]\n",
    "\n",
    "df_tasks[\"exp_mean\"]=1/df_tasks[\"lambda\"]\n"
   ]
  },
  {
   "cell_type": "code",
   "execution_count": 7,
   "metadata": {},
   "outputs": [],
   "source": [
    "def get_coords_2017():\n",
    "\n",
    "    coordenadas2017={ \"Vegetable university\":(-33.88923, 151.19259), \"Marrickville 2\":(-33.90468, 151.16067),\n",
    "             'Bondi Junction': (-33.88877, 151.24145) , 'University': (-33.88514, 151.18837), 'Surrey Hills':(-33.88972, 151.20965),\n",
    "             'Newtown': (-33.894944, 151.187083), 'Anandale': (-33.882977, 151.173809),\n",
    "                 \"Jannali\":(-34.0212, 151.06618), 'Caringbah':(-34.06084, 151.11107),\n",
    "                 'Marrickville':(-33.89828, 151.16525), \"Leichhardt\":(-33.884889, 151.156028),\n",
    "                 \"Paddington\":(-33.881917, 151.180611), \"Tanya\":(-33.88425, 151.23336)\n",
    "            }\n",
    "    return coordenadas2017"
   ]
  },
  {
   "cell_type": "code",
   "execution_count": 8,
   "metadata": {},
   "outputs": [],
   "source": [
    "coordenadas2017=get_coords_2017()\n",
    "\n",
    "sitios_l_2018=sorted([k for k in coordenadas])\n",
    "sitios_l_2017=sorted([k for k in coordenadas2017])\n",
    "\n",
    "xys2017={}\n",
    "for k in coordenadas2017:\n",
    "    xys2017[k]=utm.from_latlon(*coordenadas2017[k])\n",
    "    xys2017[k]=[xys2017[k][0], xys2017[k][1]]\n",
    "    \n",
    "    \n",
    "xys2018={}\n",
    "for k in coordenadas:\n",
    "    xys2018[k]=utm.from_latlon(*coordenadas[k])\n",
    "    xys2018[k]=[xys2018[k][0], xys2018[k][1]]"
   ]
  },
  {
   "cell_type": "code",
   "execution_count": null,
   "metadata": {},
   "outputs": [],
   "source": []
  },
  {
   "cell_type": "code",
   "execution_count": 9,
   "metadata": {},
   "outputs": [],
   "source": [
    "df_fams[\"special\"]=[[(i,j)] for i,j in zip(df_fams[\"sitio_id\"], df_fams[\"conteo\"])]\n"
   ]
  },
  {
   "cell_type": "code",
   "execution_count": 10,
   "metadata": {},
   "outputs": [],
   "source": [
    "def pares2018(lista):\n",
    "    sites_tot=[]\n",
    "    for k in lista:\n",
    "        for p in range(k[1]):\n",
    "            sites_tot.append(k[0])\n",
    "    j=0\n",
    "    distances=[]\n",
    "    for k1 in sites_tot:\n",
    "        i=0\n",
    "        for k2 in sites_tot:\n",
    "            if i>j:\n",
    "                if k1!=k2: dis=euclidean_dist(xys2018[sitios_l_2018[k1]], xys2018[sitios_l_2018[k2]])\n",
    "                else: dis=0\n",
    "                distances.append(dis)\n",
    "            i+=1\n",
    "    return distances\n",
    "\n",
    "def pares2017(lista):\n",
    "    sites_tot=[]\n",
    "    for k in lista:\n",
    "        for p in range(k[1]):\n",
    "            sites_tot.append(k[0])\n",
    "    j=0\n",
    "    distances=[]\n",
    "    for k1 in sites_tot:\n",
    "        i=0\n",
    "        for k2 in sites_tot:\n",
    "            if i>j:\n",
    "                if k1!=k2: dis=euclidean_dist(xys2017[sitios_l_2017[k1]], xys2017[sitios_l_2017[k2]])\n",
    "                else: dis=0\n",
    "                distances.append(dis)\n",
    "            i+=1\n",
    "    return distances"
   ]
  },
  {
   "cell_type": "code",
   "execution_count": null,
   "metadata": {},
   "outputs": [],
   "source": []
  },
  {
   "cell_type": "code",
   "execution_count": 11,
   "metadata": {},
   "outputs": [],
   "source": [
    "nmams=list(set(df_tasks[\"N_mam\"]))\n"
   ]
  },
  {
   "cell_type": "code",
   "execution_count": 12,
   "metadata": {},
   "outputs": [
    {
     "data": {
      "text/plain": [
       "5.8    396\n",
       "3.3    396\n",
       "3.8    393\n",
       "2.8    392\n",
       "4.8    391\n",
       "4.3    391\n",
       "2.3    390\n",
       "5.3    389\n",
       "1.8    389\n",
       "1.3    386\n",
       "0.8    376\n",
       "0.3    294\n",
       "Name: exp_mean, dtype: int64"
      ]
     },
     "execution_count": 12,
     "metadata": {},
     "output_type": "execute_result"
    }
   ],
   "source": [
    "df_tasks[(df_tasks.year==2017)].exp_mean.value_counts()"
   ]
  },
  {
   "cell_type": "code",
   "execution_count": 13,
   "metadata": {
    "scrolled": true
   },
   "outputs": [
    {
     "name": "stdout",
     "output_type": "stream",
     "text": [
      "Percentile 0\n",
      "0.0\n",
      "Percentile 5\n",
      "0.0\n",
      "Percentile 10\n",
      "0.0\n",
      "Percentile 15\n",
      "0.0\n",
      "Percentile 20\n",
      "0.0\n",
      "Percentile 25\n",
      "0.0\n",
      "Percentile 30\n",
      "0.0\n",
      "Percentile 35\n",
      "0.0\n",
      "Percentile 40\n",
      "0.0\n",
      "Percentile 45\n",
      "0.0\n",
      "Percentile 50\n",
      "598.4707974489323\n",
      "Percentile 55\n",
      "640.123806817208\n",
      "Percentile 60\n",
      "801.8472458399066\n",
      "Percentile 65\n",
      "900.7357412809255\n",
      "Percentile 70\n",
      "1373.2430389147373\n",
      "Percentile 75\n",
      "1658.4654872667154\n",
      "Percentile 80\n",
      "1872.8938381745254\n",
      "Percentile 85\n",
      "2297.855498488219\n",
      "Percentile 90\n",
      "2720.7476067284374\n",
      "Percentile 95\n",
      "3413.6222282770063\n"
     ]
    },
    {
     "data": {
      "image/png": "[encoded data removed]",
      "text/plain": [
       "<Figure size 576x576 with 1 Axes>"
      ]
     },
     "metadata": {
      "needs_background": "light"
     },
     "output_type": "display_data"
    }
   ],
   "source": [
    "nmams=list(set(df_tasks[\"N_mam\"]))\n",
    "means=list(set(df_tasks[\"exp_mean\"]))\n",
    "\n",
    "nmam=570\n",
    "mean=0.3\n",
    "\n",
    "menas_sor=sorted(means)\n",
    "nmams_sor=sorted(nmams)\n",
    "\n",
    "nmams_sor=[475]\n",
    "menas_sor=[2.3]\n",
    "\n",
    "\n",
    "for mean in menas_sor:\n",
    "    for nmam in nmams_sor:\n",
    "    \n",
    "        taskis=list(df_tasks[(df_tasks.exp_mean==mean) & (df_tasks.N_mam==nmam) & (df_tasks.year==2017)][\"task_id\"])\n",
    "        df_fams_sp=df_fams[[i in taskis for i in df_fams[\"task_id\"]]]\n",
    "\n",
    "        grouped=df_fams_sp[[\"familia_id\", \"special\"]].groupby(\"familia_id\").sum()\n",
    "        grouped[\"distances\"]=grouped[\"special\"].apply(pares2017)\n",
    "        \n",
    "        plt.figure(figsize=(8,8))\n",
    "        plt.title(\"Histogram of ditances between siblings\\n \"+str(nmam)+\" families, mean=\"+str(round(mean, 2))+\"km\")\n",
    "        all_dists=[]\n",
    "        min6km=0\n",
    "        for k in grouped[\"distances\"]:\n",
    "            all_dists+=k\n",
    "        for k in all_dists:\n",
    "            if k<6000:\n",
    "                min6km+=1\n",
    "        for k in range(0,100,5):\n",
    "            print(\"Percentile \"+str(k))\n",
    "            print(np.percentile(all_dists, k))\n",
    "        plt.hist([k/1000 for k in all_dists], bins=int(round(np.max([i/1000 for i in all_dists]))))\n",
    "        #plt.xlim([0, mean*100000/5])\n",
    "        plt.yscale('log')\n",
    "        plt.xlabel(\"Km apart\")\n",
    "        plt.show()\n",
    "        alldists_2017=all_dists\n",
    "        numtasks2017=len(taskis)\n"
   ]
  },
  {
   "cell_type": "code",
   "execution_count": 14,
   "metadata": {},
   "outputs": [
    {
     "data": {
      "text/plain": [
       "21867.870456068737"
      ]
     },
     "execution_count": 14,
     "metadata": {},
     "output_type": "execute_result"
    }
   ],
   "source": [
    "np.max(alldists_2017)"
   ]
  },
  {
   "cell_type": "code",
   "execution_count": 15,
   "metadata": {},
   "outputs": [
    {
     "name": "stdout",
     "output_type": "stream",
     "text": [
      "Percentile 0\n",
      "0.0\n",
      "Percentile 5\n",
      "0.0\n",
      "Percentile 10\n",
      "0.0\n",
      "Percentile 15\n",
      "0.0\n",
      "Percentile 20\n",
      "0.0\n",
      "Percentile 25\n",
      "0.0\n",
      "Percentile 30\n",
      "0.0\n",
      "Percentile 35\n",
      "0.0\n",
      "Percentile 40\n",
      "0.0\n",
      "Percentile 45\n",
      "0.0\n",
      "Percentile 50\n",
      "0.0\n",
      "Percentile 55\n",
      "0.0\n",
      "Percentile 60\n",
      "0.0\n",
      "Percentile 65\n",
      "0.0\n",
      "Percentile 70\n",
      "0.0\n",
      "Percentile 75\n",
      "0.0\n",
      "Percentile 80\n",
      "0.0\n",
      "Percentile 85\n",
      "1099.3310318970086\n",
      "Percentile 90\n",
      "2032.9142811265433\n",
      "Percentile 95\n",
      "2955.618355049349\n"
     ]
    },
    {
     "data": {
      "image/png": "[encoded data removed]",
      "text/plain": [
       "<Figure size 576x576 with 1 Axes>"
      ]
     },
     "metadata": {
      "needs_background": "light"
     },
     "output_type": "display_data"
    }
   ],
   "source": [
    "nmams=list(set(df_tasks[\"N_mam\"]))\n",
    "means=list(set(df_tasks[\"exp_mean\"]))\n",
    "\n",
    "nmam=570\n",
    "mean=0.3\n",
    "\n",
    "menas_sor=sorted(means)\n",
    "nmams_sor=sorted(nmams)\n",
    "\n",
    "nmams_sor=[475]\n",
    "menas_sor=[2.15]\n",
    "\n",
    "\n",
    "for mean in menas_sor:\n",
    "    for nmam in nmams_sor:\n",
    "    \n",
    "        taskis=list(df_tasks[(df_tasks.year==2018)][\"task_id\"])\n",
    "        df_fams_sp=df_fams[[i in taskis for i in df_fams[\"task_id\"]]]\n",
    "\n",
    "        grouped=df_fams_sp[[\"familia_id\", \"special\"]].groupby(\"familia_id\").sum()\n",
    "        grouped[\"distances\"]=grouped[\"special\"].apply(pares2018)\n",
    "        \n",
    "        plt.figure(figsize=(8,8))\n",
    "        plt.title(\"Histogram of ditances between siblings\\n \"+str(nmam)+\" families, mean=\"+str(round(mean, 2))+\"km\")\n",
    "        all_dists=[]\n",
    "        min6km=0\n",
    "        for k in grouped[\"distances\"]:\n",
    "            all_dists+=k\n",
    "        for k in all_dists:\n",
    "            if k<6000:\n",
    "                min6km+=1\n",
    "        for k in range(0,100,5):\n",
    "            print(\"Percentile \"+str(k))\n",
    "            print(np.percentile(all_dists, k))\n",
    "        plt.hist([k/1000 for k in all_dists], bins=int(round(np.max([i/1000 for i in all_dists]))))\n",
    "        #plt.xlim([0, mean*100000/5])\n",
    "        plt.yticks([])\n",
    "        plt.yscale('log')\n",
    "        plt.xlabel(\"Distance between pairs (km)\")\n",
    "        plt.ylabel(\"Frequency (log scale)\")\n",
    "        plt.show()\n",
    "        alldists_2018=all_dists\n",
    "        numtasks2018=len(taskis)\n"
   ]
  },
  {
   "cell_type": "code",
   "execution_count": 16,
   "metadata": {},
   "outputs": [
    {
     "data": {
      "text/plain": [
       "27501.376562913694"
      ]
     },
     "execution_count": 16,
     "metadata": {},
     "output_type": "execute_result"
    }
   ],
   "source": [
    "np.max(alldists_2018)"
   ]
  },
  {
   "cell_type": "code",
   "execution_count": 18,
   "metadata": {},
   "outputs": [
    {
     "name": "stdout",
     "output_type": "stream",
     "text": [
      "Percentile 0.7685185550575724=1km\n",
      "Percentile 0.8592243112201929=2km\n",
      "Percentile 0.9517751977129083=3km\n",
      "Percentile 0.9759854393828038=4km\n",
      "Percentile 0.9874277295836544=5km\n",
      "Percentile 0.9900397071562548=6km\n",
      "Percentile 0.9944673523846197=7km\n",
      "Percentile 0.9963693512299017=8km\n",
      "Percentile 0.9975902563226988=9km\n",
      "Percentile 0.9982212213874576=10km\n",
      "Percentile 0.9982212213874576=11km\n",
      "Percentile 0.9987325300951154=12km\n",
      "Percentile 0.9992054120183786=13km\n",
      "Percentile 0.9994536134905365=14km\n",
      "Percentile 0.9997424297490477=15km\n",
      "Percentile 0.9998578468523542=16km\n",
      "Percentile 0.9998836870438504=17km\n",
      "Percentile 0.9999383340672532=18km\n",
      "Percentile 0.9999749356561366=19km\n",
      "Percentile 0.9999853844818157=20km\n",
      "Percentile 0.9999878459840188=21km\n",
      "Percentile 0.9999968547471845=22km\n",
      "Percentile 0.9999975384977965=23km\n",
      "Percentile 0.9999976752479188=24km\n",
      "Percentile 0.9999991794992652=25km\n",
      "Percentile 0.9999991794992652=26km\n",
      "Percentile 0.9999997264997548=27km\n",
      "Percentile 0.9999999999999996=28km\n",
      "Percentile 0.9999999999999996=29km\n",
      "Percentile 0.9999999999999996=30km\n",
      "Percentile 0.9999999999999996=31km\n",
      "Percentile 0.9999999999999996=32km\n",
      "Percentile 0.9999999999999996=33km\n",
      "Percentile 0.9999999999999996=34km\n",
      "Percentile 0.9999999999999996=35km\n",
      "Percentile 0.9999999999999996=36km\n",
      "Percentile 0.9999999999999996=37km\n",
      "Percentile 0.9999999999999996=38km\n",
      "Percentile 0.9999999999999996=39km\n",
      "Percentile 0.9999999999999996=40km\n"
     ]
    }
   ],
   "source": [
    "i=0\n",
    "ys=[]\n",
    "acum=0\n",
    "while i<40:\n",
    "    print(i, end=\"   \\r\")\n",
    "    f2018=np.sum([int((k/1000.0<i+1) & (k/1000.0>=i)) for k in alldists_2018])/numtasks2018\n",
    "    f2017=np.sum([int((k/1000.0<i+1) & (k/1000.0>=i)) for k in alldists_2017])/numtasks2017\n",
    "    ys.append(f2018+f2017)\n",
    "    acum+=f2018+f2017\n",
    "    pctil=acum/((len(alldists_2018)/numtasks2018)+(len(alldists_2017)/numtasks2017))\n",
    "    print(\"Percentile \"+str(pctil)+\"=\"+str(i+1)+\"km\")\n",
    "    i+=1\n",
    "    \n",
    "    "
   ]
  },
  {
   "cell_type": "code",
   "execution_count": 19,
   "metadata": {},
   "outputs": [],
   "source": [
    "import matplotlib\n",
    "\n",
    "matplotlib.rc('font',**{'family':'serif','serif':['Helvetica'], 'size':16})\n",
    "plt.rcParams['pdf.fonttype'] = 42\n"
   ]
  },
  {
   "cell_type": "code",
   "execution_count": 20,
   "metadata": {},
   "outputs": [
    {
     "data": {
      "image/png": "[encoded data removed]",
      "text/plain": [
       "<Figure size 576x576 with 1 Axes>"
      ]
     },
     "metadata": {
      "needs_background": "light"
     },
     "output_type": "display_data"
    }
   ],
   "source": [
    "plt.figure(figsize=(8, 8))\n",
    "\n",
    "plt.bar(range(30), ys[:30])\n",
    "plt.yticks([10**k for k in range(-2, 6)], [10**k for k in range(-2, 6)])\n",
    "plt.yscale('log')\n",
    "plt.minorticks_off()\n",
    "\n",
    "plt.yticks([10**k for k in range(-2, 6)])\n",
    "\n",
    "#plt.title(\"Average distance between pairs of the same family\\n across simuations\")\n",
    "plt.xlabel(\"Distance between pairs (km)\")\n",
    "plt.ylabel(\"Average frequency (log scale)\")\n",
    "plt.savefig(\"simulationsfamilies2017-2018.pdf\")\n",
    "plt.show()"
   ]
  },
  {
   "cell_type": "code",
   "execution_count": null,
   "metadata": {},
   "outputs": [],
   "source": []
  },
  {
   "cell_type": "code",
   "execution_count": null,
   "metadata": {},
   "outputs": [],
   "source": []
  },
  {
   "cell_type": "code",
   "execution_count": null,
   "metadata": {},
   "outputs": [],
   "source": []
  },
  {
   "cell_type": "code",
   "execution_count": 6,
   "metadata": {},
   "outputs": [],
   "source": [
    "import random\n",
    "d2=0\n",
    "connection=get_connection()\n",
    "\n",
    "with connection.cursor() as cursor:\n",
    "    sql=\"select * from tasks_abejas where ((task_params not like \\\"%\\\\\\\"year\\\\\\\":2017%\\\") and task_id>119121) and task_completed>0\"\n",
    "    cursor.execute(sql)\n",
    "    res=cursor.fetchall()\n",
    "connection.close()\n"
   ]
  },
  {
   "cell_type": "code",
   "execution_count": 7,
   "metadata": {},
   "outputs": [],
   "source": [
    "df_tasks=pd.DataFrame(res)\n",
    "tids=list(df_tasks[\"task_id\"])\n",
    "\n",
    "connection=get_connection()\n",
    "\n",
    "with connection.cursor() as cursor:\n",
    "    sql=\"select * from familias_abejas_conteo where task_id in (\"+\", \".join([str(j) for j in tids])+\")\"\n",
    "    cursor.execute(sql)\n",
    "    res_fams=cursor.fetchall()\n",
    "connection.close()\n"
   ]
  },
  {
   "cell_type": "code",
   "execution_count": 8,
   "metadata": {},
   "outputs": [],
   "source": [
    "df_fams=pd.DataFrame(res_fams)\n",
    "def ify(aa):\n",
    "    if \"year\" in eval(aa): return 2017\n",
    "    return 2018\n",
    "df_tasks[\"bootstrap\"]=[eval(aa)[\"bootstrap\"] for aa in df_tasks[\"task_params\"]]\n",
    "df_tasks[\"N_mam\"]=[eval(aa)[\"N_mam\"] for aa in df_tasks[\"task_params\"]]\n",
    "df_tasks[\"urban\"]=[eval(aa)[\"urban\"] for aa in df_tasks[\"task_params\"]]\n",
    "df_tasks[\"rural\"]=[eval(aa)[\"rural\"] for aa in df_tasks[\"task_params\"]]\n",
    "df_tasks[\"lambda\"]=[eval(aa)[\"params\"][\"lambd\"] for aa in df_tasks[\"task_params\"]]\n",
    "\n",
    "df_tasks[\"year\"]=[ify(aa) for aa in df_tasks[\"task_params\"]]\n",
    "\n",
    "df_tasks[\"exp_mean\"]=1/df_tasks[\"lambda\"]\n"
   ]
  },
  {
   "cell_type": "code",
   "execution_count": 9,
   "metadata": {},
   "outputs": [],
   "source": [
    "df_fams[\"special\"]=[[(i,j)] for i,j in zip(df_fams[\"sitio_id\"], df_fams[\"conteo\"])]\n"
   ]
  },
  {
   "cell_type": "code",
   "execution_count": 12,
   "metadata": {
    "scrolled": true
   },
   "outputs": [
    {
     "name": "stdout",
     "output_type": "stream",
     "text": [
      "Percentile 0\n",
      "0.0\n",
      "Percentile 5\n",
      "0.0\n",
      "Percentile 10\n",
      "0.0\n",
      "Percentile 15\n",
      "0.0\n",
      "Percentile 20\n",
      "0.0\n",
      "Percentile 25\n",
      "0.0\n",
      "Percentile 30\n",
      "0.0\n",
      "Percentile 35\n",
      "0.0\n",
      "Percentile 40\n",
      "0.0\n",
      "Percentile 45\n",
      "0.0\n",
      "Percentile 50\n",
      "0.0\n",
      "Percentile 55\n",
      "0.0\n",
      "Percentile 60\n",
      "0.0\n",
      "Percentile 65\n",
      "0.0\n",
      "Percentile 70\n",
      "0.0\n",
      "Percentile 75\n",
      "0.0\n",
      "Percentile 80\n",
      "0.0\n",
      "Percentile 85\n",
      "1099.3310318970086\n",
      "Percentile 90\n",
      "2032.9142811265433\n",
      "Percentile 95\n",
      "2955.618355049349\n"
     ]
    },
    {
     "data": {
      "image/png": "[encoded data removed]",
      "text/plain": [
       "<Figure size 576x576 with 1 Axes>"
      ]
     },
     "metadata": {
      "needs_background": "light"
     },
     "output_type": "display_data"
    }
   ],
   "source": [
    "nmams=list(set(df_tasks[\"N_mam\"]))\n",
    "means=list(set(df_tasks[\"exp_mean\"]))\n",
    "\n",
    "nmam=570\n",
    "mean=0.3\n",
    "\n",
    "menas_sor=sorted(means)\n",
    "nmams_sor=sorted(nmams)\n",
    "\n",
    "nmams_sor=[475]\n",
    "menas_sor=[2.15]\n",
    "\n",
    "\n",
    "for mean in menas_sor:\n",
    "    for nmam in nmams_sor:\n",
    "    \n",
    "        taskis=list(df_tasks[(df_tasks.year==2018)][\"task_id\"])\n",
    "        df_fams_sp=df_fams[[i in taskis for i in df_fams[\"task_id\"]]]\n",
    "\n",
    "        grouped=df_fams_sp[[\"familia_id\", \"special\"]].groupby(\"familia_id\").sum()\n",
    "        grouped[\"distances\"]=grouped[\"special\"].apply(pares2018)\n",
    "        \n",
    "        plt.figure(figsize=(8,8))\n",
    "        plt.title(\"Histogram of ditances between siblings\\n \"+str(nmam)+\" families, mean=\"+str(round(mean, 2))+\"km\")\n",
    "        all_dists=[]\n",
    "        min6km=0\n",
    "        for k in grouped[\"distances\"]:\n",
    "            all_dists+=k\n",
    "        for k in all_dists:\n",
    "            if k<6000:\n",
    "                min6km+=1\n",
    "        for k in range(0,100,5):\n",
    "            print(\"Percentile \"+str(k))\n",
    "            print(np.percentile(all_dists, k))\n",
    "        plt.hist([k/1000 for k in all_dists], bins=int(round(np.max([i/1000 for i in all_dists]))))\n",
    "        #plt.xlim([0, mean*100000/5])\n",
    "        plt.yticks([])\n",
    "        plt.yscale('log')\n",
    "        plt.xlabel(\"Distance between pairs (km)\")\n",
    "        plt.ylabel(\"Frequency (log scale)\")\n",
    "        plt.show()\n",
    "        alldists_2018=all_dists\n",
    "        numtasks2018=len(taskis)\n"
   ]
  },
  {
   "cell_type": "code",
   "execution_count": 14,
   "metadata": {},
   "outputs": [
    {
     "data": {
      "image/png": "[encoded data removed]",
      "text/plain": [
       "<Figure size 432x288 with 1 Axes>"
      ]
     },
     "metadata": {
      "needs_background": "light"
     },
     "output_type": "display_data"
    }
   ],
   "source": [
    "def getindex(arr, indi):\n",
    "    if math.floor(indi)==math.ceil(indi):return arr[int(indi)]\n",
    "    else:\n",
    "        avi=indi-math.floor(indi)\n",
    "        return (1-avi)*arr[int(indi)]+avi*arr[int(indi)+1]\n",
    "uu=\"all\"\n",
    "kk=300\n",
    "lb=0.9\n",
    "ub=1.1\n",
    "\n",
    "\n",
    "\n",
    "sortedt=sorted(all_dists)\n",
    "\n",
    "#sortedt=sorted([random.expovariate(0.4) for k in range(1000)])\n",
    "\n",
    "os=10000\n",
    "for k in range(os):\n",
    "    inti=(k*(len(sortedt)-1)/os)\n",
    "    \n",
    "    val=getindex(sortedt, inti)\n",
    "    \n",
    "    logi=np.log(1-k/(os))\n",
    "    \n",
    "    plt.scatter(val, logi, color=\"blue\", alpha=0.5)\n",
    "    \n",
    "\n",
    "plt.title(\"Real\")\n",
    "plt.show()\n",
    "\n"
   ]
  },
  {
   "cell_type": "code",
   "execution_count": null,
   "metadata": {},
   "outputs": [],
   "source": []
  }
 ],
 "metadata": {
  "kernelspec": {
   "display_name": "Python 3",
   "language": "python",
   "name": "python3"
  },
  "language_info": {
   "codemirror_mode": {
    "name": "ipython",
    "version": 3
   },
   "file_extension": ".py",
   "mimetype": "text/x-python",
   "name": "python",
   "nbconvert_exporter": "python",
   "pygments_lexer": "ipython3",
   "version": "3.7.7"
  }
 },
 "nbformat": 4,
 "nbformat_minor": 2
}
