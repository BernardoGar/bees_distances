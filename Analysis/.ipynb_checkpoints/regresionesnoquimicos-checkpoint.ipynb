{
 "cells": [
  {
   "cell_type": "code",
   "execution_count": 82,
   "metadata": {},
   "outputs": [],
   "source": [
    "import pandas as pd\n",
    "import numpy as np"
   ]
  },
  {
   "cell_type": "code",
   "execution_count": 83,
   "metadata": {},
   "outputs": [],
   "source": [
    "df=pd.read_csv(\"/Users/Bernardo/Downloads/Formoscoqueensinpink.csv\")"
   ]
  },
  {
   "cell_type": "code",
   "execution_count": 84,
   "metadata": {},
   "outputs": [],
   "source": [
    "df=df.set_index(\"Unnamed: 0\")\n",
    "df=df!=0\n"
   ]
  },
  {
   "cell_type": "code",
   "execution_count": 85,
   "metadata": {},
   "outputs": [],
   "source": [
    "col1=[]\n",
    "col2=[]\n",
    "for c in df.columns:\n",
    "    if c.find(\"Queen\")==0: \n",
    "        col1.append(c)\n",
    "    else: col2.append(c)"
   ]
  },
  {
   "cell_type": "code",
   "execution_count": 86,
   "metadata": {},
   "outputs": [],
   "source": [
    "%run /Users/Bernardo/Dropbox/libreriaBGBB.py"
   ]
  },
  {
   "cell_type": "code",
   "execution_count": 87,
   "metadata": {},
   "outputs": [
    {
     "data": {
      "text/plain": [
       "(array([0, 0, 0, 0, 0, 0, 0, 1, 0, 0, 0, 0, 0, 0, 0, 0, 0, 0, 0, 0, 0, 0,\n",
       "        1, 0, 0, 0, 0, 0, 0, 0]),\n",
       " array([1, 1, 1, 1, 1, 1, 1, 1, 1, 1, 1, 1, 1, 1, 0, 0, 0, 0, 0, 0, 0, 0,\n",
       "        0, 0, 0, 0, 0, 0, 0, 0]))"
      ]
     },
     "execution_count": 87,
     "metadata": {},
     "output_type": "execute_result"
    }
   ],
   "source": [
    "np.array([int(i) for i in allvals]), np.array(xs)"
   ]
  },
  {
   "cell_type": "code",
   "execution_count": 88,
   "metadata": {},
   "outputs": [
    {
     "data": {
      "text/html": [
       "<div>\n",
       "<style scoped>\n",
       "    .dataframe tbody tr th:only-of-type {\n",
       "        vertical-align: middle;\n",
       "    }\n",
       "\n",
       "    .dataframe tbody tr th {\n",
       "        vertical-align: top;\n",
       "    }\n",
       "\n",
       "    .dataframe thead th {\n",
       "        text-align: right;\n",
       "    }\n",
       "</style>\n",
       "<table border=\"1\" class=\"dataframe\">\n",
       "  <thead>\n",
       "    <tr style=\"text-align: right;\">\n",
       "      <th></th>\n",
       "      <th>0</th>\n",
       "      <th>1</th>\n",
       "      <th>2</th>\n",
       "      <th>3</th>\n",
       "      <th>4</th>\n",
       "      <th>5</th>\n",
       "      <th>6</th>\n",
       "      <th>7</th>\n",
       "      <th>8</th>\n",
       "      <th>9</th>\n",
       "      <th>...</th>\n",
       "      <th>20</th>\n",
       "      <th>21</th>\n",
       "      <th>22</th>\n",
       "      <th>23</th>\n",
       "      <th>24</th>\n",
       "      <th>25</th>\n",
       "      <th>26</th>\n",
       "      <th>27</th>\n",
       "      <th>28</th>\n",
       "      <th>29</th>\n",
       "    </tr>\n",
       "  </thead>\n",
       "  <tbody>\n",
       "    <tr>\n",
       "      <th>0</th>\n",
       "      <td>1</td>\n",
       "      <td>1</td>\n",
       "      <td>1</td>\n",
       "      <td>1</td>\n",
       "      <td>1</td>\n",
       "      <td>1</td>\n",
       "      <td>1</td>\n",
       "      <td>1</td>\n",
       "      <td>1</td>\n",
       "      <td>1</td>\n",
       "      <td>...</td>\n",
       "      <td>0</td>\n",
       "      <td>0</td>\n",
       "      <td>0</td>\n",
       "      <td>0</td>\n",
       "      <td>0</td>\n",
       "      <td>0</td>\n",
       "      <td>0</td>\n",
       "      <td>0</td>\n",
       "      <td>0</td>\n",
       "      <td>0</td>\n",
       "    </tr>\n",
       "  </tbody>\n",
       "</table>\n",
       "<p>1 rows × 30 columns</p>\n",
       "</div>"
      ],
      "text/plain": [
       "   0   1   2   3   4   5   6   7   8   9   ...  20  21  22  23  24  25  26  \\\n",
       "0   1   1   1   1   1   1   1   1   1   1  ...   0   0   0   0   0   0   0   \n",
       "\n",
       "   27  28  29  \n",
       "0   0   0   0  \n",
       "\n",
       "[1 rows x 30 columns]"
      ]
     },
     "execution_count": 88,
     "metadata": {},
     "output_type": "execute_result"
    }
   ],
   "source": [
    "pd.DataFrame(np.matrix(xs), )"
   ]
  },
  {
   "cell_type": "code",
   "execution_count": 96,
   "metadata": {
    "scrolled": true
   },
   "outputs": [],
   "source": [
    "listaregs=[]\n",
    "ovals=[]\n",
    "for k in df.iterrows():\n",
    "    vals1=[k[1][c] for c in col1]\n",
    "    vals2=[k[1][c] for c in col2]\n",
    "    allvals=vals1+vals2\n",
    "    xs=[1 for i in col1]+[0 for i in col2]\n",
    "    nl=[]\n",
    "    for a, b in zip(allvals, xs):\n",
    "        nd={\"Y\":a, \"Constant\":1, \"Queen\":b}\n",
    "        nl.append(nd)\n",
    "    dfaux=pd.DataFrame(nl)\n",
    "    pkval=np.nan\n",
    "    if (np.mean(allvals)!=0) & (np.mean(allvals)!=1): \n",
    "        r=OLS( dfaux[\"Y\"],dfaux[[\"Constant\", \"Queen\"]]).fit()\n",
    "        if r.pvalues[\"Queen\"]<0.01:\n",
    "            listaregs=savereg(listaregs, r, name=\"OLS\", depvar=\"chem\"+str(k[0]))\n",
    "        pkval=r.pvalues[\"Queen\"]\n",
    "    ovals.append(pkval)"
   ]
  },
  {
   "cell_type": "code",
   "execution_count": 92,
   "metadata": {},
   "outputs": [
    {
     "data": {
      "text/markdown": [
       "|.|OLS|OLS|OLS|OLS|OLS|OLS|OLS|OLS|OLS|OLS|OLS|OLS|OLS|OLS|OLS|OLS|OLS|OLS|OLS|OLS|\n",
       "|---|---|---|---|---|---|---|---|---|---|---|---|---|---|---|---|---|---|---|---|---|\n",
       "|<b>Dependent variable|<b>chem20|<b>chem42|<b>chem68|<b>chem78|<b>chem79|<b>chem162|<b>chem225|<b>chem235|<b>chem242|<b>chem318|<b>chem321|<b>chem388|<b>chem390|<b>chem401|<b>chem812|<b>chem827|<b>chem891|<b>chem893|<b>chem902|<b>chem909|\n",
       "|Constant|0.062|0.0|0.562***|0.0|0.562***|0.062|0.438***|0.312**|0.312**|0.438***|0.438***|0.562***|0.375**|0.375**|0.125|0.062|0.0|0.0|0.0|0.0|\n",
       "|SE|(0.061)|(0.0)|(0.124)|(0.0)|(0.124)|(0.061)|(0.124)|(0.116)|(0.116)|(0.124)|(0.124)|(0.124)|(0.121)|(0.121)|(0.083)|(0.061)|(0.0)|(0.0)|(0.0)|(0.0)|\n",
       "|Queen|0.509***|0.571***|-0.42**|0.571***|-0.42**|0.509***|-0.366**|-0.312**|-0.312**|-0.438***|-0.438***|-0.42**|0.482**|-0.375**|0.446**|0.438**|0.429**|0.357**|0.357**|0.357**|\n",
       "|SE|(0.145)|(0.132)|(0.155)|(0.132)|(0.155)|(0.145)|(0.142)|(0.116)|(0.116)|(0.124)|(0.124)|(0.155)|(0.153)|(0.121)|(0.156)|(0.147)|(0.132)|(0.128)|(0.128)|(0.128)|\n",
       "|---|---|---|---|---|---|---|---|---|---|---|---|---|---|---|---|---|---|---|---|---|\n",
       "|<b> rsq|0.307|0.416|0.189|0.416|0.189|0.307|0.171|0.175|0.175|0.266|0.266|0.189|0.241|0.219|0.223|0.244|0.286|0.229|0.229|0.229|\n",
       "|<b> N|30|30|30|30|30|30|30|30|30|30|30|30|30|30|30|30|30|30|30|30|"
      ],
      "text/plain": [
       "<IPython.core.display.Markdown object>"
      ]
     },
     "metadata": {},
     "output_type": "display_data"
    }
   ],
   "source": [
    "printregs(listaregs )"
   ]
  },
  {
   "cell_type": "code",
   "execution_count": 97,
   "metadata": {},
   "outputs": [],
   "source": [
    "df[\"pvals\"]=ovals"
   ]
  },
  {
   "cell_type": "code",
   "execution_count": 100,
   "metadata": {},
   "outputs": [],
   "source": [
    "df.to_csv(\"withpvals.csv\")"
   ]
  },
  {
   "cell_type": "code",
   "execution_count": 101,
   "metadata": {},
   "outputs": [],
   "source": [
    "import seaborn as sns"
   ]
  },
  {
   "cell_type": "code",
   "execution_count": 115,
   "metadata": {},
   "outputs": [],
   "source": [
    "allcols=sorted(col1+col2)\n",
    "nm=[]\n",
    "for bee in allcols:\n",
    "    nl=[]\n",
    "    for bee2 in allcols:\n",
    "        if bee==bee2:\n",
    "            sim=1\n",
    "        else:\n",
    "            suma=np.sum([int(k>0) for k in df[bee]+df[bee2]])\n",
    "            inter=np.sum([int(k>0) for k in df[bee]*df[bee2]])\n",
    "            sim=inter/suma\n",
    "        nl.append(sim)\n",
    "    nm.append(nl)\n",
    "            "
   ]
  },
  {
   "cell_type": "code",
   "execution_count": 122,
   "metadata": {},
   "outputs": [],
   "source": [
    "import seaborn as sns\n",
    "import matplotlib.pyplot as plt"
   ]
  },
  {
   "cell_type": "code",
   "execution_count": 129,
   "metadata": {},
   "outputs": [
    {
     "data": {
      "text/plain": [
       "<AxesSubplot:>"
      ]
     },
     "execution_count": 129,
     "metadata": {},
     "output_type": "execute_result"
    },
    {
     "data": {
      "image/png": "[encoded data removed]",
      "text/plain": [
       "<Figure size 720x720 with 2 Axes>"
      ]
     },
     "metadata": {
      "needs_background": "light"
     },
     "output_type": "display_data"
    }
   ],
   "source": [
    "plt.figure(figsize=(10,10))\n",
    "sns.heatmap(nm, yticklabels=allcols, xticklabels=allcols, cmap=\"YlGnBu\", vmax=0.5)"
   ]
  },
  {
   "cell_type": "code",
   "execution_count": 149,
   "metadata": {},
   "outputs": [],
   "source": [
    "neworder=[allcols[0]]\n",
    "while len(neworder)<len(allcols):\n",
    "    maxi=-1\n",
    "    gan=\"\"\n",
    "    for a in allcols:\n",
    "        if a not in neworder:\n",
    "            for p in neworder:\n",
    "                r = nm[allcols.index(a)][allcols.index(p)]\n",
    "                if maxi<r: \n",
    "                    maxi=r\n",
    "                    gan=a\n",
    "    neworder.append(gan)\n",
    "    \n",
    "nm2=[]\n",
    "for k in neworder:\n",
    "    nl2=[]\n",
    "    for s in neworder:\n",
    "        nl2.append(nm[allcols.index(k)][allcols.index(s)])\n",
    "    nm2.append(nl2)"
   ]
  },
  {
   "cell_type": "code",
   "execution_count": 150,
   "metadata": {},
   "outputs": [
    {
     "data": {
      "text/plain": [
       "<AxesSubplot:>"
      ]
     },
     "execution_count": 150,
     "metadata": {},
     "output_type": "execute_result"
    },
    {
     "data": {
      "image/png": "[encoded data removed]",
      "text/plain": [
       "<Figure size 720x720 with 2 Axes>"
      ]
     },
     "metadata": {
      "needs_background": "light"
     },
     "output_type": "display_data"
    }
   ],
   "source": [
    "plt.figure(figsize=(10,10))\n",
    "sns.heatmap(nm, yticklabels=neworder, xticklabels=neworder, cmap=\"YlGnBu\", vmax=0.5)"
   ]
  },
  {
   "cell_type": "code",
   "execution_count": null,
   "metadata": {},
   "outputs": [],
   "source": []
  },
  {
   "cell_type": "code",
   "execution_count": null,
   "metadata": {},
   "outputs": [],
   "source": []
  },
  {
   "cell_type": "code",
   "execution_count": null,
   "metadata": {},
   "outputs": [],
   "source": []
  },
  {
   "cell_type": "code",
   "execution_count": null,
   "metadata": {},
   "outputs": [],
   "source": []
  },
  {
   "cell_type": "code",
   "execution_count": 168,
   "metadata": {},
   "outputs": [
    {
     "data": {
      "text/plain": [
       "2"
      ]
     },
     "execution_count": 168,
     "metadata": {},
     "output_type": "execute_result"
    }
   ],
   "source": [
    "2"
   ]
  },
  {
   "cell_type": "code",
   "execution_count": null,
   "metadata": {},
   "outputs": [],
   "source": []
  },
  {
   "cell_type": "code",
   "execution_count": null,
   "metadata": {},
   "outputs": [],
   "source": []
  },
  {
   "cell_type": "code",
   "execution_count": null,
   "metadata": {},
   "outputs": [],
   "source": []
  },
  {
   "cell_type": "code",
   "execution_count": 151,
   "metadata": {},
   "outputs": [],
   "source": [
    "x2=[-5, 0, 2, 3]\n",
    "ys=[-10, 3, 11, 14]"
   ]
  },
  {
   "cell_type": "code",
   "execution_count": null,
   "metadata": {},
   "outputs": [],
   "source": [
    "from matplotlib.pyplo"
   ]
  },
  {
   "cell_type": "code",
   "execution_count": 153,
   "metadata": {},
   "outputs": [
    {
     "data": {
      "text/plain": [
       "<matplotlib.collections.PathCollection at 0x11598e690>"
      ]
     },
     "execution_count": 153,
     "metadata": {},
     "output_type": "execute_result"
    },
    {
     "data": {
      "image/png": "[encoded data removed]",
      "text/plain": [
       "<Figure size 432x288 with 1 Axes>"
      ]
     },
     "metadata": {
      "needs_background": "light"
     },
     "output_type": "display_data"
    }
   ],
   "source": [
    "plt.scatter(x2, ys)"
   ]
  },
  {
   "cell_type": "code",
   "execution_count": 154,
   "metadata": {},
   "outputs": [
    {
     "data": {
      "text/plain": [
       "array([[ 12.66666667,  38.        ],\n",
       "       [ 38.        , 115.        ]])"
      ]
     },
     "execution_count": 154,
     "metadata": {},
     "output_type": "execute_result"
    }
   ],
   "source": [
    "np.cov(x2, ys)"
   ]
  },
  {
   "cell_type": "code",
   "execution_count": 158,
   "metadata": {},
   "outputs": [
    {
     "data": {
      "text/plain": [
       "2.999999999210526"
      ]
     },
     "execution_count": 158,
     "metadata": {},
     "output_type": "execute_result"
    }
   ],
   "source": [
    "38./12.66666667"
   ]
  },
  {
   "cell_type": "code",
   "execution_count": 165,
   "metadata": {},
   "outputs": [
    {
     "data": {
      "text/plain": [
       "4.5"
      ]
     },
     "execution_count": 165,
     "metadata": {},
     "output_type": "execute_result"
    }
   ],
   "source": [
    "np.mean([x - y for x, y in zip(x2, ys)])"
   ]
  },
  {
   "cell_type": "code",
   "execution_count": 167,
   "metadata": {},
   "outputs": [
    {
     "data": {
      "text/plain": [
       "[-180, -3, 65, 100]"
      ]
     },
     "execution_count": 167,
     "metadata": {},
     "output_type": "execute_result"
    }
   ],
   "source": [
    "[38*x - y for x, y in zip(x2, ys)]"
   ]
  },
  {
   "cell_type": "code",
   "execution_count": null,
   "metadata": {},
   "outputs": [],
   "source": []
  },
  {
   "cell_type": "code",
   "execution_count": 102,
   "metadata": {},
   "outputs": [
    {
     "data": {
      "text/plain": [
       "['Queen0',\n",
       " 'Queen8',\n",
       " 'Queen0.1',\n",
       " 'Queen11',\n",
       " 'Queen9',\n",
       " 'Queen10',\n",
       " 'Queen13 ',\n",
       " 'Queen8.1',\n",
       " 'Queen5',\n",
       " 'Queen6',\n",
       " 'Queen23',\n",
       " 'Queen9.1',\n",
       " 'Queen5.1',\n",
       " 'Queen7']"
      ]
     },
     "execution_count": 102,
     "metadata": {},
     "output_type": "execute_result"
    }
   ],
   "source": [
    "col1"
   ]
  },
  {
   "cell_type": "code",
   "execution_count": 104,
   "metadata": {},
   "outputs": [
    {
     "data": {
      "text/plain": [
       "['Male0',\n",
       " 'Male0.1',\n",
       " 'Male0.2',\n",
       " 'Male0.3',\n",
       " 'Male14',\n",
       " 'Male14.1',\n",
       " 'Male14.2',\n",
       " 'Male14.3',\n",
       " 'Worker0',\n",
       " 'Worker0.1',\n",
       " 'Worker0.2',\n",
       " 'Worker0.3',\n",
       " 'Worker14',\n",
       " 'Worker14.1',\n",
       " 'Worker14.2',\n",
       " 'Worker14.3']"
      ]
     },
     "execution_count": 104,
     "metadata": {},
     "output_type": "execute_result"
    }
   ],
   "source": [
    "sorted(col2)"
   ]
  },
  {
   "cell_type": "code",
   "execution_count": null,
   "metadata": {},
   "outputs": [],
   "source": []
  }
 ],
 "metadata": {
  "kernelspec": {
   "display_name": "Python 3",
   "language": "python",
   "name": "python3"
  },
  "language_info": {
   "codemirror_mode": {
    "name": "ipython",
    "version": 3
   },
   "file_extension": ".py",
   "mimetype": "text/x-python",
   "name": "python",
   "nbconvert_exporter": "python",
   "pygments_lexer": "ipython3",
   "version": "3.7.7"
  }
 },
 "nbformat": 4,
 "nbformat_minor": 4
}
