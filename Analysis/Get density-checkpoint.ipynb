{
 "cells": [
  {
   "cell_type": "code",
   "execution_count": 66,
   "metadata": {},
   "outputs": [],
   "source": [
    "def get_connection():\n",
    "    return pymysql.connect(host='ec2-18-218-242-195.us-east-2.compute.amazonaws.com',\n",
    "                             user='root',\n",
    "                             password='password',\n",
    "                             db='dbname',\n",
    "                             charset='utf8mb4',\n",
    "                             cursorclass=pymysql.cursors.DictCursor)\n",
    "        "
   ]
  },
  {
   "cell_type": "code",
   "execution_count": 5,
   "metadata": {},
   "outputs": [],
   "source": [
    "%run libreria.py\n",
    "%matplotlib inline\n",
    "import matplotlib.pyplot as plt\n",
    "import numpy as np\n",
    "import utm\n",
    "import pandas as pd\n",
    "import math\n",
    "from matplotlib.pyplot import figure\n",
    "from matplotlib import cm as CM\n",
    "from matplotlib import mlab as ML\n",
    "import pymysql\n",
    "\n",
    "def distancia_genetica_corregida(a, b, distribution, N_mam=269):\n",
    "    P_A1_a1=1\n",
    "    P_A2_a2=1\n",
    "    P_A2_a2_hermano_a2=1\n",
    "    for alele in distribution:\n",
    "        P_A1_a1=P_A1_a1*(distribution[alele][a[alele]])\n",
    "        P_A2_a2=P_A2_a2*(distribution[alele][b[alele]])\n",
    "        # La probabilidad abajo es: si son iguales, es 1/2 (si vino de la misma columna alelo) + (1/2)*prob_del_alelo si vino de distinta columna, pero si \n",
    "        # son distintos son 1/2 * probabilidad de ese alelo. \n",
    "        P_A2_a2_hermano_a2=P_A2_a2_hermano_a2*((1/2)*int(a[alele]==b[alele])+(1/2)*distribution[alele][b[alele]])\n",
    "    P_A1_A2_distinta_mama=P_A1_a1*P_A2_a2\n",
    "    P_A1_A2_misma_mama=P_A1_a1*P_A2_a2_hermano_a2\n",
    "    return (1/(1+(N_mam-1)*P_A1_A2_distinta_mama/P_A1_A2_misma_mama))\n",
    "    \n",
    "\n",
    "\n",
    "    \n",
    "import random\n",
    "d2=0\n",
    "connection=get_connection()\n",
    "\n",
    "with connection.cursor() as cursor:\n",
    "    sql=\"select * from tasks_abejas where task_id>119271 and task_completed>0\"\n",
    "    cursor.execute(sql)\n",
    "    res=cursor.fetchall()\n",
    "connection.close()\n",
    "\n",
    "\n",
    "\n",
    "curvas=pd.DataFrame(res)\n",
    "\n",
    "curvas[\"bootstrap\"]=[eval(aa)[\"bootstrap\"] for aa in curvas[\"task_params\"]]\n",
    "curvas[\"N_mam\"]=[eval(aa)[\"N_mam\"] for aa in curvas[\"task_params\"]]\n",
    "curvas[\"urban\"]=[eval(aa)[\"urban\"] for aa in curvas[\"task_params\"]]\n",
    "curvas[\"rural\"]=[eval(aa)[\"rural\"] for aa in curvas[\"task_params\"]]\n",
    "curvas[\"min_dist\"]=[eval(aa).get(\"min_dist\", 1) for aa in curvas[\"task_params\"]]\n",
    "curvas[\"lambda\"]=[eval(aa)[\"params\"][\"lambd\"] for aa in curvas[\"task_params\"]]\n",
    "curvas[\"exp_mean\"]=1/curvas[\"lambda\"]\n",
    "\n",
    "\n"
   ]
  },
  {
   "cell_type": "code",
   "execution_count": 6,
   "metadata": {},
   "outputs": [
    {
     "data": {
      "text/plain": [
       "'{\"num_abejas\":3000, \"bootstrap\":96, \"randomfun\":random.expovariate, \"params\":{\"lambd\":0.172}, \"d2\":d2, \"min_dist\":20, \"N_mam\":570, \"urban\":True, \"rural\":True, \"weird_coords\":True, \"year\":2017, \"distance_cert\":False, \"margin\":15}'"
      ]
     },
     "execution_count": 6,
     "metadata": {},
     "output_type": "execute_result"
    }
   ],
   "source": [
    "list(curvas[\"task_params\"])[-3]"
   ]
  },
  {
   "cell_type": "code",
   "execution_count": 10,
   "metadata": {},
   "outputs": [],
   "source": [
    "curvas[\"year\"]=[eval(i).get(\"year\", np.nan) for i in curvas[\"task_params\"]]"
   ]
  },
  {
   "cell_type": "code",
   "execution_count": 11,
   "metadata": {},
   "outputs": [
    {
     "data": {
      "text/plain": [
       "2018         14800\n",
       "2017         14253\n",
       "QL            8911\n",
       "kuringbai     3158\n",
       "Name: year, dtype: int64"
      ]
     },
     "execution_count": 11,
     "metadata": {},
     "output_type": "execute_result"
    }
   ],
   "source": [
    "curvas[\"year\"].value_counts()"
   ]
  },
  {
   "cell_type": "code",
   "execution_count": 20,
   "metadata": {},
   "outputs": [
    {
     "data": {
      "text/plain": [
       "SYD2017FIN             7626\n",
       "SYD2018FIN             7590\n",
       "SYD2017FIN2            6627\n",
       "cathcmentSYD2018Res    3984\n",
       "cathcmentSYD2018       3226\n",
       "fixeddensity3SepM10     300\n",
       "Name: batchname, dtype: int64"
      ]
     },
     "execution_count": 20,
     "metadata": {},
     "output_type": "execute_result"
    }
   ],
   "source": [
    "curvas.batchname.value_counts()"
   ]
  },
  {
   "cell_type": "code",
   "execution_count": 137,
   "metadata": {},
   "outputs": [],
   "source": [
    "takss=list(set(curvas[curvas.year==2018][\"task_id\"]))"
   ]
  },
  {
   "cell_type": "code",
   "execution_count": 138,
   "metadata": {},
   "outputs": [],
   "source": [
    "connection=get_connection()\n",
    "\n",
    "with connection.cursor() as cursor:\n",
    "    sql=\"select distinct task_id, total from familias_abejas_conteo where task_id in (\"+\", \".join([str(j) for j in takss])+\")\"\n",
    "    cursor.execute(sql)\n",
    "    res=cursor.fetchall()\n",
    "connection.close()\n",
    "\n"
   ]
  },
  {
   "cell_type": "code",
   "execution_count": 139,
   "metadata": {},
   "outputs": [],
   "source": [
    "finn=curvas.set_index(\"task_id\").join(pd.DataFrame(res).set_index(\"task_id\"), how=\"inner\")"
   ]
  },
  {
   "cell_type": "code",
   "execution_count": 140,
   "metadata": {},
   "outputs": [
    {
     "data": {
      "image/png": "[encoded data removed]",
      "text/plain": [
       "<Figure size 432x288 with 1 Axes>"
      ]
     },
     "metadata": {
      "needs_background": "light"
     },
     "output_type": "display_data"
    }
   ],
   "source": [
    " ## Sydney\n",
    "familias=sorted(list(set(finn[finn.min_dist==1][\"N_mam\"])))\n",
    "for fam in familias:\n",
    "    if fam!=475:\n",
    "        fami=finn[(finn.N_mam==fam) & (finn.min_dist==1) & (~pd.isna(finn.total))]\n",
    "        xs=sorted(list(set(fami[\"exp_mean\"])))\n",
    "        ys=[]\n",
    "        for x in xs:\n",
    "            ys.append(fami[fami.exp_mean==x][\"total\"].mean())\n",
    "        plt.plot(xs, ys, label=fam)\n",
    "    \n",
    "plt.legend()\n",
    "plt.ylabel(\"Number of colonies in area\")\n",
    "plt.xlabel(\"Mean flight of male bee\")\n",
    "plt.ylim([0,5000])\n",
    "plt.savefig(\"colonies_by_flight.pdf\")\n"
   ]
  },
  {
   "cell_type": "code",
   "execution_count": 117,
   "metadata": {},
   "outputs": [
    {
     "data": {
      "image/png": "[encoded data removed]",
      "text/plain": [
       "<Figure size 432x288 with 1 Axes>"
      ]
     },
     "metadata": {
      "needs_background": "light"
     },
     "output_type": "display_data"
    }
   ],
   "source": [
    "## QUeensland\n",
    "familias=sorted(list(set(finn[finn.min_dist==1][\"N_mam\"])))\n",
    "for fam in familias:\n",
    "    if fam!=475:\n",
    "        fami=finn[(finn.N_mam==fam) & (finn.min_dist==1)]\n",
    "        xs=sorted(list(set(fami[\"exp_mean\"])))\n",
    "        ys=[]\n",
    "        for x in xs:\n",
    "            ys.append(fami[fami.exp_mean==x][\"total\"].mean())\n",
    "        plt.plot(xs, ys, label=fam)\n",
    "    \n",
    "plt.legend()\n",
    "plt.ylabel(\"Number of colonies in area\")\n",
    "plt.xlabel(\"Mean flight of male bee\")\n",
    "plt.ylim([0,5000])\n",
    "plt.savefig(\"colonies_by_flight.pdf\")\n"
   ]
  },
  {
   "cell_type": "code",
   "execution_count": 54,
   "metadata": {},
   "outputs": [
    {
     "data": {
      "text/plain": [
       "<Figure size 432x288 with 0 Axes>"
      ]
     },
     "metadata": {},
     "output_type": "display_data"
    }
   ],
   "source": [
    "%run /Users/Bernardo/Desktop/Desktop2020-Mayo2021/bees/libreria.py"
   ]
  },
  {
   "cell_type": "code",
   "execution_count": 141,
   "metadata": {},
   "outputs": [],
   "source": [
    "urban=True\n",
    "rural=True\n",
    "weird_coords=True\n",
    "N_mam=269\n",
    "year=2018\n",
    "min_dist=20\n",
    "distance_cert=True\n",
    "nmam_lim=True,\n",
    "seedlim=0\n",
    "margin=10"
   ]
  },
  {
   "cell_type": "code",
   "execution_count": 142,
   "metadata": {},
   "outputs": [
    {
     "name": "stdout",
     "output_type": "stream",
     "text": [
      "Min dist 20\n",
      "Min dist 1.0993310318970086\n",
      "(23.49738509461173, -24.450155223122273, 30.433487495289185, -33.404934066544286)\n"
     ]
    }
   ],
   "source": [
    "starttime=time.time()\n",
    "year=2018\n",
    "#get basic information and variables\n",
    "if year==2018:\n",
    "    if rural and urban: \n",
    "        f=open(\"/Users/Bernardo/Desktop/Desktop2020-Mayo2021/bees/distribution.txt\", \"r\")\n",
    "        dict=f.read()\n",
    "        f.close()\n",
    "        distribution=eval(dict)\n",
    "        tot_abejas=2118\n",
    "    if rural and (not urban):\n",
    "        f=open(\"/Users/Bernardo/Desktop/Desktop2020-Mayo2021/bees/distribution_rural.txt\", \"r\")\n",
    "        dict=f.read()\n",
    "        f.close()\n",
    "        distribution=eval(dict)\n",
    "        tot_abejas=1197\n",
    "    if urban and (not rural):\n",
    "        f=open(\"/Users/Bernardo/Desktop/Desktop2020-Mayo2021/bees/distribution_urban.txt\", \"r\")\n",
    "        dict=f.read()\n",
    "        f.close()\n",
    "        distribution=eval(dict)\n",
    "        tot_abejas=729\n",
    "    other_coords=['Caringbah', 'Parramatta', 'Strickland']\n",
    "    urban_coords=[\"Marrickville\", \"Surry Hills\", \"Camperdown\", \"Asheville\", \"Balgowlah \"]\n",
    "    rural_coords=[\"Jannali\", \"Sutherland\", \"Manley\", \"Lindfield\", \"Gordon\", \"Palmbeach\", \"Stives\"]\n",
    "    locations, coordenadas, distance_national_park=get_loc_coords_dnp()\n",
    "\n",
    "if year==\"kuringbai\":\n",
    "    urban_coords=[]\n",
    "    rural_coords=[]\n",
    "    locations, coordenadas, distance_national_park=get_loc_coords_dnp()\n",
    "    other_coords=[\"Lindfield\", \"Gordon\", \"Stives\"]\n",
    "    f=open(\"/Users/Bernardo/Desktop/Desktop2020-Mayo2021/bees/distribution_kuringbai.txt\", \"r\")\n",
    "    dict=f.read()\n",
    "    f.close()\n",
    "    distribution=eval(dict)\n",
    "    tot_abejas=480\n",
    "\n",
    "if year==2017:\n",
    "    urban_coords=[]\n",
    "    rural_coords=[]\n",
    "    coordenadas=get_coords_2017()\n",
    "    other_coords=[i for i in coordenadas]\n",
    "    f=open(\"/Users/Bernardo/Desktop/Desktop2020-Mayo2021/bees/distribution_2017.txt\", \"r\")\n",
    "    dict=f.read()\n",
    "    f.close()\n",
    "    distribution=eval(dict)\n",
    "    tot_abejas=1342\n",
    "\n",
    "if year==\"QL\":\n",
    "    urban_coords=[]\n",
    "    rural_coords=[]\n",
    "    coordenadas=get_coords_QL()\n",
    "    other_coords=[i for i in coordenadas]\n",
    "    f=open(\"/Users/Bernardo/Desktop/Desktop2020-Mayo2021/bees/distribution_QL.txt\", \"r\")\n",
    "    dict=f.read()\n",
    "    f.close()\n",
    "    distribution=eval(dict)\n",
    "    tot_abejas=1522\n",
    "\n",
    "\n",
    "\n",
    "xaxis  = [utm.from_latlon(coordenadas[l][0],coordenadas[l][1])[0]  for l in coordenadas]\n",
    "yaxis =  [utm.from_latlon(coordenadas[l][0],coordenadas[l][1])[1] for l in coordenadas]\n",
    "medy  =  np.mean(yaxis)\n",
    "medx  =  np.mean(xaxis)\n",
    "\n",
    "if year==2017:\n",
    "    _, coordenadasalt, _=get_loc_coords_dnp()\n",
    "    xaxis2  = [utm.from_latlon(coordenadasalt[l][0],coordenadasalt[l][1])[0]  for l in coordenadasalt]\n",
    "    yaxis2 =  [utm.from_latlon(coordenadasalt[l][0],coordenadasalt[l][1])[1] for l in coordenadasalt]\n",
    "    medy  =  np.mean(yaxis2)\n",
    "    medx  =  np.mean(xaxis2)\n",
    "\n",
    "xaxis  = [to_xy((coordenadas[l][0],coordenadas[l][1]))[0]  for l in coordenadas]\n",
    "yaxis = [to_xy((coordenadas[l][0],coordenadas[l][1]))[1] for l in coordenadas]\n",
    "medy2  =  np.mean(yaxis)\n",
    "medx2  =  np.mean(xaxis)\n",
    "\n",
    "information={}\n",
    "\n",
    "\n",
    "\n",
    "for k in coordenadas:\n",
    "    if k not in urban_coords+rural_coords+other_coords: \n",
    "        if year!=\"kuringbai\": print(7/0)\n",
    "        else: print(k+\" excluded\")\n",
    "    if ((urban==True) and (k in urban_coords)) or ((rural==True) and (k in rural_coords)) or (((rural==True) and (urban==True)) and k in (rural_coords+urban_coords+other_coords)):\n",
    "        information[k]={}\n",
    "        information[k][\"coordenadas\"]=coordenadas[k]\n",
    "        utm_val=utm.from_latlon(coordenadas[k][0], coordenadas[k][1])\n",
    "        information[k][\"utm_xy\"]=((utm_val[0]-medx)/1000, (utm_val[1]-medy)/1000)\n",
    "        xy_val=to_xy(coordenadas[k])\n",
    "        information[k][\"alt_xy\"]=((xy_val[0]-medx2)/1000, (xy_val[1]-medy2)/1000)\n",
    "\n",
    "\n",
    "list_cor=list(pd.DataFrame(information ).loc[\"utm_xy\"])\n",
    "list_cor_keys=list(pd.DataFrame(information).transpose().index)\n",
    "utm_xs=[i[0] for i in list_cor]\n",
    "utm_ys=[i[1] for i in list_cor]\n",
    "xs_max=np.max(utm_xs)+margin\n",
    "xs_min=np.min(utm_xs)-margin\n",
    "ys_max=np.max(utm_ys)+margin\n",
    "ys_min=np.min(utm_ys)-margin\n",
    "print(\"Min dist \"+str(min_dist))\n",
    "for k in range(len(list_cor)-1):\n",
    "    for j in range(k+1, len(list_cor)):\n",
    "        a=euclidean_dist(list_cor[k], list_cor[j])\n",
    "        if a<min_dist: \n",
    "            min_dist=a\n",
    "print(\"Min dist \"+str(min_dist))\n",
    "\n",
    "start=time.time()\n",
    "min_dist_2=min_dist/2\n",
    "pi2=2*math.pi\n",
    "r1=(xs_max-xs_min)\n",
    "r2=(ys_max-ys_min)\n",
    "print((xs_max, xs_min, ys_max, ys_min))\n",
    "\n",
    "\n",
    "distancias=[]\n",
    "distancias_cert=[]\n",
    "i=0\n",
    "flag=0\n",
    "seed=0\n",
    "random_from_flow=1\n",
    "nv=(1/random_from_flow)\n",
    "xs_min, ys_min, r1, r2, medx, medy = get_geodata(coordenadas, margin, year)\n",
    "\n"
   ]
  },
  {
   "cell_type": "code",
   "execution_count": 86,
   "metadata": {
    "scrolled": true
   },
   "outputs": [],
   "source": [
    "d2=get_d2()\n"
   ]
  },
  {
   "cell_type": "code",
   "execution_count": 122,
   "metadata": {},
   "outputs": [],
   "source": [
    "letter=\"H\"\n",
    "if year==\"QL\": letter=\"J\"\n",
    "        \n",
    "\n",
    "lands=[]\n",
    "for p in range(10000):\n",
    "    loc_familia=(xs_min+random.random()*r1, ys_min+random.random()*r2)\n",
    "    land=(not consult_loc(loc_familia, medx, medy, d2, letter))\n",
    "    lands.append(land)"
   ]
  },
  {
   "cell_type": "code",
   "execution_count": 143,
   "metadata": {},
   "outputs": [
    {
     "name": "stdout",
     "output_type": "stream",
     "text": [
      "0.5686\n",
      "1740.4250628358916\n",
      "0.5220546493193033\n",
      "25.5701448717532\n"
     ]
    }
   ],
   "source": [
    "#syd\n",
    "print(np.mean(lands))\n",
    "print(r1*r2*np.mean(lands))\n",
    "print(1000/(1915.508273518644))\n",
    "print((1000/(1915.508273518644))/((0.05**2)*math.pi/(min_dist**2)*math.pi))\n"
   ]
  },
  {
   "cell_type": "code",
   "execution_count": 127,
   "metadata": {},
   "outputs": [
    {
     "data": {
      "text/plain": [
       "0.5220546493193033"
      ]
     },
     "execution_count": 127,
     "metadata": {},
     "output_type": "execute_result"
    }
   ],
   "source": [
    "1000/(1915.508273518644)"
   ]
  },
  {
   "cell_type": "code",
   "execution_count": 134,
   "metadata": {},
   "outputs": [
    {
     "name": "stdout",
     "output_type": "stream",
     "text": [
      "0.5686\n",
      "3239.095021330332\n",
      "0.6174564150879951\n",
      "30.2429065738226\n"
     ]
    }
   ],
   "source": [
    "#QL\n",
    "print(np.mean(lands))\n",
    "print(r1*r2*np.mean(lands))\n",
    "print(2000/(3239.095021330332))\n",
    "print((2000/(3239.095021330332))/((0.05**2)*math.pi/(min_dist**2)*math.pi))\n"
   ]
  },
  {
   "cell_type": "code",
   "execution_count": null,
   "metadata": {},
   "outputs": [],
   "source": []
  },
  {
   "cell_type": "code",
   "execution_count": 126,
   "metadata": {},
   "outputs": [
    {
     "data": {
      "text/plain": [
       "0.6174564150879951"
      ]
     },
     "execution_count": 126,
     "metadata": {},
     "output_type": "execute_result"
    }
   ],
   "source": []
  },
  {
   "cell_type": "code",
   "execution_count": 75,
   "metadata": {},
   "outputs": [
    {
     "data": {
      "text/plain": [
       "2493.305057828565"
      ]
     },
     "execution_count": 75,
     "metadata": {},
     "output_type": "execute_result"
    }
   ],
   "source": [
    "r1*r2"
   ]
  },
  {
   "cell_type": "code",
   "execution_count": 74,
   "metadata": {},
   "outputs": [
    {
     "data": {
      "text/plain": [
       "1.0"
      ]
     },
     "execution_count": 74,
     "metadata": {},
     "output_type": "execute_result"
    }
   ],
   "source": []
  },
  {
   "cell_type": "code",
   "execution_count": null,
   "metadata": {},
   "outputs": [],
   "source": []
  },
  {
   "cell_type": "code",
   "execution_count": null,
   "metadata": {},
   "outputs": [],
   "source": [
    "dic_water=d2"
   ]
  },
  {
   "cell_type": "code",
   "execution_count": null,
   "metadata": {},
   "outputs": [],
   "source": []
  },
  {
   "cell_type": "code",
   "execution_count": null,
   "metadata": {},
   "outputs": [],
   "source": []
  },
  {
   "cell_type": "code",
   "execution_count": null,
   "metadata": {},
   "outputs": [],
   "source": []
  },
  {
   "cell_type": "code",
   "execution_count": 11,
   "metadata": {},
   "outputs": [
    {
     "data": {
      "image/png": "[encoded data removed]",
      "text/plain": [
       "<Figure size 432x288 with 1 Axes>"
      ]
     },
     "metadata": {
      "needs_background": "light"
     },
     "output_type": "display_data"
    }
   ],
   "source": [
    "i=0\n",
    "for min_dist in [0.2, 0.4, 1]:\n",
    "    \n",
    "    geto=finn[(finn[\"min_dist\"]==min_dist) & ((finn[\"exp_mean\"]==2.5) | (finn[\"exp_mean\"]==2.55))]\n",
    "    plt.boxplot(geto[\"total\"], positions=[i])\n",
    "    i+=1\n",
    "    \n",
    "plt.xticks([0, 1, 2], [\"100m\", \"200m\", \"500m\"])\n",
    "plt.xlabel(\"Distance to trap\")\n",
    "plt.ylabel(\"Number of colonies\")\n",
    "plt.savefig(\"distribution_number_colonies600F.pdf\")\n"
   ]
  },
  {
   "cell_type": "code",
   "execution_count": null,
   "metadata": {},
   "outputs": [],
   "source": [
    "750*"
   ]
  },
  {
   "cell_type": "code",
   "execution_count": 69,
   "metadata": {},
   "outputs": [],
   "source": [
    "%run /Users/Bernardo/Desktop/Desktop2020-Mayo2021/bees/libreria.py"
   ]
  },
  {
   "cell_type": "code",
   "execution_count": 13,
   "metadata": {},
   "outputs": [],
   "source": [
    "starttime=time.time()\n",
    "    \n",
    "#get basic information and variables\n",
    "\n",
    "f=open(\"/Users/Bernardo/Desktop/bees/distribution.txt\", \"r\")\n",
    "dict=f.read()\n",
    "f.close()\n",
    "distribution=eval(dict)\n",
    "tot_abejas=2118\n",
    "\n",
    "other_coords=['Caringbah', 'Parramatta', 'Strickland']\n",
    "urban_coords=[\"Marrickville\", \"Surry Hills\", \"Camperdown\", \"Asheville\", \"Balgowlah \"]\n",
    "rural_coords=[\"Jannali\", \"Sutherland\", \"Manley\", \"Lindfield\", \"Gordon\", \"Palmbeach\", \"Stives\"]\n",
    "locations, coordenadas, distance_national_park=get_loc_coords_dnp()\n",
    "\n",
    "urban=True\n",
    "rural=True\n",
    "\n",
    "xaxis  = [utm.from_latlon(coordenadas[l][0],coordenadas[l][1])[0]  for l in coordenadas]\n",
    "yaxis =  [utm.from_latlon(coordenadas[l][0],coordenadas[l][1])[1] for l in coordenadas]\n",
    "medy  =  np.mean(yaxis)\n",
    "medx  =  np.mean(xaxis)\n",
    "\n",
    "xaxis  = [to_xy((coordenadas[l][0],coordenadas[l][1]))[0]  for l in coordenadas]\n",
    "yaxis = [to_xy((coordenadas[l][0],coordenadas[l][1]))[1] for l in coordenadas]\n",
    "medy2  =  np.mean(yaxis)\n",
    "medx2  =  np.mean(xaxis)\n",
    "\n",
    "information={}\n",
    "\n",
    "\n",
    "\n",
    "for k in coordenadas:\n",
    "    if k not in urban_coords+rural_coords+other_coords: print(7/0)\n",
    "    if ((urban==True) and (k in urban_coords)) or ((rural==True) and (k in rural_coords)) or ((rural==True) and (urban==True)):\n",
    "        information[k]={}\n",
    "        information[k][\"coordenadas\"]=coordenadas[k]\n",
    "        utm_val=utm.from_latlon(coordenadas[k][0], coordenadas[k][1])\n",
    "        information[k][\"utm_xy_or\"]=utm_val\n",
    "        information[k][\"utm_xy\"]=((utm_val[0]-medx)/1000, (utm_val[1]-medy)/1000)\n",
    "        xy_val=to_xy(coordenadas[k])\n",
    "        information[k][\"alt_xy\"]=((xy_val[0]-medx2)/1000, (xy_val[1]-medy2)/1000)\n",
    "\n",
    "\n",
    "list_cor=list(pd.DataFrame(information ).loc[\"utm_xy\"])\n",
    "list_cor_keys=list(pd.DataFrame(information).transpose().index)\n",
    "utm_xs=[i[0] for i in list_cor]\n",
    "utm_ys=[i[1] for i in list_cor]\n",
    "xs_max=np.max(utm_xs)+20\n",
    "xs_min=np.min(utm_xs)-20\n",
    "ys_max=np.max(utm_ys)+20\n",
    "ys_min=np.min(utm_ys)-20\n"
   ]
  },
  {
   "cell_type": "code",
   "execution_count": 15,
   "metadata": {},
   "outputs": [],
   "source": [
    "xs_max_tr=xs_max*1000+medx\n",
    "xs_min_tr=xs_min*1000+medx\n",
    "ys_max_tr=ys_max*1000+medy\n",
    "ys_min_tr=ys_min*1000+medy"
   ]
  },
  {
   "cell_type": "code",
   "execution_count": 16,
   "metadata": {},
   "outputs": [],
   "source": [
    "corners=[[xs_max_tr, ys_max_tr], [xs_max_tr, ys_min_tr], [xs_min_tr, ys_min_tr], [xs_min_tr, ys_max_tr]]\n",
    "ncors=[]\n",
    "for cor in corners:\n",
    "    ncors.append(utm.to_latlon(cor[0], cor[1], 56, \"H\"))\n",
    "    \n",
    "ncors.append(ncors[0])"
   ]
  },
  {
   "cell_type": "code",
   "execution_count": 17,
   "metadata": {},
   "outputs": [],
   "source": [
    "import numpy as np\n",
    "import matplotlib.pyplot as plt\n",
    "from mpl_toolkits.basemap import Basemap\n"
   ]
  },
  {
   "cell_type": "code",
   "execution_count": 27,
   "metadata": {
    "scrolled": true
   },
   "outputs": [
    {
     "name": "stderr",
     "output_type": "stream",
     "text": [
      "/Users/Bernardo/miniconda3/lib/python3.7/site-packages/ipykernel_launcher.py:9: MatplotlibDeprecationWarning: \n",
      "The dedent function now deprecated in Matplotlib 3.1 and will be removed in 3.3. Use inspect.cleandoc instead.\n",
      "  if __name__ == '__main__':\n",
      "/Users/Bernardo/miniconda3/lib/python3.7/site-packages/ipykernel_launcher.py:15: MatplotlibDeprecationWarning: \n",
      "The dedent function now deprecated in Matplotlib 3.1 and will be removed in 3.3. Use inspect.cleandoc instead.\n",
      "  from ipykernel import kernelapp as app\n",
      "/Users/Bernardo/miniconda3/lib/python3.7/site-packages/ipykernel_launcher.py:16: MatplotlibDeprecationWarning: \n",
      "The dedent function now deprecated in Matplotlib 3.1 and will be removed in 3.3. Use inspect.cleandoc instead.\n",
      "  app.launch_new_instance()\n"
     ]
    },
    {
     "data": {
      "image/png": "[encoded data removed]",
      "text/plain": [
       "<Figure size 864x864 with 1 Axes>"
      ]
     },
     "metadata": {},
     "output_type": "display_data"
    }
   ],
   "source": [
    "\n",
    "plt.figure(figsize=(12,12))\n",
    "\n",
    "# Lambert Conformal Conic map.\n",
    "m = Basemap(llcrnrlon=150.6,llcrnrlat=-34.591003504203526,\n",
    "            urcrnrlon=151.7,\n",
    "            urcrnrlat=-33.391003504203526,\n",
    "            projection='lcc',lat_1=-33.491003504203526,lat_2=-39.235773685145425,lon_0=150.78201521493236,\n",
    "            resolution ='h',area_thresh=0.0000005)\n",
    "# read shapefile.\n",
    "\n",
    "\n",
    "\n",
    "m.drawcoastlines()\n",
    "m.drawcountries()\n",
    "m.drawrivers()\n",
    "\n",
    "#x, y = m([k[1] for k in ncors], [k[0] for k in ncors])\n",
    "#plt.plot(x, y)\n",
    "\n",
    "x, y = m([information[p][\"coordenadas\"][1] for p in information], [information[p][\"coordenadas\"][0] for p in information])\n",
    "plt.scatter(x, y)\n",
    "for xx, yy, s in zip(x, y, list(information.keys())):\n",
    "    plt.text(xx, yy, s)\n",
    "\n",
    "kurigngai=[\"Stives\", \"Gordon\", \"Lindfield\"]\n",
    "x, y = m([information[p][\"coordenadas\"][1] for p in kurigngai], [information[p][\"coordenadas\"][0] for p in kurigngai])\n",
    "plt.scatter(x, y, s=1)\n",
    "plt.savefig(\"mapColonies.pdf\")\n",
    "\n",
    "    "
   ]
  },
  {
   "cell_type": "code",
   "execution_count": 25,
   "metadata": {},
   "outputs": [
    {
     "data": {
      "text/plain": [
       "dict_keys(['Marrickville', 'Surry Hills', 'Camperdown', 'Asheville', 'Balgowlah ', 'Manley', 'Jannali', 'Sutherland', 'Stives', 'Palmbeach', 'Lindfield', 'Gordon', 'Caringbah', 'Parramatta', 'Strickland'])"
      ]
     },
     "execution_count": 25,
     "metadata": {},
     "output_type": "execute_result"
    }
   ],
   "source": [
    "information.keys()"
   ]
  },
  {
   "cell_type": "code",
   "execution_count": 46,
   "metadata": {},
   "outputs": [
    {
     "data": {
      "text/plain": [
       "[(-33.491003504203526, 151.53249524349738),\n",
       " (-34.24690062649693, 151.51950041103092),\n",
       " (-34.235773685145425, 150.78201521493236),\n",
       " (-33.48018752375011, 150.80147254288337)]"
      ]
     },
     "execution_count": 46,
     "metadata": {},
     "output_type": "execute_result"
    }
   ],
   "source": [
    "ncors"
   ]
  },
  {
   "cell_type": "code",
   "execution_count": null,
   "metadata": {},
   "outputs": [],
   "source": []
  },
  {
   "cell_type": "code",
   "execution_count": 24,
   "metadata": {},
   "outputs": [
    {
     "data": {
      "text/plain": [
       "[0.1,\n",
       " 0.275,\n",
       " 0.44999999999999996,\n",
       " 0.6249999999999999,\n",
       " 0.8,\n",
       " 0.9749999999999999,\n",
       " 1.15,\n",
       " 1.325,\n",
       " 1.5,\n",
       " 1.675,\n",
       " 1.8500000000000003,\n",
       " 2.025,\n",
       " 2.15,\n",
       " 2.1999999999999997,\n",
       " 2.375,\n",
       " 2.55,\n",
       " 2.725,\n",
       " 2.9,\n",
       " 3.0749999999999997,\n",
       " 3.25,\n",
       " 3.425,\n",
       " 3.5999999999999996,\n",
       " 3.775,\n",
       " 3.9499999999999997,\n",
       " 4.124999999999999,\n",
       " 4.299999999999999,\n",
       " 4.475,\n",
       " 4.6499999999999995,\n",
       " 4.824999999999999,\n",
       " 4.999999999999999,\n",
       " 5.174999999999999]"
      ]
     },
     "execution_count": 24,
     "metadata": {},
     "output_type": "execute_result"
    }
   ],
   "source": [
    "sorted(list(set(finn[(finn[\"min_dist\"]==1)][\"exp_mean\"])))"
   ]
  },
  {
   "cell_type": "code",
   "execution_count": null,
   "metadata": {},
   "outputs": [],
   "source": []
  }
 ],
 "metadata": {
  "kernelspec": {
   "display_name": "Python 3",
   "language": "python",
   "name": "python3"
  },
  "language_info": {
   "codemirror_mode": {
    "name": "ipython",
    "version": 3
   },
   "file_extension": ".py",
   "mimetype": "text/x-python",
   "name": "python",
   "nbconvert_exporter": "python",
   "pygments_lexer": "ipython3",
   "version": "3.7.7"
  }
 },
 "nbformat": 4,
 "nbformat_minor": 2
}
