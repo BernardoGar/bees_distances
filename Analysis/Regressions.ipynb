{
 "cells": [
  {
   "cell_type": "code",
   "execution_count": 1,
   "metadata": {},
   "outputs": [],
   "source": [
    "import pandas as pd\n",
    "import numpy as np\n",
    "from linearmodels import OLS"
   ]
  },
  {
   "cell_type": "code",
   "execution_count": 2,
   "metadata": {},
   "outputs": [],
   "source": [
    "df=pd.read_csv(\"/Users/Bernardo/Downloads/swarmsBEES2.csv\")"
   ]
  },
  {
   "cell_type": "code",
   "execution_count": 3,
   "metadata": {},
   "outputs": [],
   "source": [
    "df=df[~pd.isna(df[\"Size\"])]"
   ]
  },
  {
   "cell_type": "code",
   "execution_count": 4,
   "metadata": {},
   "outputs": [],
   "source": [
    "df[\"constant\"]=1"
   ]
  },
  {
   "cell_type": "code",
   "execution_count": 5,
   "metadata": {
    "scrolled": true
   },
   "outputs": [],
   "source": [
    "df[\"Large\"]=[int(k.strip()==\"Large\") for k in df[\"Size\"]]\n",
    "df[\"No swarm\"]=[int(k==\"No swarm\") for k in df[\"Size\"]]\n",
    "df[\"Fight\"]=[int(k==\"YES\") for k in df[\"F\"]]\n",
    "df[\"Diversity\"]=df[\"No. of fam\"]/df[\"No. of males\"]\n"
   ]
  },
  {
   "cell_type": "markdown",
   "metadata": {},
   "source": [
    "The probability of attracting a visible aggregation (bait colony name of the variable Y si hubo, N no hubo)  now not related to month (Pearson correlation; p>0.05), number of sunny days post-split (p>0.05), or number days between splitting and unplugging the colony (p>0.05); nor did it correlate to whether the colony now split in situ or relocated post-split (p>0.05); Supplementary material, Table SX. Checar esto con documento que te envie que en supp material sheet 2"
   ]
  },
  {
   "cell_type": "code",
   "execution_count": 6,
   "metadata": {},
   "outputs": [
    {
     "data": {
      "text/plain": [
       "Index(['Set', 'Site No.', 'Bait colony', 'Location', 'Longitude', 'Latitude',\n",
       "       'Split day', 'Set Up date', 'Sample date', 'Month sample',\n",
       "       'Confirmation of VQ', 'Requeened succesfully', 'GSE ', 'Temp ',\n",
       "       'Max Temp', 'Size', 'Duration ', 'Split location', 'F', 'No. of fam',\n",
       "       'No. of males', 'constant', 'Large', 'No swarm', 'Fight', 'Diversity'],\n",
       "      dtype='object')"
      ]
     },
     "execution_count": 6,
     "metadata": {},
     "output_type": "execute_result"
    }
   ],
   "source": [
    "df.columns"
   ]
  },
  {
   "cell_type": "code",
   "execution_count": 7,
   "metadata": {},
   "outputs": [],
   "source": [
    "import time"
   ]
  },
  {
   "cell_type": "code",
   "execution_count": 8,
   "metadata": {},
   "outputs": [],
   "source": [
    "def trytodate(k):\n",
    "    try: return time.strptime(str(k), \"%m/%d/%y\")\n",
    "    except: return np.nan\n",
    "    \n",
    "def get_time_bet(i,j):\n",
    "    try: return i.tm_year*365.25+i.tm_yday-(j.tm_year*365.25+j.tm_yday)\n",
    "    except: return np.nan\n",
    "    \n",
    "df[\"splitdate\"]=[trytodate(k) for k in df[\"Split day\"]]\n",
    "df[\"setupdate\"]=[trytodate(k) for k in df[\"Set Up date\"]]\n",
    "df[\"sampledate\"]=[trytodate(k) for k in df[\"Sample date\"]]\n",
    "\n",
    "\n",
    "df[\"days_between\"]=[get_time_bet(i,j) for i,j in zip(df[\"setupdate\"], df[\"splitdate\"])]\n",
    "\n",
    "\n",
    "df[\"days_to_form\"]=[get_time_bet(i,j) for i,j in zip(df[\"sampledate\"], df[\"setupdate\"])]\n"
   ]
  },
  {
   "cell_type": "code",
   "execution_count": 9,
   "metadata": {},
   "outputs": [
    {
     "data": {
      "text/plain": [
       "(array([4., 4., 4., 3., 3., 0., 0., 0., 0., 3.]),\n",
       " array([ 1. ,  1.9,  2.8,  3.7,  4.6,  5.5,  6.4,  7.3,  8.2,  9.1, 10. ]),\n",
       " <BarContainer object of 10 artists>)"
      ]
     },
     "execution_count": 9,
     "metadata": {},
     "output_type": "execute_result"
    },
    {
     "data": {
      "image/png": "[encoded data removed]",
      "text/plain": [
       "<Figure size 432x288 with 1 Axes>"
      ]
     },
     "metadata": {
      "needs_background": "light"
     },
     "output_type": "display_data"
    }
   ],
   "source": [
    "import matplotlib.pyplot as plt\n",
    "%matplotlib inline\n",
    "\n",
    "plt.hist(df[\"days_to_form\"], bins=10)"
   ]
  },
  {
   "cell_type": "code",
   "execution_count": 10,
   "metadata": {},
   "outputs": [
    {
     "data": {
      "text/plain": [
       "3.857142857142857"
      ]
     },
     "execution_count": 10,
     "metadata": {},
     "output_type": "execute_result"
    }
   ],
   "source": [
    "np.mean(df[\"days_to_form\"])"
   ]
  },
  {
   "cell_type": "code",
   "execution_count": 11,
   "metadata": {},
   "outputs": [
    {
     "data": {
      "text/plain": [
       "2.8163758252611895"
      ]
     },
     "execution_count": 11,
     "metadata": {},
     "output_type": "execute_result"
    }
   ],
   "source": [
    "np.std(df[\"days_to_form\"])"
   ]
  },
  {
   "cell_type": "code",
   "execution_count": 12,
   "metadata": {},
   "outputs": [],
   "source": [
    "df[\"Split day\"]=[str(i)[:str(i).find(\"/\")] for i in df[\"Sample date\"]]"
   ]
  },
  {
   "cell_type": "code",
   "execution_count": 13,
   "metadata": {
    "scrolled": true
   },
   "outputs": [],
   "source": [
    "df[\"month\"]=[str(i)[:str(i).find(\"/\")] for i in df[\"Sample date\"]]"
   ]
  },
  {
   "cell_type": "code",
   "execution_count": 14,
   "metadata": {
    "scrolled": true
   },
   "outputs": [
    {
     "data": {
      "text/html": [
       "<div>\n",
       "<style scoped>\n",
       "    .dataframe tbody tr th:only-of-type {\n",
       "        vertical-align: middle;\n",
       "    }\n",
       "\n",
       "    .dataframe tbody tr th {\n",
       "        vertical-align: top;\n",
       "    }\n",
       "\n",
       "    .dataframe thead th {\n",
       "        text-align: right;\n",
       "    }\n",
       "</style>\n",
       "<table border=\"1\" class=\"dataframe\">\n",
       "  <thead>\n",
       "    <tr style=\"text-align: right;\">\n",
       "      <th></th>\n",
       "      <th>Large</th>\n",
       "      <th>11</th>\n",
       "      <th>12</th>\n",
       "      <th>2</th>\n",
       "      <th>3</th>\n",
       "      <th>9</th>\n",
       "      <th>na</th>\n",
       "    </tr>\n",
       "  </thead>\n",
       "  <tbody>\n",
       "    <tr>\n",
       "      <th>0</th>\n",
       "      <td>1</td>\n",
       "      <td>0</td>\n",
       "      <td>0</td>\n",
       "      <td>0</td>\n",
       "      <td>0</td>\n",
       "      <td>1</td>\n",
       "      <td>0</td>\n",
       "    </tr>\n",
       "    <tr>\n",
       "      <th>1</th>\n",
       "      <td>1</td>\n",
       "      <td>0</td>\n",
       "      <td>0</td>\n",
       "      <td>0</td>\n",
       "      <td>0</td>\n",
       "      <td>1</td>\n",
       "      <td>0</td>\n",
       "    </tr>\n",
       "    <tr>\n",
       "      <th>2</th>\n",
       "      <td>1</td>\n",
       "      <td>0</td>\n",
       "      <td>0</td>\n",
       "      <td>0</td>\n",
       "      <td>0</td>\n",
       "      <td>1</td>\n",
       "      <td>0</td>\n",
       "    </tr>\n",
       "    <tr>\n",
       "      <th>3</th>\n",
       "      <td>1</td>\n",
       "      <td>1</td>\n",
       "      <td>0</td>\n",
       "      <td>0</td>\n",
       "      <td>0</td>\n",
       "      <td>0</td>\n",
       "      <td>0</td>\n",
       "    </tr>\n",
       "    <tr>\n",
       "      <th>4</th>\n",
       "      <td>1</td>\n",
       "      <td>0</td>\n",
       "      <td>0</td>\n",
       "      <td>1</td>\n",
       "      <td>0</td>\n",
       "      <td>0</td>\n",
       "      <td>0</td>\n",
       "    </tr>\n",
       "    <tr>\n",
       "      <th>5</th>\n",
       "      <td>1</td>\n",
       "      <td>1</td>\n",
       "      <td>0</td>\n",
       "      <td>0</td>\n",
       "      <td>0</td>\n",
       "      <td>0</td>\n",
       "      <td>0</td>\n",
       "    </tr>\n",
       "    <tr>\n",
       "      <th>6</th>\n",
       "      <td>1</td>\n",
       "      <td>1</td>\n",
       "      <td>0</td>\n",
       "      <td>0</td>\n",
       "      <td>0</td>\n",
       "      <td>0</td>\n",
       "      <td>0</td>\n",
       "    </tr>\n",
       "    <tr>\n",
       "      <th>7</th>\n",
       "      <td>0</td>\n",
       "      <td>1</td>\n",
       "      <td>0</td>\n",
       "      <td>0</td>\n",
       "      <td>0</td>\n",
       "      <td>0</td>\n",
       "      <td>0</td>\n",
       "    </tr>\n",
       "    <tr>\n",
       "      <th>8</th>\n",
       "      <td>1</td>\n",
       "      <td>1</td>\n",
       "      <td>0</td>\n",
       "      <td>0</td>\n",
       "      <td>0</td>\n",
       "      <td>0</td>\n",
       "      <td>0</td>\n",
       "    </tr>\n",
       "    <tr>\n",
       "      <th>9</th>\n",
       "      <td>1</td>\n",
       "      <td>1</td>\n",
       "      <td>0</td>\n",
       "      <td>0</td>\n",
       "      <td>0</td>\n",
       "      <td>0</td>\n",
       "      <td>0</td>\n",
       "    </tr>\n",
       "    <tr>\n",
       "      <th>10</th>\n",
       "      <td>0</td>\n",
       "      <td>1</td>\n",
       "      <td>0</td>\n",
       "      <td>0</td>\n",
       "      <td>0</td>\n",
       "      <td>0</td>\n",
       "      <td>0</td>\n",
       "    </tr>\n",
       "    <tr>\n",
       "      <th>11</th>\n",
       "      <td>0</td>\n",
       "      <td>0</td>\n",
       "      <td>1</td>\n",
       "      <td>0</td>\n",
       "      <td>0</td>\n",
       "      <td>0</td>\n",
       "      <td>0</td>\n",
       "    </tr>\n",
       "    <tr>\n",
       "      <th>12</th>\n",
       "      <td>0</td>\n",
       "      <td>0</td>\n",
       "      <td>0</td>\n",
       "      <td>1</td>\n",
       "      <td>0</td>\n",
       "      <td>0</td>\n",
       "      <td>0</td>\n",
       "    </tr>\n",
       "    <tr>\n",
       "      <th>13</th>\n",
       "      <td>0</td>\n",
       "      <td>0</td>\n",
       "      <td>0</td>\n",
       "      <td>0</td>\n",
       "      <td>0</td>\n",
       "      <td>0</td>\n",
       "      <td>1</td>\n",
       "    </tr>\n",
       "    <tr>\n",
       "      <th>14</th>\n",
       "      <td>0</td>\n",
       "      <td>0</td>\n",
       "      <td>0</td>\n",
       "      <td>1</td>\n",
       "      <td>0</td>\n",
       "      <td>0</td>\n",
       "      <td>0</td>\n",
       "    </tr>\n",
       "    <tr>\n",
       "      <th>15</th>\n",
       "      <td>0</td>\n",
       "      <td>0</td>\n",
       "      <td>0</td>\n",
       "      <td>1</td>\n",
       "      <td>0</td>\n",
       "      <td>0</td>\n",
       "      <td>0</td>\n",
       "    </tr>\n",
       "    <tr>\n",
       "      <th>16</th>\n",
       "      <td>0</td>\n",
       "      <td>0</td>\n",
       "      <td>0</td>\n",
       "      <td>0</td>\n",
       "      <td>1</td>\n",
       "      <td>0</td>\n",
       "      <td>0</td>\n",
       "    </tr>\n",
       "    <tr>\n",
       "      <th>17</th>\n",
       "      <td>1</td>\n",
       "      <td>0</td>\n",
       "      <td>1</td>\n",
       "      <td>0</td>\n",
       "      <td>0</td>\n",
       "      <td>0</td>\n",
       "      <td>0</td>\n",
       "    </tr>\n",
       "    <tr>\n",
       "      <th>18</th>\n",
       "      <td>1</td>\n",
       "      <td>1</td>\n",
       "      <td>0</td>\n",
       "      <td>0</td>\n",
       "      <td>0</td>\n",
       "      <td>0</td>\n",
       "      <td>0</td>\n",
       "    </tr>\n",
       "    <tr>\n",
       "      <th>19</th>\n",
       "      <td>0</td>\n",
       "      <td>0</td>\n",
       "      <td>0</td>\n",
       "      <td>0</td>\n",
       "      <td>0</td>\n",
       "      <td>0</td>\n",
       "      <td>0</td>\n",
       "    </tr>\n",
       "    <tr>\n",
       "      <th>20</th>\n",
       "      <td>1</td>\n",
       "      <td>1</td>\n",
       "      <td>0</td>\n",
       "      <td>0</td>\n",
       "      <td>0</td>\n",
       "      <td>0</td>\n",
       "      <td>0</td>\n",
       "    </tr>\n",
       "    <tr>\n",
       "      <th>21</th>\n",
       "      <td>1</td>\n",
       "      <td>0</td>\n",
       "      <td>0</td>\n",
       "      <td>0</td>\n",
       "      <td>0</td>\n",
       "      <td>0</td>\n",
       "      <td>0</td>\n",
       "    </tr>\n",
       "    <tr>\n",
       "      <th>22</th>\n",
       "      <td>0</td>\n",
       "      <td>0</td>\n",
       "      <td>0</td>\n",
       "      <td>0</td>\n",
       "      <td>0</td>\n",
       "      <td>0</td>\n",
       "      <td>0</td>\n",
       "    </tr>\n",
       "    <tr>\n",
       "      <th>23</th>\n",
       "      <td>0</td>\n",
       "      <td>1</td>\n",
       "      <td>0</td>\n",
       "      <td>0</td>\n",
       "      <td>0</td>\n",
       "      <td>0</td>\n",
       "      <td>0</td>\n",
       "    </tr>\n",
       "    <tr>\n",
       "      <th>24</th>\n",
       "      <td>1</td>\n",
       "      <td>1</td>\n",
       "      <td>0</td>\n",
       "      <td>0</td>\n",
       "      <td>0</td>\n",
       "      <td>0</td>\n",
       "      <td>0</td>\n",
       "    </tr>\n",
       "    <tr>\n",
       "      <th>25</th>\n",
       "      <td>1</td>\n",
       "      <td>0</td>\n",
       "      <td>0</td>\n",
       "      <td>0</td>\n",
       "      <td>0</td>\n",
       "      <td>0</td>\n",
       "      <td>0</td>\n",
       "    </tr>\n",
       "    <tr>\n",
       "      <th>26</th>\n",
       "      <td>1</td>\n",
       "      <td>1</td>\n",
       "      <td>0</td>\n",
       "      <td>0</td>\n",
       "      <td>0</td>\n",
       "      <td>0</td>\n",
       "      <td>0</td>\n",
       "    </tr>\n",
       "    <tr>\n",
       "      <th>27</th>\n",
       "      <td>1</td>\n",
       "      <td>0</td>\n",
       "      <td>0</td>\n",
       "      <td>0</td>\n",
       "      <td>0</td>\n",
       "      <td>0</td>\n",
       "      <td>0</td>\n",
       "    </tr>\n",
       "    <tr>\n",
       "      <th>28</th>\n",
       "      <td>1</td>\n",
       "      <td>0</td>\n",
       "      <td>0</td>\n",
       "      <td>0</td>\n",
       "      <td>0</td>\n",
       "      <td>0</td>\n",
       "      <td>0</td>\n",
       "    </tr>\n",
       "    <tr>\n",
       "      <th>29</th>\n",
       "      <td>1</td>\n",
       "      <td>1</td>\n",
       "      <td>0</td>\n",
       "      <td>0</td>\n",
       "      <td>0</td>\n",
       "      <td>0</td>\n",
       "      <td>0</td>\n",
       "    </tr>\n",
       "    <tr>\n",
       "      <th>30</th>\n",
       "      <td>0</td>\n",
       "      <td>0</td>\n",
       "      <td>0</td>\n",
       "      <td>0</td>\n",
       "      <td>0</td>\n",
       "      <td>0</td>\n",
       "      <td>1</td>\n",
       "    </tr>\n",
       "    <tr>\n",
       "      <th>31</th>\n",
       "      <td>0</td>\n",
       "      <td>0</td>\n",
       "      <td>0</td>\n",
       "      <td>0</td>\n",
       "      <td>0</td>\n",
       "      <td>0</td>\n",
       "      <td>1</td>\n",
       "    </tr>\n",
       "    <tr>\n",
       "      <th>32</th>\n",
       "      <td>0</td>\n",
       "      <td>0</td>\n",
       "      <td>0</td>\n",
       "      <td>0</td>\n",
       "      <td>0</td>\n",
       "      <td>0</td>\n",
       "      <td>1</td>\n",
       "    </tr>\n",
       "    <tr>\n",
       "      <th>33</th>\n",
       "      <td>0</td>\n",
       "      <td>0</td>\n",
       "      <td>0</td>\n",
       "      <td>0</td>\n",
       "      <td>0</td>\n",
       "      <td>0</td>\n",
       "      <td>1</td>\n",
       "    </tr>\n",
       "    <tr>\n",
       "      <th>34</th>\n",
       "      <td>0</td>\n",
       "      <td>0</td>\n",
       "      <td>0</td>\n",
       "      <td>0</td>\n",
       "      <td>0</td>\n",
       "      <td>0</td>\n",
       "      <td>1</td>\n",
       "    </tr>\n",
       "    <tr>\n",
       "      <th>35</th>\n",
       "      <td>0</td>\n",
       "      <td>0</td>\n",
       "      <td>0</td>\n",
       "      <td>0</td>\n",
       "      <td>0</td>\n",
       "      <td>0</td>\n",
       "      <td>1</td>\n",
       "    </tr>\n",
       "    <tr>\n",
       "      <th>36</th>\n",
       "      <td>0</td>\n",
       "      <td>0</td>\n",
       "      <td>0</td>\n",
       "      <td>0</td>\n",
       "      <td>0</td>\n",
       "      <td>0</td>\n",
       "      <td>1</td>\n",
       "    </tr>\n",
       "    <tr>\n",
       "      <th>37</th>\n",
       "      <td>0</td>\n",
       "      <td>0</td>\n",
       "      <td>0</td>\n",
       "      <td>0</td>\n",
       "      <td>0</td>\n",
       "      <td>0</td>\n",
       "      <td>1</td>\n",
       "    </tr>\n",
       "    <tr>\n",
       "      <th>38</th>\n",
       "      <td>0</td>\n",
       "      <td>1</td>\n",
       "      <td>0</td>\n",
       "      <td>0</td>\n",
       "      <td>0</td>\n",
       "      <td>0</td>\n",
       "      <td>0</td>\n",
       "    </tr>\n",
       "    <tr>\n",
       "      <th>39</th>\n",
       "      <td>0</td>\n",
       "      <td>0</td>\n",
       "      <td>0</td>\n",
       "      <td>0</td>\n",
       "      <td>0</td>\n",
       "      <td>0</td>\n",
       "      <td>1</td>\n",
       "    </tr>\n",
       "    <tr>\n",
       "      <th>40</th>\n",
       "      <td>0</td>\n",
       "      <td>0</td>\n",
       "      <td>0</td>\n",
       "      <td>0</td>\n",
       "      <td>0</td>\n",
       "      <td>0</td>\n",
       "      <td>0</td>\n",
       "    </tr>\n",
       "  </tbody>\n",
       "</table>\n",
       "</div>"
      ],
      "text/plain": [
       "    Large  11  12  2  3  9  na\n",
       "0       1   0   0  0  0  1   0\n",
       "1       1   0   0  0  0  1   0\n",
       "2       1   0   0  0  0  1   0\n",
       "3       1   1   0  0  0  0   0\n",
       "4       1   0   0  1  0  0   0\n",
       "5       1   1   0  0  0  0   0\n",
       "6       1   1   0  0  0  0   0\n",
       "7       0   1   0  0  0  0   0\n",
       "8       1   1   0  0  0  0   0\n",
       "9       1   1   0  0  0  0   0\n",
       "10      0   1   0  0  0  0   0\n",
       "11      0   0   1  0  0  0   0\n",
       "12      0   0   0  1  0  0   0\n",
       "13      0   0   0  0  0  0   1\n",
       "14      0   0   0  1  0  0   0\n",
       "15      0   0   0  1  0  0   0\n",
       "16      0   0   0  0  1  0   0\n",
       "17      1   0   1  0  0  0   0\n",
       "18      1   1   0  0  0  0   0\n",
       "19      0   0   0  0  0  0   0\n",
       "20      1   1   0  0  0  0   0\n",
       "21      1   0   0  0  0  0   0\n",
       "22      0   0   0  0  0  0   0\n",
       "23      0   1   0  0  0  0   0\n",
       "24      1   1   0  0  0  0   0\n",
       "25      1   0   0  0  0  0   0\n",
       "26      1   1   0  0  0  0   0\n",
       "27      1   0   0  0  0  0   0\n",
       "28      1   0   0  0  0  0   0\n",
       "29      1   1   0  0  0  0   0\n",
       "30      0   0   0  0  0  0   1\n",
       "31      0   0   0  0  0  0   1\n",
       "32      0   0   0  0  0  0   1\n",
       "33      0   0   0  0  0  0   1\n",
       "34      0   0   0  0  0  0   1\n",
       "35      0   0   0  0  0  0   1\n",
       "36      0   0   0  0  0  0   1\n",
       "37      0   0   0  0  0  0   1\n",
       "38      0   1   0  0  0  0   0\n",
       "39      0   0   0  0  0  0   1\n",
       "40      0   0   0  0  0  0   0"
      ]
     },
     "execution_count": 14,
     "metadata": {},
     "output_type": "execute_result"
    }
   ],
   "source": [
    "df[[\"Large\"]].join(pd.get_dummies(df[\"month\"], drop_first=True))"
   ]
  },
  {
   "cell_type": "code",
   "execution_count": 15,
   "metadata": {},
   "outputs": [
    {
     "data": {
      "text/plain": [
       "11    14\n",
       "na    10\n",
       "10     7\n",
       "2      4\n",
       "9      3\n",
       "12     2\n",
       "3      1\n",
       "Name: month, dtype: int64"
      ]
     },
     "execution_count": 15,
     "metadata": {},
     "output_type": "execute_result"
    }
   ],
   "source": [
    "df[\"month\"].value_counts()"
   ]
  },
  {
   "cell_type": "code",
   "execution_count": 16,
   "metadata": {},
   "outputs": [
    {
     "data": {
      "text/plain": [
       "<Figure size 432x288 with 0 Axes>"
      ]
     },
     "metadata": {},
     "output_type": "display_data"
    }
   ],
   "source": [
    "%run /Users/Bernardo/Dropbox/libreriaBGBB.py"
   ]
  },
  {
   "cell_type": "code",
   "execution_count": 17,
   "metadata": {},
   "outputs": [],
   "source": [
    "from IPython.display import display, Markdown\n"
   ]
  },
  {
   "cell_type": "code",
   "execution_count": 22,
   "metadata": {},
   "outputs": [],
   "source": [
    "from  statsmodels.api import Logit"
   ]
  },
  {
   "cell_type": "code",
   "execution_count": 34,
   "metadata": {},
   "outputs": [],
   "source": [
    "from statsmodels.discrete.discrete_model import Logit as Logit2"
   ]
  },
  {
   "cell_type": "code",
   "execution_count": 38,
   "metadata": {},
   "outputs": [],
   "source": [
    "df_aux.drop([\"setupdate\", \"sampledate\"], axis=1).to_csv(\"forstatatrash.csv\")"
   ]
  },
  {
   "cell_type": "code",
   "execution_count": 35,
   "metadata": {
    "scrolled": false
   },
   "outputs": [
    {
     "name": "stdout",
     "output_type": "stream",
     "text": [
      "Warning: Maximum number of iterations has been exceeded.\n",
      "         Current function value: 0.419794\n",
      "         Iterations: 35\n",
      "                           Logit Regression Results                           \n",
      "==============================================================================\n",
      "Dep. Variable:                  Large   No. Observations:                   40\n",
      "Model:                          Logit   Df Residuals:                       34\n",
      "Method:                           MLE   Df Model:                            5\n",
      "Date:                Wed, 24 Feb 2021   Pseudo R-squ.:                  0.3933\n",
      "Time:                        22:33:43   Log-Likelihood:                -16.792\n",
      "converged:                      False   LL-Null:                       -27.676\n",
      "Covariance Type:            nonrobust   LLR p-value:                 0.0005795\n",
      "==============================================================================\n",
      "                 coef    std err          z      P>|z|      [0.025      0.975]\n",
      "------------------------------------------------------------------------------\n",
      "constant       0.2877      0.764      0.377      0.706      -1.209       1.785\n",
      "month_11       0.6286      0.966      0.651      0.515      -1.265       2.522\n",
      "month_12      -0.2877      1.607     -0.179      0.858      -3.438       2.863\n",
      "month_2       -1.3863      1.384     -1.001      0.317      -4.100       1.327\n",
      "month_9       22.6528   5.53e+04      0.000      1.000   -1.08e+05    1.08e+05\n",
      "month_na     -21.0970   1.04e+04     -0.002      0.998   -2.05e+04    2.04e+04\n",
      "==============================================================================\n",
      "\n",
      "Possibly complete quasi-separation: A fraction 0.33 of observations can be\n",
      "perfectly predicted. This might indicate that there is complete\n",
      "quasi-separation. In this case some parameters will not be identified.\n",
      "Warning: Maximum number of iterations has been exceeded.\n",
      "         Current function value: 0.121301\n",
      "         Iterations: 35\n",
      "                           Logit Regression Results                           \n",
      "==============================================================================\n",
      "Dep. Variable:               No swarm   No. Observations:                   40\n",
      "Model:                          Logit   Df Residuals:                       35\n",
      "Method:                           MLE   Df Model:                            4\n",
      "Date:                Wed, 24 Feb 2021   Pseudo R-squ.:                  0.7843\n",
      "Time:                        22:33:43   Log-Likelihood:                -4.8520\n",
      "converged:                      False   LL-Null:                       -22.493\n",
      "Covariance Type:            nonrobust   LLR p-value:                 4.064e-07\n",
      "==============================================================================\n",
      "                 coef    std err          z      P>|z|      [0.025      0.975]\n",
      "------------------------------------------------------------------------------\n",
      "month_11     -27.0157   1.96e+05     -0.000      1.000   -3.85e+05    3.85e+05\n",
      "month_12     -22.2004   4.68e+04     -0.000      1.000   -9.17e+04    9.17e+04\n",
      "month_2      -44.2323   2.01e+09   -2.2e-08      1.000   -3.95e+09    3.95e+09\n",
      "month_9      -23.0215   5.76e+04     -0.000      1.000   -1.13e+05    1.13e+05\n",
      "month_na      20.8017   1.04e+04      0.002      0.998   -2.04e+04    2.04e+04\n",
      "==============================================================================\n",
      "\n",
      "Possibly complete quasi-separation: A fraction 0.82 of observations can be\n",
      "perfectly predicted. This might indicate that there is complete\n",
      "quasi-separation. In this case some parameters will not be identified.\n"
     ]
    },
    {
     "name": "stderr",
     "output_type": "stream",
     "text": [
      "/Users/Bernardo/miniconda3/lib/python3.7/site-packages/statsmodels/base/model.py:512: ConvergenceWarning: Maximum Likelihood optimization failed to converge. Check mle_retvals\n",
      "  \"Check mle_retvals\", ConvergenceWarning)\n",
      "/Users/Bernardo/miniconda3/lib/python3.7/site-packages/statsmodels/base/model.py:512: ConvergenceWarning: Maximum Likelihood optimization failed to converge. Check mle_retvals\n",
      "  \"Check mle_retvals\", ConvergenceWarning)\n"
     ]
    },
    {
     "data": {
      "text/markdown": [
       "|.|OLS|OLS|\n",
       "|---|---|---|\n",
       "|<b>Dependent variable|<b>Large swarm|<b>No swarm|\n",
       "|constant|0.288|-|\n",
       "|SE|(0.764)|-|\n",
       "|month_11|0.629|-27.0|\n",
       "|SE|(0.966)|(196482)|\n",
       "|month_12|-0.288|-22.2|\n",
       "|SE|(1.607)|(46799)|\n",
       "|month_2|-1.39|-44.2|\n",
       "|SE|(1.384)|(2013196411)|\n",
       "|month_9|22.65|-23.0|\n",
       "|SE|(55322)|(57609)|\n",
       "|month_na|-21.1|20.8|\n",
       "|SE|(10439)|(10399)|\n",
       "|---|---|---|\n",
       "|<b> rsq|0.393|0.784|\n",
       "|<b> N|40|40|"
      ],
      "text/plain": [
       "<IPython.core.display.Markdown object>"
      ]
     },
     "metadata": {},
     "output_type": "display_data"
    }
   ],
   "source": [
    "df_aux=df[df.month!=\"3\"]\n",
    "listaregs=[]\n",
    "\n",
    "r=Logit2(df_aux[\"Large\"], df_aux[[\"constant\"]].join(pd.get_dummies(df_aux[\"month\"], drop_first=True, prefix=\"month\"))).fit()\n",
    "listaregs=savereg(listaregs,r, depvar=\"Large swarm\", name=\"OLS\", logit=True)\n",
    "print(r.summary())\n",
    "\n",
    "#df_aux=df[df.month!=\"3\"]\n",
    "#df_aux=df_aux[df_aux.month!=\"12\"]\n",
    "#df_aux=df[df.month!=\"2\"]\n",
    "r=Logit2(df_aux[\"No swarm\"], df_aux[[]].join(pd.get_dummies(df_aux[\"month\"], drop_first=True, prefix=\"month\"))).fit()\n",
    "listaregs=savereg(listaregs,r, depvar=\"No swarm\", name=\"OLS\", logit=True)\n",
    "\n",
    "print(r.summary())\n",
    "\n",
    "#print(OLS(df_aux[\"Diversity\"], df_aux[[\"constant\"]].join(pd.get_dummies(df_aux[\"month\"], drop_first=True))).fit())\n",
    "printregs(listaregs)\n"
   ]
  },
  {
   "cell_type": "code",
   "execution_count": 18,
   "metadata": {},
   "outputs": [
    {
     "data": {
      "text/plain": [
       "['3', '9', '12', '10', '11', '2']"
      ]
     },
     "execution_count": 18,
     "metadata": {},
     "output_type": "execute_result"
    }
   ],
   "source": [
    "list(set(df[\"month\"]))"
   ]
  },
  {
   "cell_type": "code",
   "execution_count": 81,
   "metadata": {},
   "outputs": [],
   "source": [
    "nm=[]\n",
    "nl=[]\n",
    "for maand in [9, 10, 11, 12, 2, 3]:\n",
    "    nl.append(df[df.month==str(maand)][\"Large\"].mean())\n",
    "nm.append(nl)\n",
    "\n",
    "nl=[]\n",
    "for maand in [9, 10, 11, 12, 2, 3]:\n",
    "    nl.append(1-df[df.month==str(maand)][\"No swarm\"].mean())\n",
    "nm.append(nl)\n"
   ]
  },
  {
   "cell_type": "code",
   "execution_count": 82,
   "metadata": {},
   "outputs": [],
   "source": [
    "import seaborn as sns"
   ]
  },
  {
   "cell_type": "code",
   "execution_count": 90,
   "metadata": {},
   "outputs": [
    {
     "data": {
      "text/plain": [
       "Text(0.5, 15.0, 'month')"
      ]
     },
     "execution_count": 90,
     "metadata": {},
     "output_type": "execute_result"
    },
    {
     "data": {
      "image/png": "[encoded data removed]",
      "text/plain": [
       "<Figure size 432x288 with 2 Axes>"
      ]
     },
     "metadata": {
      "needs_background": "light"
     },
     "output_type": "display_data"
    }
   ],
   "source": [
    "sns.heatmap(nm, xticklabels=[9, 10, 11, 12, 2, 3], yticklabels=[\"Large\", \"Swarm\"], cmap=\"YlGnBu\")\n",
    "plt.ylim([2, 0])\n",
    "plt.xlabel(\"month\")"
   ]
  },
  {
   "cell_type": "code",
   "execution_count": 86,
   "metadata": {},
   "outputs": [
    {
     "data": {
      "text/plain": [
       "array([[1.        , 0.10254657],\n",
       "       [0.10254657, 1.        ]])"
      ]
     },
     "execution_count": 86,
     "metadata": {},
     "output_type": "execute_result"
    }
   ],
   "source": [
    "df[\"spring\"]=[int(i in [\"9\",\"10\"]) for i in df[\"month\"]]\n",
    "np.corrcoef(df[~pd.isna(df[\"month\"])][\"spring\"], df[~pd.isna(df[\"month\"])][\"Large\"])"
   ]
  },
  {
   "cell_type": "code",
   "execution_count": 89,
   "metadata": {},
   "outputs": [
    {
     "data": {
      "text/plain": [
       "array([[ 1.       , -0.0208385],\n",
       "       [-0.0208385,  1.       ]])"
      ]
     },
     "execution_count": 89,
     "metadata": {},
     "output_type": "execute_result"
    }
   ],
   "source": [
    "df[\"spring\"]=[int(i in [\"9\", \"10\"]) for i in df[\"month\"]]\n",
    "np.corrcoef(df[\"spring\"], df[\"No swarm\"])"
   ]
  },
  {
   "cell_type": "code",
   "execution_count": 76,
   "metadata": {},
   "outputs": [
    {
     "data": {
      "text/plain": [
       "0.3"
      ]
     },
     "execution_count": 76,
     "metadata": {},
     "output_type": "execute_result"
    }
   ],
   "source": [
    "df[df.month==\"10\"][\"No swarm\"].mean()"
   ]
  },
  {
   "cell_type": "code",
   "execution_count": 77,
   "metadata": {},
   "outputs": [
    {
     "data": {
      "text/plain": [
       "0.2631578947368421"
      ]
     },
     "execution_count": 77,
     "metadata": {},
     "output_type": "execute_result"
    }
   ],
   "source": [
    "df[df.month==\"11\"][\"No swarm\"].mean()"
   ]
  },
  {
   "cell_type": "code",
   "execution_count": 79,
   "metadata": {},
   "outputs": [
    {
     "data": {
      "text/plain": [
       "0    0\n",
       "1    0\n",
       "2    0\n",
       "Name: No swarm, dtype: int64"
      ]
     },
     "execution_count": 79,
     "metadata": {},
     "output_type": "execute_result"
    }
   ],
   "source": [
    "df[df.month==\"9\"][\"No swarm\"].mean()"
   ]
  },
  {
   "cell_type": "code",
   "execution_count": null,
   "metadata": {},
   "outputs": [],
   "source": []
  },
  {
   "cell_type": "markdown",
   "metadata": {},
   "source": [
    "Large swarm: September now a very good month. Those which also had empty dates were also a bad month."
   ]
  },
  {
   "cell_type": "code",
   "execution_count": 20,
   "metadata": {},
   "outputs": [
    {
     "name": "stderr",
     "output_type": "stream",
     "text": [
      "/Users/Bernardo/miniconda3/lib/python3.7/site-packages/linearmodels/utility.py:478: MissingValueWarning: \n",
      "Inputs contain missing values. Dropping rows with missing observations.\n",
      "  warnings.warn(missing_value_warning_msg, MissingValueWarning)\n"
     ]
    },
    {
     "data": {
      "text/markdown": [
       "|.|OLS|OLS|OLS|OLS|\n",
       "|---|---|---|---|---|\n",
       "|<b>Dependent variable|<b>Large swarm|<b>No swarm|<b>Fight|<b>Diversity|\n",
       "|constant|0.005|0.349**|0.236**|0.508***|\n",
       "|SE|(0.103)|(0.152)|(0.118)|(0.074)|\n",
       "|days_between|-0.002|-0.004|-0.016|-0.007|\n",
       "|SE|(0.029)|(0.029)|(0.018)|(0.017)|\n",
       "|11|0.437***|-|-|-|\n",
       "|SE|(0.124)|-|-|-|\n",
       "|12|0.004|-|-|-|\n",
       "|SE|(0.069)|-|-|-|\n",
       "|2|0.009|-|-|-|\n",
       "|SE|(0.169)|-|-|-|\n",
       "|9|0.996***|-|-|-|\n",
       "|SE|(0.074)|-|-|-|\n",
       "|---|---|---|---|---|\n",
       "|<b> rsq|0.366|0.001|0.017|0.011|\n",
       "|<b> N|29|30|30|20|"
      ],
      "text/plain": [
       "<IPython.core.display.Markdown object>"
      ]
     },
     "metadata": {},
     "output_type": "display_data"
    }
   ],
   "source": [
    "df_aux=df[df.month!=\"3\"]\n",
    "\n",
    "listaregs=[]\n",
    "r=(OLS(df[\"Large\"], df[[\"constant\", \"days_between\"]].join(pd.get_dummies(df_aux[\"month\"], drop_first=True))).fit())\n",
    "listaregs=savereg(listaregs,r, depvar=\"Large swarm\", name=\"OLS\")\n",
    "\n",
    "r=(OLS(df[\"No swarm\"], df[[\"constant\", \"days_between\"]]).fit())\n",
    "listaregs=savereg(listaregs,r, depvar=\"No swarm\", name=\"OLS\")\n",
    "\n",
    "r=(OLS(df[\"Fight\"], df[[\"constant\", \"days_between\"]]).fit())\n",
    "listaregs=savereg(listaregs,r, depvar=\"Fight\", name=\"OLS\")\n",
    "\n",
    "r=(OLS(df[\"Diversity\"], df[[\"constant\", \"days_between\"]]).fit())\n",
    "listaregs=savereg(listaregs,r, depvar=\"Diversity\", name=\"OLS\")\n",
    "\n",
    "printregs(listaregs)\n"
   ]
  },
  {
   "cell_type": "markdown",
   "metadata": {},
   "source": [
    "More days between split and set up reduced change of large swam significantly."
   ]
  },
  {
   "cell_type": "code",
   "execution_count": 21,
   "metadata": {},
   "outputs": [
    {
     "data": {
      "text/plain": [
       "array([[1.        , 0.08683135],\n",
       "       [0.08683135, 1.        ]])"
      ]
     },
     "execution_count": 21,
     "metadata": {},
     "output_type": "execute_result"
    }
   ],
   "source": [
    "np.corrcoef((df[\"month\"]==\"9\"), (df[\"Split location\"]==\"P\"))"
   ]
  },
  {
   "cell_type": "code",
   "execution_count": 22,
   "metadata": {},
   "outputs": [
    {
     "data": {
      "text/markdown": [
       "|.|OLS|OLS|OLS|OLS|\n",
       "|---|---|---|---|---|\n",
       "|<b>Dependent variable|<b>Large swarm|<b>No swarm|<b>Fight|<b>Diversity|\n",
       "|constant|0.196|0.539**|0.2**|0.49***|\n",
       "|SE|(0.146)|(0.167)|(0.089)|(0.067)|\n",
       "|P|0.291**|-0.342**|-0.057|0.005|\n",
       "|SE|(0.138)|(0.132)|(0.118)|(0.078)|\n",
       "|11|0.192|-0.114|-|-|\n",
       "|SE|(0.172)|(0.149)|-|-|\n",
       "|12|0.04|-0.092|-|-|\n",
       "|SE|(0.241)|(0.271)|-|-|\n",
       "|2|-0.113|-0.203|-|-|\n",
       "|SE|(0.247)|(0.281)|-|-|\n",
       "|9|0.61***|-0.311**|-|-|\n",
       "|SE|(0.157)|(0.157)|-|-|\n",
       "|---|---|---|---|---|\n",
       "|<b> rsq|0.217|0.179|0.006|0.0|\n",
       "|<b> N|40|40|41|31|"
      ],
      "text/plain": [
       "<IPython.core.display.Markdown object>"
      ]
     },
     "metadata": {},
     "output_type": "display_data"
    }
   ],
   "source": [
    "listaregs=[]\n",
    "r=(OLS(df[\"Large\"], df[[\"constant\"]].join(pd.get_dummies(df[\"Split location\"], drop_first=True)).join(pd.get_dummies(df_aux[\"month\"], drop_first=True))).fit())\n",
    "listaregs=savereg(listaregs,r, depvar=\"Large swarm\", name=\"OLS\")\n",
    "\n",
    "r=(OLS(df[\"No swarm\"], df[[\"constant\"]].join(pd.get_dummies(df[\"Split location\"], drop_first=True)).join(pd.get_dummies(df_aux[\"month\"], drop_first=True))).fit())\n",
    "listaregs=savereg(listaregs,r, depvar=\"No swarm\", name=\"OLS\")\n",
    "\n",
    "r=(OLS(df[\"Fight\"], df[[\"constant\"]].join(pd.get_dummies(df[\"Split location\"], drop_first=True))).fit())\n",
    "listaregs=savereg(listaregs,r, depvar=\"Fight\", name=\"OLS\")\n",
    "\n",
    "r=(OLS(df[\"Diversity\"], df[[\"constant\"]].join(pd.get_dummies(df[\"Split location\"], drop_first=True))).fit())\n",
    "listaregs=savereg(listaregs,r, depvar=\"Diversity\", name=\"OLS\")\n",
    "\n",
    "printregs(listaregs)\n"
   ]
  },
  {
   "cell_type": "markdown",
   "metadata": {},
   "source": [
    "P increased chance of large swarm, as well as decreased chance of no swarm. "
   ]
  },
  {
   "cell_type": "code",
   "execution_count": 23,
   "metadata": {
    "scrolled": true
   },
   "outputs": [
    {
     "data": {
      "text/markdown": [
       "|.|OLS|OLS|OLS|OLS|\n",
       "|---|---|---|---|---|\n",
       "|<b>Dependent variable|<b>Large swarm|<b>No swarm|<b>Fight|<b>Diversity|\n",
       "|constant|-1.51**|-0.195|-0.852|0.325|\n",
       "|SE|(0.695)|(0.202)|(0.717)|(0.422)|\n",
       "|Temp |0.09**|0.008|0.043|0.007|\n",
       "|SE|(0.03)|(0.009)|(0.033)|(0.016)|\n",
       "|11|0.015|-0.012|0.082|-|\n",
       "|SE|(0.24)|(0.015)|(0.175)|-|\n",
       "|12|-0.493|-0.04|-0.345|-|\n",
       "|SE|(0.328)|(0.044)|(0.235)|-|\n",
       "|2|-0.859**|0.154|-0.176|-|\n",
       "|SE|(0.279)|(0.149)|(0.255)|-|\n",
       "|9|0.165|-0.025|0.064|-|\n",
       "|SE|(0.237)|(0.027)|(0.348)|-|\n",
       "|---|---|---|---|---|\n",
       "|<b> rsq|0.362|0.184|0.094|0.009|\n",
       "|<b> N|31|31|31|31|"
      ],
      "text/plain": [
       "<IPython.core.display.Markdown object>"
      ]
     },
     "metadata": {},
     "output_type": "display_data"
    }
   ],
   "source": [
    "listaregs=[]\n",
    "\n",
    "r=(OLS(df[\"Large\"], df[[\"constant\", \"Temp \"]].join(pd.get_dummies(df_aux[\"month\"], drop_first=True))).fit())\n",
    "listaregs=savereg(listaregs,r, depvar=\"Large swarm\", name=\"OLS\")\n",
    "\n",
    "\n",
    "r=(OLS(df[\"No swarm\"], df[[\"constant\", \"Temp \"]].join(pd.get_dummies(df_aux[\"month\"], drop_first=True))).fit())\n",
    "listaregs=savereg(listaregs,r, depvar=\"No swarm\", name=\"OLS\")\n",
    "\n",
    "r=(OLS(df[\"Fight\"], df[[\"constant\", \"Temp \"]].join(pd.get_dummies(df_aux[\"month\"], drop_first=True))).fit())\n",
    "listaregs=savereg(listaregs,r, depvar=\"Fight\", name=\"OLS\")\n",
    "\n",
    "\n",
    "r=(OLS(df[\"Diversity\"], df[[\"constant\", \"Temp \"]]).fit())\n",
    "listaregs=savereg(listaregs,r, depvar=\"Diversity\", name=\"OLS\")\n",
    "printregs(listaregs)\n"
   ]
  },
  {
   "cell_type": "code",
   "execution_count": 24,
   "metadata": {},
   "outputs": [
    {
     "data": {
      "text/markdown": [
       "|.|OLS|OLS|OLS|OLS|\n",
       "|---|---|---|---|---|\n",
       "|<b>Dependent variable|<b>Large swarm|<b>No swarm|<b>Fight|<b>Diversity|\n",
       "|GSE |0.028**|-0.004|0.009|-0.011|\n",
       "|SE|(0.012)|(0.004)|(0.012)|(0.008)|\n",
       "|constant|-0.022|0.094|-0.055|0.736***|\n",
       "|SE|(0.306)|(0.096)|(0.26)|(0.188)|\n",
       "|11|0.137|-0.003|0.093|-|\n",
       "|SE|(0.214)|(0.009)|(0.174)|-|\n",
       "|12|-0.251|0.028|-0.203|-|\n",
       "|SE|(0.339)|(0.031)|(0.163)|-|\n",
       "|2|-0.389|0.203|0.051|-|\n",
       "|SE|(0.26)|(0.178)|(0.224)|-|\n",
       "|9|0.426**|0.0|0.19|-|\n",
       "|SE|(0.177)|(0.004)|(0.299)|-|\n",
       "|---|---|---|---|---|\n",
       "|<b> rsq|0.281|0.188|0.049|0.092|\n",
       "|<b> N|30|30|30|30|"
      ],
      "text/plain": [
       "<IPython.core.display.Markdown object>"
      ]
     },
     "metadata": {},
     "output_type": "display_data"
    }
   ],
   "source": [
    "listaregs=[]\n",
    "r=(OLS(df[\"Large\"], df[[\"GSE \", \"constant\"]].join(pd.get_dummies(df_aux[\"month\"], drop_first=True))).fit())\n",
    "listaregs=savereg(listaregs,r, depvar=\"Large swarm\", name=\"OLS\")\n",
    "\n",
    "r=(OLS(df[\"No swarm\"], df[[\"GSE \", \"constant\"]].join(pd.get_dummies(df_aux[\"month\"], drop_first=True))).fit())\n",
    "listaregs=savereg(listaregs,r, depvar=\"No swarm\", name=\"OLS\")\n",
    "\n",
    "r=(OLS(df[[\"Fight\"]], df[[\"GSE \", \"constant\"]].join(pd.get_dummies(df_aux[\"month\"], drop_first=True))).fit())\n",
    "listaregs=savereg(listaregs,r, depvar=\"Fight\", name=\"OLS\")\n",
    "\n",
    "r=(OLS(df[\"Diversity\"], df[[\"GSE \", \"constant\"]]).fit())\n",
    "listaregs=savereg(listaregs,r, depvar=\"Diversity\", name=\"OLS\")\n",
    "\n",
    "printregs(listaregs)\n"
   ]
  },
  {
   "cell_type": "code",
   "execution_count": 25,
   "metadata": {},
   "outputs": [
    {
     "data": {
      "text/markdown": [
       "|.|OLS|OLS|OLS|OLS|OLS|\n",
       "|---|---|---|---|---|---|\n",
       "|<b>Dependent variable|<b>Large swarm|<b>Large swarm|<b>Large swarm|<b>Large swarm|<b>Large swarm|\n",
       "|constant|0.4**|-0.022|-1.51**|0.196|0.005|\n",
       "|SE|(0.155)|(0.306)|(0.695)|(0.146)|(0.103)|\n",
       "|month_11|0.126|0.137|0.015|0.192|0.437***|\n",
       "|SE|(0.193)|(0.214)|(0.24)|(0.172)|(0.124)|\n",
       "|month_12|-0.067|-0.251|-0.493|0.04|0.004|\n",
       "|SE|(0.313)|(0.339)|(0.328)|(0.241)|(0.069)|\n",
       "|month_2|-0.2|-0.389|-0.859**|-0.113|0.009|\n",
       "|SE|(0.237)|(0.26)|(0.279)|(0.247)|(0.169)|\n",
       "|month_9|0.6***|0.426**|0.165|0.61***|0.996***|\n",
       "|SE|(0.155)|(0.177)|(0.237)|(0.157)|(0.074)|\n",
       "|GSE |-|0.028**|-|-|-|\n",
       "|SE|-|(0.012)|-|-|-|\n",
       "|Temp |-|-|0.09**|-|-|\n",
       "|SE|-|-|(0.03)|-|-|\n",
       "|In situ|-|-|-|0.291**|-|\n",
       "|SE|-|-|-|(0.138)|-|\n",
       "|days_between|-|-|-|-|-0.002|\n",
       "|SE|-|-|-|-|(0.029)|\n",
       "|---|---|---|---|---|---|\n",
       "|<b> rsq|0.137|0.281|0.362|0.217|0.366|\n",
       "|<b> N|40|30|31|40|29|"
      ],
      "text/plain": [
       "<IPython.core.display.Markdown object>"
      ]
     },
     "metadata": {},
     "output_type": "display_data"
    },
    {
     "data": {
      "text/markdown": [
       "|.|OLS|OLS|OLS|OLS|\n",
       "|---|---|---|---|---|\n",
       "|<b>Dependent variable|<b>Large swarm|<b>Large swarm|<b>Large swarm|<b>Large swarm|\n",
       "|GSE |0.019|-|-|-|\n",
       "|SE|(0.013)|-|-|-|\n",
       "|constant|0.159|0.111|0.3**|0.51***|\n",
       "|SE|(0.293)|(0.739)|(0.102)|(0.144)|\n",
       "|Temp |-|0.019|-|-|\n",
       "|SE|-|(0.029)|-|-|\n",
       "|In situ|-|-|0.319**|-|\n",
       "|SE|-|-|(0.147)|-|\n",
       "|days_between|-|-|-|-0.049**|\n",
       "|SE|-|-|-|(0.02)|\n",
       "|---|---|---|---|---|\n",
       "|<b> rsq|0.044|0.012|0.102|0.106|\n",
       "|<b> N|31|32|41|30|"
      ],
      "text/plain": [
       "<IPython.core.display.Markdown object>"
      ]
     },
     "metadata": {},
     "output_type": "display_data"
    }
   ],
   "source": [
    "listaregs=[]\n",
    "df[\"In situ\"]=df[\"Split location\"]==\"P\"\n",
    "\n",
    "r=(OLS(df[\"Large\"], df[[\"constant\"]].join(pd.get_dummies(df_aux[\"month\"], drop_first=True, prefix=\"month\"))).fit())\n",
    "listaregs=savereg(listaregs,r, depvar=\"Large swarm\", name=\"OLS\")\n",
    "\n",
    "r=(OLS(df[\"Large\"], df[[\"GSE \", \"constant\"]].join(pd.get_dummies(df_aux[\"month\"], drop_first=True, prefix=\"month\"))).fit())\n",
    "listaregs=savereg(listaregs,r, depvar=\"Large swarm\", name=\"OLS\")\n",
    "\n",
    "r=(OLS(df[\"Large\"], df[[\"Temp \", \"constant\"]].join(pd.get_dummies(df_aux[\"month\"], drop_first=True, prefix=\"month\"))).fit())\n",
    "listaregs=savereg(listaregs,r, depvar=\"Large swarm\", name=\"OLS\")\n",
    "\n",
    "r=(OLS(df[\"Large\"], df[[\"In situ\", \"constant\"]].join(pd.get_dummies(df_aux[\"month\"], drop_first=True, prefix=\"month\"))).fit())\n",
    "listaregs=savereg(listaregs,r, depvar=\"Large swarm\", name=\"OLS\")\n",
    "\n",
    "r=(OLS(df[\"Large\"], df[[\"days_between\", \"constant\"]].join(pd.get_dummies(df_aux[\"month\"], drop_first=True, prefix=\"month\"))).fit())\n",
    "listaregs=savereg(listaregs,r, depvar=\"Large swarm\", name=\"OLS\")\n",
    "\n",
    "printregs(listaregs)\n",
    "\n",
    "listaregs=[]\n",
    "df[\"In situ\"]=df[\"Split location\"]==\"P\"\n",
    "r=(OLS(df[\"Large\"], df[[\"GSE \", \"constant\"]]).fit())\n",
    "listaregs=savereg(listaregs,r, depvar=\"Large swarm\", name=\"OLS\")\n",
    "\n",
    "r=(OLS(df[\"Large\"], df[[\"Temp \", \"constant\"]]).fit())\n",
    "listaregs=savereg(listaregs,r, depvar=\"Large swarm\", name=\"OLS\")\n",
    "\n",
    "r=(OLS(df[\"Large\"], df[[\"In situ\", \"constant\"]]).fit())\n",
    "listaregs=savereg(listaregs,r, depvar=\"Large swarm\", name=\"OLS\")\n",
    "\n",
    "r=(OLS(df[\"Large\"], df[[\"days_between\", \"constant\"]]).fit())\n",
    "listaregs=savereg(listaregs,r, depvar=\"Large swarm\", name=\"OLS\")\n",
    "\n",
    "printregs(listaregs)\n"
   ]
  },
  {
   "cell_type": "code",
   "execution_count": 26,
   "metadata": {},
   "outputs": [],
   "source": [
    "from statsmodels.discrete.discrete_model import Logit"
   ]
  },
  {
   "cell_type": "code",
   "execution_count": 63,
   "metadata": {},
   "outputs": [],
   "source": [
    "def logit2(endog, exog):\n",
    "    colis=list(exog.columns)\n",
    "    df=exog\n",
    "    df[endog.name]=endog\n",
    "    #print(df)\n",
    "    df=df.dropna(axis=0)\n",
    "    print(df)\n",
    "    return Logit(df[endog.name], df[colis])"
   ]
  },
  {
   "cell_type": "code",
   "execution_count": 64,
   "metadata": {},
   "outputs": [
    {
     "name": "stdout",
     "output_type": "stream",
     "text": [
      "    constant  month_11  month_12  month_2  month_9  Large\n",
      "0          1         0         0        0        1      1\n",
      "1          1         0         0        0        1      1\n",
      "2          1         0         0        0        1      1\n",
      "3          1         1         0        0        0      1\n",
      "4          1         0         0        1        0      1\n",
      "5          1         1         0        0        0      1\n",
      "6          1         1         0        0        0      1\n",
      "7          1         1         0        0        0      0\n",
      "8          1         1         0        0        0      1\n",
      "9          1         1         0        0        0      1\n",
      "10         1         1         0        0        0      0\n",
      "11         1         0         1        0        0      0\n",
      "12         1         0         0        1        0      0\n",
      "13         1         0         0        1        0      0\n",
      "14         1         0         0        1        0      0\n",
      "15         1         0         0        1        0      0\n",
      "23         1         0         1        0        0      1\n",
      "24         1         1         0        0        0      1\n",
      "25         1         0         0        0        0      0\n",
      "26         1         1         0        0        0      1\n",
      "27         1         0         0        0        0      1\n",
      "28         1         0         0        0        0      0\n",
      "29         1         1         0        0        0      0\n",
      "30         1         1         0        0        0      1\n",
      "31         1         0         0        0        0      1\n",
      "32         1         1         0        0        0      1\n",
      "33         1         0         0        0        0      1\n",
      "34         1         0         0        0        0      1\n",
      "35         1         1         0        0        0      1\n",
      "36         1         0         0        0        0      0\n",
      "37         1         0         0        0        0      0\n",
      "38         1         0         0        0        0      0\n",
      "39         1         1         0        0        0      0\n",
      "40         1         1         0        0        0      0\n",
      "41         1         1         0        0        0      0\n",
      "42         1         1         0        0        0      0\n",
      "43         1         1         0        0        0      0\n",
      "44         1         1         0        0        0      0\n",
      "45         1         0         1        0        0      0\n",
      "46         1         0         0        0        0      0\n",
      "Warning: Maximum number of iterations has been exceeded.\n",
      "         Current function value: 0.607128\n",
      "         Iterations: 35\n",
      "    GSE   constant  month_11  month_12  month_2  month_9  Large\n",
      "0   20.8         1         0         0        0        1      1\n",
      "1   21.3         1         0         0        0        1      1\n",
      "2   22.1         1         0         0        0        1      1\n",
      "3   27.8         1         1         0        0        0      1\n",
      "4   21.2         1         0         0        1        0      1\n",
      "6   24.9         1         1         0        0        0      1\n",
      "7   24.9         1         1         0        0        0      0\n",
      "8   24.5         1         1         0        0        0      1\n",
      "9   28.7         1         1         0        0        0      1\n",
      "10  24.9         1         1         0        0        0      0\n",
      "11  24.0         1         0         1        0        0      0\n",
      "12  28.5         1         0         0        1        0      0\n",
      "13  18.5         1         0         0        1        0      0\n",
      "14  24.7         1         0         0        1        0      0\n",
      "15  16.8         1         0         0        1        0      0\n",
      "23  31.5         1         0         1        0        0      1\n",
      "24  22.0         1         1         0        0        0      1\n",
      "25  17.7         1         0         0        0        0      0\n",
      "26  26.3         1         1         0        0        0      1\n",
      "27  20.9         1         0         0        0        0      1\n",
      "28  19.5         1         0         0        0        0      0\n",
      "29  15.1         1         1         0        0        0      0\n",
      "30  17.7         1         1         0        0        0      1\n",
      "31  23.0         1         0         0        0        0      1\n",
      "32  14.6         1         1         0        0        0      1\n",
      "33  21.6         1         0         0        0        0      1\n",
      "34  23.5         1         0         0        0        0      1\n",
      "35  15.1         1         1         0        0        0      1\n",
      "44   3.1         1         1         0        0        0      0\n",
      "46  23.0         1         0         0        0        0      0\n",
      "Optimization terminated successfully.\n",
      "         Current function value: 0.508573\n",
      "         Iterations 22\n"
     ]
    },
    {
     "name": "stderr",
     "output_type": "stream",
     "text": [
      "/Users/Bernardo/miniconda3/lib/python3.7/site-packages/statsmodels/base/model.py:512: ConvergenceWarning: Maximum Likelihood optimization failed to converge. Check mle_retvals\n",
      "  \"Check mle_retvals\", ConvergenceWarning)\n"
     ]
    },
    {
     "ename": "LinAlgError",
     "evalue": "Singular matrix",
     "output_type": "error",
     "traceback": [
      "\u001b[0;31m---------------------------------------------------------------------------\u001b[0m",
      "\u001b[0;31mLinAlgError\u001b[0m                               Traceback (most recent call last)",
      "\u001b[0;32m<ipython-input-64-84874a8bacee>\u001b[0m in \u001b[0;36m<module>\u001b[0;34m\u001b[0m\n\u001b[1;32m     10\u001b[0m \u001b[0mlistaregs\u001b[0m\u001b[0;34m=\u001b[0m\u001b[0msavereg\u001b[0m\u001b[0;34m(\u001b[0m\u001b[0mlistaregs\u001b[0m\u001b[0;34m,\u001b[0m\u001b[0mr\u001b[0m\u001b[0;34m,\u001b[0m \u001b[0mdepvar\u001b[0m\u001b[0;34m=\u001b[0m\u001b[0;34m\"Large swarm\"\u001b[0m\u001b[0;34m,\u001b[0m \u001b[0mname\u001b[0m\u001b[0;34m=\u001b[0m\u001b[0;34m\"Logit\"\u001b[0m\u001b[0;34m,\u001b[0m \u001b[0mlogit\u001b[0m\u001b[0;34m=\u001b[0m\u001b[0;32mTrue\u001b[0m\u001b[0;34m)\u001b[0m\u001b[0;34m\u001b[0m\u001b[0;34m\u001b[0m\u001b[0m\n\u001b[1;32m     11\u001b[0m \u001b[0;34m\u001b[0m\u001b[0m\n\u001b[0;32m---> 12\u001b[0;31m \u001b[0mr\u001b[0m\u001b[0;34m=\u001b[0m\u001b[0;34m(\u001b[0m\u001b[0mlogit2\u001b[0m\u001b[0;34m(\u001b[0m\u001b[0mdfaux\u001b[0m\u001b[0;34m[\u001b[0m\u001b[0;34m\"Large\"\u001b[0m\u001b[0;34m]\u001b[0m\u001b[0;34m,\u001b[0m \u001b[0mdfaux\u001b[0m\u001b[0;34m[\u001b[0m\u001b[0;34m[\u001b[0m\u001b[0;34m\"GSE \"\u001b[0m\u001b[0;34m,\u001b[0m \u001b[0;34m\"constant\"\u001b[0m\u001b[0;34m]\u001b[0m\u001b[0;34m]\u001b[0m\u001b[0;34m.\u001b[0m\u001b[0mjoin\u001b[0m\u001b[0;34m(\u001b[0m\u001b[0mpd\u001b[0m\u001b[0;34m.\u001b[0m\u001b[0mget_dummies\u001b[0m\u001b[0;34m(\u001b[0m\u001b[0mdf_aux\u001b[0m\u001b[0;34m[\u001b[0m\u001b[0;34m\"month\"\u001b[0m\u001b[0;34m]\u001b[0m\u001b[0;34m,\u001b[0m \u001b[0mdrop_first\u001b[0m\u001b[0;34m=\u001b[0m\u001b[0;32mTrue\u001b[0m\u001b[0;34m,\u001b[0m \u001b[0mprefix\u001b[0m\u001b[0;34m=\u001b[0m\u001b[0;34m\"month\"\u001b[0m\u001b[0;34m)\u001b[0m\u001b[0;34m)\u001b[0m\u001b[0;34m)\u001b[0m\u001b[0;34m.\u001b[0m\u001b[0mfit\u001b[0m\u001b[0;34m(\u001b[0m\u001b[0;34m)\u001b[0m\u001b[0;34m)\u001b[0m\u001b[0;34m\u001b[0m\u001b[0;34m\u001b[0m\u001b[0m\n\u001b[0m\u001b[1;32m     13\u001b[0m \u001b[0mlistaregs\u001b[0m\u001b[0;34m=\u001b[0m\u001b[0msavereg\u001b[0m\u001b[0;34m(\u001b[0m\u001b[0mlistaregs\u001b[0m\u001b[0;34m,\u001b[0m\u001b[0mr\u001b[0m\u001b[0;34m,\u001b[0m \u001b[0mdepvar\u001b[0m\u001b[0;34m=\u001b[0m\u001b[0;34m\"Large swarm\"\u001b[0m\u001b[0;34m,\u001b[0m \u001b[0mname\u001b[0m\u001b[0;34m=\u001b[0m\u001b[0;34m\"Logit\"\u001b[0m\u001b[0;34m,\u001b[0m \u001b[0mlogit\u001b[0m\u001b[0;34m=\u001b[0m\u001b[0;32mTrue\u001b[0m\u001b[0;34m)\u001b[0m\u001b[0;34m\u001b[0m\u001b[0;34m\u001b[0m\u001b[0m\n\u001b[1;32m     14\u001b[0m \u001b[0;34m\u001b[0m\u001b[0m\n",
      "\u001b[0;32m~/miniconda3/lib/python3.7/site-packages/statsmodels/discrete/discrete_model.py\u001b[0m in \u001b[0;36mfit\u001b[0;34m(self, start_params, method, maxiter, full_output, disp, callback, **kwargs)\u001b[0m\n\u001b[1;32m   1899\u001b[0m         bnryfit = super(Logit, self).fit(start_params=start_params,\n\u001b[1;32m   1900\u001b[0m                 \u001b[0mmethod\u001b[0m\u001b[0;34m=\u001b[0m\u001b[0mmethod\u001b[0m\u001b[0;34m,\u001b[0m \u001b[0mmaxiter\u001b[0m\u001b[0;34m=\u001b[0m\u001b[0mmaxiter\u001b[0m\u001b[0;34m,\u001b[0m \u001b[0mfull_output\u001b[0m\u001b[0;34m=\u001b[0m\u001b[0mfull_output\u001b[0m\u001b[0;34m,\u001b[0m\u001b[0;34m\u001b[0m\u001b[0;34m\u001b[0m\u001b[0m\n\u001b[0;32m-> 1901\u001b[0;31m                 disp=disp, callback=callback, **kwargs)\n\u001b[0m\u001b[1;32m   1902\u001b[0m \u001b[0;34m\u001b[0m\u001b[0m\n\u001b[1;32m   1903\u001b[0m         \u001b[0mdiscretefit\u001b[0m \u001b[0;34m=\u001b[0m \u001b[0mLogitResults\u001b[0m\u001b[0;34m(\u001b[0m\u001b[0mself\u001b[0m\u001b[0;34m,\u001b[0m \u001b[0mbnryfit\u001b[0m\u001b[0;34m)\u001b[0m\u001b[0;34m\u001b[0m\u001b[0;34m\u001b[0m\u001b[0m\n",
      "\u001b[0;32m~/miniconda3/lib/python3.7/site-packages/statsmodels/discrete/discrete_model.py\u001b[0m in \u001b[0;36mfit\u001b[0;34m(self, start_params, method, maxiter, full_output, disp, callback, **kwargs)\u001b[0m\n\u001b[1;32m    214\u001b[0m         mlefit = super(DiscreteModel, self).fit(start_params=start_params,\n\u001b[1;32m    215\u001b[0m                 \u001b[0mmethod\u001b[0m\u001b[0;34m=\u001b[0m\u001b[0mmethod\u001b[0m\u001b[0;34m,\u001b[0m \u001b[0mmaxiter\u001b[0m\u001b[0;34m=\u001b[0m\u001b[0mmaxiter\u001b[0m\u001b[0;34m,\u001b[0m \u001b[0mfull_output\u001b[0m\u001b[0;34m=\u001b[0m\u001b[0mfull_output\u001b[0m\u001b[0;34m,\u001b[0m\u001b[0;34m\u001b[0m\u001b[0;34m\u001b[0m\u001b[0m\n\u001b[0;32m--> 216\u001b[0;31m                 disp=disp, callback=callback, **kwargs)\n\u001b[0m\u001b[1;32m    217\u001b[0m \u001b[0;34m\u001b[0m\u001b[0m\n\u001b[1;32m    218\u001b[0m         \u001b[0;32mreturn\u001b[0m \u001b[0mmlefit\u001b[0m \u001b[0;31m# up to subclasses to wrap results\u001b[0m\u001b[0;34m\u001b[0m\u001b[0;34m\u001b[0m\u001b[0m\n",
      "\u001b[0;32m~/miniconda3/lib/python3.7/site-packages/statsmodels/base/model.py\u001b[0m in \u001b[0;36mfit\u001b[0;34m(self, start_params, method, maxiter, full_output, disp, fargs, callback, retall, skip_hessian, **kwargs)\u001b[0m\n\u001b[1;32m    475\u001b[0m             \u001b[0mHinv\u001b[0m \u001b[0;34m=\u001b[0m \u001b[0mcov_params_func\u001b[0m\u001b[0;34m(\u001b[0m\u001b[0mself\u001b[0m\u001b[0;34m,\u001b[0m \u001b[0mxopt\u001b[0m\u001b[0;34m,\u001b[0m \u001b[0mretvals\u001b[0m\u001b[0;34m)\u001b[0m\u001b[0;34m\u001b[0m\u001b[0;34m\u001b[0m\u001b[0m\n\u001b[1;32m    476\u001b[0m         \u001b[0;32melif\u001b[0m \u001b[0mmethod\u001b[0m \u001b[0;34m==\u001b[0m \u001b[0;34m'newton'\u001b[0m \u001b[0;32mand\u001b[0m \u001b[0mfull_output\u001b[0m\u001b[0;34m:\u001b[0m\u001b[0;34m\u001b[0m\u001b[0;34m\u001b[0m\u001b[0m\n\u001b[0;32m--> 477\u001b[0;31m             \u001b[0mHinv\u001b[0m \u001b[0;34m=\u001b[0m \u001b[0mnp\u001b[0m\u001b[0;34m.\u001b[0m\u001b[0mlinalg\u001b[0m\u001b[0;34m.\u001b[0m\u001b[0minv\u001b[0m\u001b[0;34m(\u001b[0m\u001b[0;34m-\u001b[0m\u001b[0mretvals\u001b[0m\u001b[0;34m[\u001b[0m\u001b[0;34m'Hessian'\u001b[0m\u001b[0;34m]\u001b[0m\u001b[0;34m)\u001b[0m \u001b[0;34m/\u001b[0m \u001b[0mnobs\u001b[0m\u001b[0;34m\u001b[0m\u001b[0;34m\u001b[0m\u001b[0m\n\u001b[0m\u001b[1;32m    478\u001b[0m         \u001b[0;32melif\u001b[0m \u001b[0;32mnot\u001b[0m \u001b[0mskip_hessian\u001b[0m\u001b[0;34m:\u001b[0m\u001b[0;34m\u001b[0m\u001b[0;34m\u001b[0m\u001b[0m\n\u001b[1;32m    479\u001b[0m             \u001b[0mH\u001b[0m \u001b[0;34m=\u001b[0m \u001b[0;34m-\u001b[0m\u001b[0;36m1\u001b[0m \u001b[0;34m*\u001b[0m \u001b[0mself\u001b[0m\u001b[0;34m.\u001b[0m\u001b[0mhessian\u001b[0m\u001b[0;34m(\u001b[0m\u001b[0mxopt\u001b[0m\u001b[0;34m)\u001b[0m\u001b[0;34m\u001b[0m\u001b[0;34m\u001b[0m\u001b[0m\n",
      "\u001b[0;32m<__array_function__ internals>\u001b[0m in \u001b[0;36minv\u001b[0;34m(*args, **kwargs)\u001b[0m\n",
      "\u001b[0;32m~/miniconda3/lib/python3.7/site-packages/numpy/linalg/linalg.py\u001b[0m in \u001b[0;36minv\u001b[0;34m(a)\u001b[0m\n\u001b[1;32m    545\u001b[0m     \u001b[0msignature\u001b[0m \u001b[0;34m=\u001b[0m \u001b[0;34m'D->D'\u001b[0m \u001b[0;32mif\u001b[0m \u001b[0misComplexType\u001b[0m\u001b[0;34m(\u001b[0m\u001b[0mt\u001b[0m\u001b[0;34m)\u001b[0m \u001b[0;32melse\u001b[0m \u001b[0;34m'd->d'\u001b[0m\u001b[0;34m\u001b[0m\u001b[0;34m\u001b[0m\u001b[0m\n\u001b[1;32m    546\u001b[0m     \u001b[0mextobj\u001b[0m \u001b[0;34m=\u001b[0m \u001b[0mget_linalg_error_extobj\u001b[0m\u001b[0;34m(\u001b[0m\u001b[0m_raise_linalgerror_singular\u001b[0m\u001b[0;34m)\u001b[0m\u001b[0;34m\u001b[0m\u001b[0;34m\u001b[0m\u001b[0m\n\u001b[0;32m--> 547\u001b[0;31m     \u001b[0mainv\u001b[0m \u001b[0;34m=\u001b[0m \u001b[0m_umath_linalg\u001b[0m\u001b[0;34m.\u001b[0m\u001b[0minv\u001b[0m\u001b[0;34m(\u001b[0m\u001b[0ma\u001b[0m\u001b[0;34m,\u001b[0m \u001b[0msignature\u001b[0m\u001b[0;34m=\u001b[0m\u001b[0msignature\u001b[0m\u001b[0;34m,\u001b[0m \u001b[0mextobj\u001b[0m\u001b[0;34m=\u001b[0m\u001b[0mextobj\u001b[0m\u001b[0;34m)\u001b[0m\u001b[0;34m\u001b[0m\u001b[0;34m\u001b[0m\u001b[0m\n\u001b[0m\u001b[1;32m    548\u001b[0m     \u001b[0;32mreturn\u001b[0m \u001b[0mwrap\u001b[0m\u001b[0;34m(\u001b[0m\u001b[0mainv\u001b[0m\u001b[0;34m.\u001b[0m\u001b[0mastype\u001b[0m\u001b[0;34m(\u001b[0m\u001b[0mresult_t\u001b[0m\u001b[0;34m,\u001b[0m \u001b[0mcopy\u001b[0m\u001b[0;34m=\u001b[0m\u001b[0;32mFalse\u001b[0m\u001b[0;34m)\u001b[0m\u001b[0;34m)\u001b[0m\u001b[0;34m\u001b[0m\u001b[0;34m\u001b[0m\u001b[0m\n\u001b[1;32m    549\u001b[0m \u001b[0;34m\u001b[0m\u001b[0m\n",
      "\u001b[0;32m~/miniconda3/lib/python3.7/site-packages/numpy/linalg/linalg.py\u001b[0m in \u001b[0;36m_raise_linalgerror_singular\u001b[0;34m(err, flag)\u001b[0m\n\u001b[1;32m     95\u001b[0m \u001b[0;34m\u001b[0m\u001b[0m\n\u001b[1;32m     96\u001b[0m \u001b[0;32mdef\u001b[0m \u001b[0m_raise_linalgerror_singular\u001b[0m\u001b[0;34m(\u001b[0m\u001b[0merr\u001b[0m\u001b[0;34m,\u001b[0m \u001b[0mflag\u001b[0m\u001b[0;34m)\u001b[0m\u001b[0;34m:\u001b[0m\u001b[0;34m\u001b[0m\u001b[0;34m\u001b[0m\u001b[0m\n\u001b[0;32m---> 97\u001b[0;31m     \u001b[0;32mraise\u001b[0m \u001b[0mLinAlgError\u001b[0m\u001b[0;34m(\u001b[0m\u001b[0;34m\"Singular matrix\"\u001b[0m\u001b[0;34m)\u001b[0m\u001b[0;34m\u001b[0m\u001b[0;34m\u001b[0m\u001b[0m\n\u001b[0m\u001b[1;32m     98\u001b[0m \u001b[0;34m\u001b[0m\u001b[0m\n\u001b[1;32m     99\u001b[0m \u001b[0;32mdef\u001b[0m \u001b[0m_raise_linalgerror_nonposdef\u001b[0m\u001b[0;34m(\u001b[0m\u001b[0merr\u001b[0m\u001b[0;34m,\u001b[0m \u001b[0mflag\u001b[0m\u001b[0;34m)\u001b[0m\u001b[0;34m:\u001b[0m\u001b[0;34m\u001b[0m\u001b[0;34m\u001b[0m\u001b[0m\n",
      "\u001b[0;31mLinAlgError\u001b[0m: Singular matrix"
     ]
    }
   ],
   "source": [
    "listaregs=[]\n",
    "df[\"In situ\"]=df[\"Split location\"]==\"P\"\n",
    "\n",
    "dfaux=df[~pd.isna(df[\"Large\"])]\n",
    "dfaux=df[dfaux.month!=\"3\"]\n",
    "\n",
    "df_aux=dfaux[dfaux.month!=\"3\"]\n",
    "\n",
    "r=(logit2(dfaux[\"Large\"],dfaux[[\"constant\"]].join(pd.get_dummies(df_aux[\"month\"], drop_first=True, prefix=\"month\"))).fit())\n",
    "listaregs=savereg(listaregs,r, depvar=\"Large swarm\", name=\"Logit\", logit=True)\n",
    "\n",
    "r=(logit2(dfaux[\"Large\"], dfaux[[\"GSE \", \"constant\"]].join(pd.get_dummies(df_aux[\"month\"], drop_first=True, prefix=\"month\"))).fit())\n",
    "listaregs=savereg(listaregs,r, depvar=\"Large swarm\", name=\"Logit\", logit=True)\n",
    "\n",
    "r=(logit2(df[\"Large\"], df[[\"Temp \", \"constant\"]].join(pd.get_dummies(df_aux[\"month\"], drop_first=True, prefix=\"month\"))).fit())\n",
    "listaregs=savereg(listaregs,r, depvar=\"Large swarm\", name=\"Logit\", logit=True)\n",
    "\n",
    "r=(logit2(df[\"Large\"], df[[\"In situ\", \"constant\"]].join(pd.get_dummies(df_aux[\"month\"], drop_first=True, prefix=\"month\"))).fit())\n",
    "listaregs=savereg(listaregs,r, depvar=\"Large swarm\", name=\"Logit\", logit=True)\n",
    "\n",
    "r=(logit2(df[\"Large\"], df[[\"days_between\", \"constant\"]].join(pd.get_dummies(df_aux[\"month\"], drop_first=True, prefix=\"month\"))).fit())\n",
    "listaregs=savereg(listaregs,r, depvar=\"Large swarm\", name=\"Logit\", logit=True)\n",
    "\n",
    "printregs(listaregs)\n",
    "\n",
    "listaregs=[]\n",
    "df[\"In situ\"]=df[\"Split location\"]==\"P\"\n",
    "r=(logit2(df[\"Large\"], df[[\"GSE \", \"constant\"]]).fit())\n",
    "listaregs=savereg(listaregs,r, depvar=\"Large swarm\", name=\"Logit\", logit=True)\n",
    "\n",
    "r=(logit2(df[\"Large\"], df[[\"Temp \", \"constant\"]]).fit())\n",
    "listaregs=savereg(listaregs,r, depvar=\"Large swarm\", name=\"Logit\", logit=True)\n",
    "\n",
    "r=(logit2(df[\"Large\"], df[[\"In situ\", \"constant\"]]).fit())\n",
    "listaregs=savereg(listaregs,r, depvar=\"Large swarm\", name=\"Logit\", logit=True)\n",
    "\n",
    "r=(logit2(df[\"Large\"], df[[\"days_between\", \"constant\"]]).fit())\n",
    "listaregs=savereg(listaregs,r, depvar=\"Large swarm\", name=\"Logit\", logit=True)\n",
    "\n",
    "printregs(listaregs)\n"
   ]
  },
  {
   "cell_type": "code",
   "execution_count": 67,
   "metadata": {},
   "outputs": [
    {
     "name": "stdout",
     "output_type": "stream",
     "text": [
      "    GSE   constant  Large\n",
      "0   20.8         1      1\n",
      "1   21.3         1      1\n",
      "2   22.1         1      1\n",
      "3   27.8         1      1\n",
      "4   21.2         1      1\n",
      "6   24.9         1      1\n",
      "7   24.9         1      0\n",
      "8   24.5         1      1\n",
      "9   28.7         1      1\n",
      "10  24.9         1      0\n",
      "11  24.0         1      0\n",
      "12  28.5         1      0\n",
      "13  18.5         1      0\n",
      "14  24.7         1      0\n",
      "15  16.8         1      0\n",
      "23  31.5         1      1\n",
      "24  22.0         1      1\n",
      "25  17.7         1      0\n",
      "26  26.3         1      1\n",
      "27  20.9         1      1\n",
      "28  19.5         1      0\n",
      "29  15.1         1      0\n",
      "30  17.7         1      1\n",
      "31  23.0         1      1\n",
      "32  14.6         1      1\n",
      "33  21.6         1      1\n",
      "34  23.5         1      1\n",
      "35  15.1         1      1\n",
      "44   3.1         1      0\n",
      "46  23.0         1      0\n",
      "Optimization terminated successfully.\n",
      "         Current function value: 0.644827\n",
      "         Iterations 5\n"
     ]
    },
    {
     "name": "stderr",
     "output_type": "stream",
     "text": [
      "/Users/Bernardo/miniconda3/lib/python3.7/site-packages/ipykernel_launcher.py:4: SettingWithCopyWarning: \n",
      "A value is trying to be set on a copy of a slice from a DataFrame.\n",
      "Try using .loc[row_indexer,col_indexer] = value instead\n",
      "\n",
      "See the caveats in the documentation: http://pandas.pydata.org/pandas-docs/stable/indexing.html#indexing-view-versus-copy\n",
      "  after removing the cwd from sys.path.\n"
     ]
    }
   ],
   "source": [
    "\n",
    "r=(logit2(dfaux[\"Large\"], dfaux[[\"GSE \", \"constant\"]].join(pd.get_dummies(df_aux[\"month\"], drop_first=True, prefix=\"month\"))).fit())\n",
    "listaregs=savereg(listaregs,r, depvar=\"Large swarm\", name=\"Logit\", logit=True)\n"
   ]
  },
  {
   "cell_type": "code",
   "execution_count": 38,
   "metadata": {
    "scrolled": true
   },
   "outputs": [
    {
     "data": {
      "text/plain": [
       "array([[ 1.        , -0.35473536],\n",
       "       [-0.35473536,  1.        ]])"
      ]
     },
     "execution_count": 38,
     "metadata": {},
     "output_type": "execute_result"
    }
   ],
   "source": [
    "np.corrcoef((df[\"month\"]==\"na\"), (df[\"Split location\"]==\"P\"))"
   ]
  },
  {
   "cell_type": "code",
   "execution_count": null,
   "metadata": {},
   "outputs": [],
   "source": []
  },
  {
   "cell_type": "code",
   "execution_count": 201,
   "metadata": {},
   "outputs": [
    {
     "data": {
      "text/plain": [
       "Index(['Set', 'Site No.', 'Bait colony', 'Location', 'Longitude', 'Latitude',\n",
       "       'Split day', 'Set Up date', 'Sample date', 'Confirmation of VQ',\n",
       "       'Requeened succesfully', 'GSE ', 'Temp ', 'Max Temp', 'Size',\n",
       "       'Duration ', 'Split location', 'F', 'No. of fam', 'No. of males',\n",
       "       'constant', 'Large', 'No swarm', 'Fight', 'Diversity', 'splitdate',\n",
       "       'setupdate', 'days_between', 'month', 'sampledate', 'days_to_form'],\n",
       "      dtype='object')"
      ]
     },
     "execution_count": 201,
     "metadata": {},
     "output_type": "execute_result"
    }
   ],
   "source": [
    "df.columns"
   ]
  },
  {
   "cell_type": "code",
   "execution_count": 202,
   "metadata": {},
   "outputs": [
    {
     "data": {
      "text/plain": [
       "(array([7., 6., 6., 6., 2., 1., 0., 0., 1., 2.]),\n",
       " array([  3. ,  56.1, 109.2, 162.3, 215.4, 268.5, 321.6, 374.7, 427.8,\n",
       "        480.9, 534. ]),\n",
       " <a list of 10 Patch objects>)"
      ]
     },
     "execution_count": 202,
     "metadata": {},
     "output_type": "execute_result"
    },
    {
     "data": {
      "image/png": "[encoded data removed]",
      "text/plain": [
       "<Figure size 432x288 with 1 Axes>"
      ]
     },
     "metadata": {
      "needs_background": "light"
     },
     "output_type": "display_data"
    }
   ],
   "source": [
    "plt.hist(df[\"No. of males\"])"
   ]
  },
  {
   "cell_type": "code",
   "execution_count": 203,
   "metadata": {},
   "outputs": [
    {
     "data": {
      "text/plain": [
       "(array([1., 3., 2., 1., 5., 0., 0., 0., 0., 1.]),\n",
       " array([0.2254902 , 0.29039216, 0.35529412, 0.42019608, 0.48509804,\n",
       "        0.55      , 0.61490196, 0.67980392, 0.74470588, 0.80960784,\n",
       "        0.8745098 ]),\n",
       " <a list of 10 Patch objects>)"
      ]
     },
     "execution_count": 203,
     "metadata": {},
     "output_type": "execute_result"
    },
    {
     "data": {
      "image/png": "[encoded data removed]",
      "text/plain": [
       "<Figure size 432x288 with 1 Axes>"
      ]
     },
     "metadata": {
      "needs_background": "light"
     },
     "output_type": "display_data"
    }
   ],
   "source": [
    "plt.hist(df[df[\"No. of males\"]>150][\"Diversity\"], bins=10)"
   ]
  },
  {
   "cell_type": "code",
   "execution_count": 213,
   "metadata": {},
   "outputs": [
    {
     "data": {
      "text/plain": [
       "Index(['Set', 'Site No.', 'Bait colony', 'Location', 'Longitude', 'Latitude',\n",
       "       'Split day', 'Set Up date', 'Sample date', 'Confirmation of VQ',\n",
       "       'Requeened succesfully', 'GSE ', 'Temp ', 'Max Temp', 'Size',\n",
       "       'Duration ', 'Split location', 'F', 'No. of fam', 'No. of males',\n",
       "       'constant', 'Large', 'No swarm', 'Fight', 'Diversity', 'splitdate',\n",
       "       'setupdate', 'days_between', 'month', 'sampledate', 'days_to_form'],\n",
       "      dtype='object')"
      ]
     },
     "execution_count": 213,
     "metadata": {},
     "output_type": "execute_result"
    }
   ],
   "source": [
    "df.columns"
   ]
  },
  {
   "cell_type": "code",
   "execution_count": 222,
   "metadata": {},
   "outputs": [
    {
     "data": {
      "image/png": "[encoded data removed]",
      "text/plain": [
       "<Figure size 504x504 with 1 Axes>"
      ]
     },
     "metadata": {
      "needs_background": "light"
     },
     "output_type": "display_data"
    }
   ],
   "source": [
    "fig=plt.figure(figsize=(7,7))\n",
    "for seti in list(set(df[\"Set\"])):\n",
    "    dfset=df[df[\"Set\"]==seti]\n",
    "    if seti!=1:\n",
    "        plt.scatter(dfset[\"No. of males\"], dfset[\"No. of fam\"], label=\"Swarms from set \"+str(seti))\n",
    "plt.legend()\n",
    "plt.ylabel(\"Number of families\")\n",
    "plt.xlabel(\"Number of males samples\")\n",
    "fig.savefig(\"graph_swarms.pdf\")\n",
    "plt.show()"
   ]
  },
  {
   "cell_type": "code",
   "execution_count": 223,
   "metadata": {},
   "outputs": [
    {
     "data": {
      "text/plain": [
       "0.49285165776468315"
      ]
     },
     "execution_count": 223,
     "metadata": {},
     "output_type": "execute_result"
    }
   ],
   "source": [
    "np.mean(df[\"Diversity\"])"
   ]
  },
  {
   "cell_type": "code",
   "execution_count": 225,
   "metadata": {},
   "outputs": [
    {
     "data": {
      "text/plain": [
       "0.1978050149843988"
      ]
     },
     "execution_count": 225,
     "metadata": {},
     "output_type": "execute_result"
    }
   ],
   "source": [
    "np.std(df[\"Diversity\"])"
   ]
  },
  {
   "cell_type": "code",
   "execution_count": 226,
   "metadata": {},
   "outputs": [
    {
     "data": {
      "text/plain": [
       "79.51612903225806"
      ]
     },
     "execution_count": 226,
     "metadata": {},
     "output_type": "execute_result"
    }
   ],
   "source": [
    "np.mean(df[\"No. of fam\"])"
   ]
  },
  {
   "cell_type": "code",
   "execution_count": 227,
   "metadata": {},
   "outputs": [
    {
     "data": {
      "text/plain": [
       "88.47156312505054"
      ]
     },
     "execution_count": 227,
     "metadata": {},
     "output_type": "execute_result"
    }
   ],
   "source": [
    "np.std(df[\"No. of fam\"])"
   ]
  },
  {
   "cell_type": "code",
   "execution_count": 69,
   "metadata": {},
   "outputs": [
    {
     "name": "stdout",
     "output_type": "stream",
     "text": [
      "3.7.3 (default, Mar 27 2019, 16:54:48) \n",
      "[Clang 4.0.1 (tags/RELEASE_401/final)]\n"
     ]
    }
   ],
   "source": [
    "import sys \n",
    "print(sys.version) "
   ]
  },
  {
   "cell_type": "code",
   "execution_count": null,
   "metadata": {},
   "outputs": [],
   "source": []
  }
 ],
 "metadata": {
  "kernelspec": {
   "display_name": "Python 3",
   "language": "python",
   "name": "python3"
  },
  "language_info": {
   "codemirror_mode": {
    "name": "ipython",
    "version": 3
   },
   "file_extension": ".py",
   "mimetype": "text/x-python",
   "name": "python",
   "nbconvert_exporter": "python",
   "pygments_lexer": "ipython3",
   "version": "3.7.7"
  }
 },
 "nbformat": 4,
 "nbformat_minor": 2
}
