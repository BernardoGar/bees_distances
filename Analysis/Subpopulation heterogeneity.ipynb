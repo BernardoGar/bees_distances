{
 "cells": [
  {
   "cell_type": "code",
   "execution_count": 1,
   "metadata": {},
   "outputs": [
    {
     "name": "stderr",
     "output_type": "stream",
     "text": [
      "\n",
      "Bad key \"text.kerning_factor\" on line 4 in\n",
      "/Users/Bernardo/miniconda3/lib/python3.7/site-packages/matplotlib/mpl-data/stylelib/_classic_test_patch.mplstyle.\n",
      "You probably need to get an updated matplotlibrc file from\n",
      "http://github.com/matplotlib/matplotlib/blob/master/matplotlibrc.template\n",
      "or from the matplotlib source distribution\n"
     ]
    }
   ],
   "source": [
    "%matplotlib inline\n",
    "import matplotlib.pyplot as plt\n",
    "import numpy as np\n",
    "import utm\n",
    "import pandas as pd\n",
    "import math\n",
    "from matplotlib.pyplot import figure\n",
    "from matplotlib import cm as CM\n",
    "from matplotlib import mlab as ML"
   ]
  },
  {
   "cell_type": "code",
   "execution_count": 2,
   "metadata": {},
   "outputs": [],
   "source": [
    "def searchfam(i, familias):\n",
    "    if i.find(\"SYD8\")>0: i=i.replace(\"SYD8\", \"\")\n",
    "    for k in familias:\n",
    "        if i in k[\"integrantes\"]: \n",
    "            return k\n",
    "    return {\"Familia\":\"none\", \"c1\":0, \"c2\":0}\n",
    "\n",
    "#Function to get bootstrap metrics\n",
    "def bootit(lista):\n",
    "    proms=[]\n",
    "    if len(lista)<1000:\n",
    "        for s in range(500):\n",
    "            nl=random.choices(lista, k=len(lista))\n",
    "            proms.append(np.mean(nl))\n",
    "        return np.percentile(proms, 5), np.percentile(proms, 95)\n",
    "    else:\n",
    "        error_std=np.std(lista)/(len(lista)**0.5)\n",
    "        return np.mean(lista)-1.96*error_std, np.mean(lista)+1.96*error_std\n",
    "    \n",
    "\n",
    "    \n",
    "    \n",
    "def distancia_fisica(a, b, information):\n",
    "    x1=information[a][\"utm_xy\"][0]\n",
    "    y1=information[a][\"utm_xy\"][1]\n",
    "    x2=information[b][\"utm_xy\"][0]\n",
    "    y2=information[b][\"utm_xy\"][1]\n",
    "    return euclidean_dist((x1, y1), (x2, y2))\n",
    "\n",
    "def distancia_np(a, b, information):\n",
    "    a=information[a][\"distance_np\"]\n",
    "    b=information[b][\"distance_np\"]\n",
    "    return (a+b)/2.0\n",
    "\n",
    "\n",
    "\n",
    "#Funciones de verosimilitud de panal\n",
    "def euclidean_dist(a, b):\n",
    "    d=0\n",
    "    for i, j in zip(a, b):\n",
    "        d+=(i-j)**2\n",
    "    return d**0.5\n",
    "\n",
    "def verif_atr(veros, atr):\n",
    "    v2=veros\n",
    "    flag=True\n",
    "    ind=0\n",
    "    for at in atr:\n",
    "        if ind<len(atr)-1:\n",
    "            if at not in v2: \n",
    "                flag=False\n",
    "                v2[at]={}\n",
    "            v2=v2[at]\n",
    "            ind+=1\n",
    "        else:\n",
    "            if at not in v2: \n",
    "                flag=False\n",
    "                v2[at]=0\n",
    "    return veros, flag\n",
    "\n",
    "def gradient(c1, c2, a):\n",
    "    b=1-a\n",
    "    tupi1=(tuple(int(c1[1:][i:i+2], 16)/255.0 for i in (0, 2, 4)))\n",
    "    tupi2=(tuple(int(c2[1:][i:i+2], 16)/255.0 for i in (0, 2, 4)))\n",
    "    return (tupi1[0]*a+tupi2[0]*b, tupi1[1]*a+tupi2[1]*b, tupi1[2]*a+tupi2[2]*b)\n",
    "\n",
    "def set_val(veros, atr, res):\n",
    "    ind=0\n",
    "    v2=veros\n",
    "    for at in atr:\n",
    "        if ind<len(atr)-1:\n",
    "            v2=v2[at]\n",
    "        else: \n",
    "            v2[at]=res\n",
    "        ind=ind+1\n",
    "    return veros\n",
    "\n",
    "def place(veros, atr):\n",
    "    v2=veros\n",
    "    for at in atr:\n",
    "        v2=v2[at]\n",
    "    return v2\n",
    "\n",
    "\n",
    "def get_verosimilitud(p0, p1, s0, s1, v, lam1, lam2):\n",
    "    p=(p0,p1)\n",
    "    s=(s0,s1)\n",
    "    prob=lam1*math.exp(-lam2*euclidean_dist(p,s))\n",
    "    return v*prob+(1-v)*(1-prob)\n",
    "\n",
    "def get_veros(lams1, lams2, lam1, lam2, nvisit, visit, xr, yr, fams):\n",
    "    Z=[]\n",
    "    index=len(xr)*len(fams)*lams2.index(lam2)+len(xr)*len(fams)*len(lams2)*lams1.index(lam1)\n",
    "    for ix, iy in zip(xr, yr):\n",
    "        z=1\n",
    "        for familia in fams:\n",
    "            if fams[familia]==1: z=z*visit[index]\n",
    "            else: z=z*nvisit[index]\n",
    "            index+=1\n",
    "        Z.append(z**(1/len(fams)))\n",
    "    return Z\n",
    "\n",
    "\n",
    "def distancia_genetica1(a, b, distribution):\n",
    "    distancia=0\n",
    "    for alele in distribution:\n",
    "        if a[alele]==b[alele]: distancia=distancia+(1/distribution[alele][a[alele]])\n",
    "        \n",
    "    return distancia\n",
    "\n",
    "def distancia_genetica2(a, b, distribution):\n",
    "    distancia=0\n",
    "    for alele in distribution:\n",
    "        if a[alele]==b[alele]: distancia+=1/float(len(distribution))\n",
    "        \n",
    "    return distancia\n",
    "\n",
    "def distancia_genetica3(a, b, distribution):\n",
    "    distancia=0\n",
    "    tot=0\n",
    "    tot2=0\n",
    "    for alele in distribution:\n",
    "        tot+=(1/distribution[alele][a[alele]])\n",
    "        tot+=(1/distribution[alele][b[alele]])\n",
    "        if a[alele]==b[alele]: tot2+=2*(1/distribution[alele][b[alele]])\n",
    "    return tot2/float(tot)\n",
    "\n",
    "\n",
    "def distancia_genetica4(a, b, distribution):\n",
    "    P_A1_a1=1\n",
    "    P_A2_a2=1\n",
    "    N=269\n",
    "    P_A2_a2_hermano_a2=1\n",
    "    for alele in distribution:\n",
    "        P_A1_a1=P_A1_a1*(distribution[alele][a[alele]])\n",
    "        P_A2_a2=P_A2_a2*(distribution[alele][b[alele]])\n",
    "        P_A2_a2_hermano_a2=P_A2_a2_hermano_a2*((1/2)*(int(a[alele]==b[alele]))+int(a[alele]!=b[alele])*(1/2)*(distribution[alele][b[alele]])/(1-distribution[alele][a[alele]]))\n",
    "    P_A1_A2_distinta_mama=P_A1_a1*P_A2_a2\n",
    "    P_A1_A2_misma_mama=P_A1_a1*P_A2_a2_hermano_a2\n",
    "    return (1/(1+(N-1)*P_A1_A2_distinta_mama/P_A1_A2_misma_mama))\n",
    "    \n",
    "            "
   ]
  },
  {
   "cell_type": "code",
   "execution_count": 3,
   "metadata": {},
   "outputs": [],
   "source": [
    "locations={\"1 Belmore st. North parramatta\": \"Parramatta\", \"1 Oberon Cresc\": \"Gordon\", \n",
    "           \"20 Philip Rd Mona Vale\": \"Palmbeach\", \"25 Strickland Ave.\": \"Strickland\", \n",
    "           \"38 Park Ave Ashfield\": \"Asheville\", \"4 Goodlet St. Surry Hills\": \"Surry Hills\", \n",
    "           \"430 Mona Vale Rd.\": \"Stives\", \"67-71 Eton St Sutherland\": \"Sutherland\", \n",
    "           \"7th Fourth Avenue Jannali\": \"Jannali\", \"8 Treatts Rd\": \"Lindfield\", \n",
    "           \"92 Griffiths St. balgowlah\": \"Balgowlah \", \"beauford Ave Ros parents\": \"Caringbah\", \n",
    "           \"Kate´s place Unit 6 2-4 Wood st. Manley\": \"Manley\", \"Ros House Woodland street\": \"Marrickville\", \n",
    "           \"Strickland Avenue 25\": \"Strickland\", \"UNISYD\": \"Camperdown\", \" 7 Cary St Leichhardt\": \"Leichhardt\", \n",
    "           \"131 Nelson Street, Anandale\": \"Anandale\", \"Bondi Junction\": \"Bondi Junction\", \n",
    "           \"Francisco (Surrey Hills)\": \"Surrey Hills\", \"Jannali\": \"Jannali\", \"Newtown Amelie\": \"Newtown\", \n",
    "           \"Paddington\": \"Paddington\", \"Ros' House\": \"Marrickville\", \"Ros's Brothers\": \"Marrickville 2\", \n",
    "           \"Ros's Parents\": \"Caringbah\", \"Ros´\": \"Marrickville sp\", \"Tanya's House\": \"Tanya\", \n",
    "           \"University\": \"University\", \"Vegetable Garden UNISYD\": \"Vegetable university\", \n",
    "           \"Mololahvalley\":\"Mololahvalley\", \"Beerwah2\":\"Beerwah2\", 'Beerwah1':'Beerwah1', 'Saharafarms':'Saharafarms',\n",
    "          'Beerwah3':'Beerwah3'}\n",
    "\n",
    "coordenadas={\"Marrickville\":(-33.90468, 151.16067), \"Surry Hills\":(-33.88972, 151.20965),\n",
    "             \"Camperdown\":(-33.88514, 151.18837), \"Asheville\":(-33.89428, 151.12279),\n",
    "             \"Balgowlah \":(-33.79207, 151.26724),\"Manley\":(-33.80352, 151.28617),\"Jannali\":(-34.01215, 151.07181),\n",
    "             \"Sutherland\":(-34.03502, 151.05768), \"Stives\": (-33.70606, 151.18046),\"Palmbeach\":(-33.66858, 151.31378),\n",
    "            \"Lindfield\":(-33.77102, 151.16314),\"Gordon\":(-33.75781, 151.15081),\"Caringbah\":(-34.06095, 151.11111), \n",
    "             \"Parramatta\":(-33.800766, 151.009321), \"Strickland\":(-33.778420, 151.171036)\n",
    "            }\n",
    "\n",
    "distance_national_park={\n",
    "    \"Marrickville\":17.5,\"Surry Hills\":20, \"Camperdown\":20, \"Asheville\":17.5,\"Balgowlah \":11.3,\"Manley\":13.5,\n",
    "            \"Jannali\":3.3,\"Sutherland\":5, \"Stives\": 0.1,\"Palmbeach\":3.4,\"Lindfield\":7.3,\"Gordon\":6.5,\"Caringbah\":1, \n",
    "    \"Parramatta\":10, \"Strickland\":7.3}"
   ]
  },
  {
   "cell_type": "code",
   "execution_count": 4,
   "metadata": {},
   "outputs": [],
   "source": [
    "def to_xy(point):\n",
    "    r=6371000\n",
    "    phi_0 = 151.16067\n",
    "    cos_phi_0 = math.cos(math.radians(phi_0))\n",
    "    lam = point[0]\n",
    "    phi = point[1]\n",
    "    return (r * math.radians(lam) * cos_phi_0, r * math.radians(phi))\n",
    "\n",
    "\n",
    "xaxis  = [utm.from_latlon(coordenadas[l][0],coordenadas[l][1])[0]  for l in coordenadas]\n",
    "yaxis = [utm.from_latlon(coordenadas[l][0],coordenadas[l][1])[1] for l in coordenadas]\n",
    "medy  =  np.mean(yaxis)\n",
    "medx  =  np.mean(xaxis)\n",
    "\n",
    "xaxis  = [to_xy((coordenadas[l][0],coordenadas[l][1]))[0]  for l in coordenadas]\n",
    "yaxis = [to_xy((coordenadas[l][0],coordenadas[l][1]))[1] for l in coordenadas]\n",
    "medy2  =  np.mean(yaxis)\n",
    "medx2  =  np.mean(xaxis)\n",
    "\n",
    "information={}\n",
    "for k in coordenadas:\n",
    "    information[k]={}\n",
    "    information[k][\"coordenadas\"]=coordenadas[k]\n",
    "    utm_val=utm.from_latlon(coordenadas[k][0], coordenadas[k][1])\n",
    "    information[k][\"utm_xy\"]=((utm_val[0]-medx)/1000, (utm_val[1]-medy)/1000)\n",
    "    \n",
    "    xy_val=to_xy(coordenadas[k])\n",
    "    information[k][\"alt_xy\"]=((xy_val[0]-medx2)/1000, (xy_val[1]-medy2)/1000)\n",
    "    \n",
    "    information[k][\"distance_np\"]=distance_national_park[k]"
   ]
  },
  {
   "cell_type": "code",
   "execution_count": null,
   "metadata": {},
   "outputs": [],
   "source": []
  },
  {
   "cell_type": "markdown",
   "metadata": {},
   "source": [
    "# Open family data"
   ]
  },
  {
   "cell_type": "code",
   "execution_count": 5,
   "metadata": {},
   "outputs": [],
   "source": [
    "f=open(\"output_colony.csv\", \"r\")"
   ]
  },
  {
   "cell_type": "code",
   "execution_count": 6,
   "metadata": {},
   "outputs": [],
   "source": [
    "a=\"A\"\n",
    "ind=0\n",
    "familias=[]\n",
    "while a!=\"\":\n",
    "    a=f.readline()\n",
    "    if ind>0:\n",
    "        nd={}\n",
    "        b=a.split(\",\")\n",
    "        if len(b)>2:\n",
    "            nd[\"Familia\"]=b[0]\n",
    "            nd[\"c1\"]=float(b[1])\n",
    "            nd[\"c2\"]=float(b[2])\n",
    "            ind2=3\n",
    "            parientes=[]\n",
    "            while ind2<len(b):\n",
    "                if b[ind2]!=\"\" and b[ind2]!=\"\\n\": parientes.append(b[ind2].replace(\"\\n\", \"\"))\n",
    "                ind2+=1\n",
    "            nd[\"integrantes\"]=parientes\n",
    "            familias.append(nd)\n",
    "    ind+=1"
   ]
  },
  {
   "cell_type": "markdown",
   "metadata": {},
   "source": [
    "## Example of family observations"
   ]
  },
  {
   "cell_type": "markdown",
   "metadata": {},
   "source": [
    "### Relationship between the two probabilities"
   ]
  },
  {
   "cell_type": "code",
   "execution_count": 7,
   "metadata": {},
   "outputs": [
    {
     "name": "stderr",
     "output_type": "stream",
     "text": [
      "No handles with labels found to put in legend.\n"
     ]
    },
    {
     "data": {
      "image/png": "[encoded data removed]",
      "text/plain": [
       "<Figure size 432x288 with 1 Axes>"
      ]
     },
     "metadata": {
      "needs_background": "light"
     },
     "output_type": "display_data"
    }
   ],
   "source": [
    "\n",
    "\n",
    "# Fixing random state for reproducibility\n",
    "np.random.seed(19680801)\n",
    "\n",
    "\n",
    "plt.scatter([b[\"c1\"] for b in familias], [b[\"c2\"] for b in familias], c=\"g\", alpha=0.5)\n",
    "plt.xlabel(\"C1\")\n",
    "plt.ylabel(\"C2\")\n",
    "plt.legend(loc='upper left')\n",
    "plt.show()"
   ]
  },
  {
   "cell_type": "markdown",
   "metadata": {},
   "source": [
    "## Match with individual data"
   ]
  },
  {
   "cell_type": "code",
   "execution_count": 8,
   "metadata": {},
   "outputs": [],
   "source": [
    "df=pd.read_csv(\"Aleles_clean.csv\")"
   ]
  },
  {
   "cell_type": "code",
   "execution_count": 9,
   "metadata": {},
   "outputs": [],
   "source": [
    "df[\"Site\"]=[locations[i] for i in df[\"Collection site\"]]"
   ]
  },
  {
   "cell_type": "code",
   "execution_count": 10,
   "metadata": {},
   "outputs": [
    {
     "data": {
      "text/plain": [
       "QL2017    2360\n",
       "PC2018    2118\n",
       "PC2017    1342\n",
       "Name: Cluster, dtype: int64"
      ]
     },
     "execution_count": 10,
     "metadata": {},
     "output_type": "execute_result"
    }
   ],
   "source": [
    "df[\"Cluster\"].value_counts()"
   ]
  },
  {
   "cell_type": "code",
   "execution_count": 11,
   "metadata": {},
   "outputs": [],
   "source": [
    "df_syd2018=df[(df[\"Cluster\"]==\"PC2018\")  | (df[\"Cluster\"]==\"QL2017\") | (df[\"Cluster\"]==\"PC2017\")].copy()"
   ]
  },
  {
   "cell_type": "code",
   "execution_count": 12,
   "metadata": {},
   "outputs": [],
   "source": [
    "def modsitio(sitio, clu):\n",
    "    if clu==\"PC2017\":\n",
    "        sitio=sitio+\"-17\"\n",
    "    return sitio\n",
    "df_syd2018[\"Site\"]=[modsitio(sitio, clu) for sitio, clu in zip(df_syd2018[\"Site\"], df_syd2018[\"Cluster\"])]"
   ]
  },
  {
   "cell_type": "code",
   "execution_count": 13,
   "metadata": {},
   "outputs": [],
   "source": [
    "#df_syd2018=df_syd2018[df_syd2018.Site!=\"Parramatta\"]\n",
    "#df_syd2018=df_syd2018[df_syd2018.Site!=\"Strickland\"]\n",
    "df_syd2018=df_syd2018[df_syd2018.Site!=\"Beerwah2\"]\n",
    "df_syd2018=df_syd2018[df_syd2018.Site!=\"Beerwah3\"]\n",
    "df_syd2018=df_syd2018[df_syd2018.Site!=\"Marrickville sp-17\"]\n",
    "#df_syd2018=df_syd2018[df_syd2018.Site!=\"Tanya-17\"]\n",
    "#df_syd2018=df_syd2018[df_syd2018.Site!=\"University-17\"]\n",
    "#df_syd2018=df_syd2018[df_syd2018.Site!=\"Anandale-17\"]\n",
    "#df_syd2018=df_syd2018[df_syd2018.Site!=\"Leichhardt-17\"]\n",
    "#df_syd2018=df_syd2018[df_syd2018.Site!=\"Surrey Hills-17\"]\n",
    "#df_syd2018=df_syd2018[df_syd2018.Site!=\"Newtown-17\"]\n",
    "\n",
    "\n"
   ]
  },
  {
   "cell_type": "code",
   "execution_count": 14,
   "metadata": {},
   "outputs": [
    {
     "data": {
      "text/plain": [
       "Mololahvalley              534\n",
       "Saharafarms                510\n",
       "Beerwah1                   478\n",
       "Stives                     307\n",
       "Marrickville-17            253\n",
       "Vegetable university-17    220\n",
       "Caringbah-17               204\n",
       "Sutherland                 188\n",
       "Jannali                    182\n",
       "Balgowlah                  181\n",
       "Manley                     180\n",
       "Palmbeach                  167\n",
       "Surry Hills                159\n",
       "Camperdown                 140\n",
       "Paddington-17              125\n",
       "Marrickville               125\n",
       "Asheville                  124\n",
       "Bondi Junction-17          110\n",
       "Caringbah                  106\n",
       "Jannali-17                 105\n",
       "Marrickville 2-17          104\n",
       "Lindfield                  101\n",
       "Strickland                  83\n",
       "Gordon                      72\n",
       "Surrey Hills-17             46\n",
       "Anandale-17                 39\n",
       "University-17               34\n",
       "Tanya-17                    18\n",
       "Newtown-17                  13\n",
       "Leichhardt-17               11\n",
       "Parramatta                   3\n",
       "Name: Site, dtype: int64"
      ]
     },
     "execution_count": 14,
     "metadata": {},
     "output_type": "execute_result"
    }
   ],
   "source": [
    "df_syd2018[\"Site\"].value_counts()"
   ]
  },
  {
   "cell_type": "code",
   "execution_count": 15,
   "metadata": {
    "scrolled": true
   },
   "outputs": [],
   "source": [
    "aleles=[\"Al1\", \"Al2\", \"Al3\", \"Al4\", \"Al5\", \"Al6\", \"Al7\"]\n",
    "dums=pd.get_dummies(df_syd2018[aleles], columns=aleles)\n",
    "df2=df_syd2018.join(dums)\n",
    "\n"
   ]
  },
  {
   "cell_type": "code",
   "execution_count": 16,
   "metadata": {},
   "outputs": [],
   "source": [
    "sites=list(set(df_syd2018[\"Site\"]))"
   ]
  },
  {
   "cell_type": "code",
   "execution_count": 17,
   "metadata": {},
   "outputs": [],
   "source": [
    "import math\n",
    "from sklearn.metrics.pairwise import cosine_similarity\n",
    "from scipy import spatial\n",
    "\n",
    "\n"
   ]
  },
  {
   "cell_type": "code",
   "execution_count": 18,
   "metadata": {
    "scrolled": true
   },
   "outputs": [],
   "source": [
    "groupeddf=df2[[\"Site\"]+list(dums.keys())].groupby(\"Site\").sum()\n",
    "\n",
    "mat=np.zeros((len(sites), len(sites)))\n",
    "\n",
    "\n",
    "i=0\n",
    "for s in sites:\n",
    "    j=0\n",
    "    for k in sites:\n",
    "        v1=np.array(list(groupeddf.loc[k]))\n",
    "        v2=np.array(list(groupeddf.loc[s]))\n",
    "        v1=[math.log(1+v) for v in v1]\n",
    "        v2=[math.log(1+v) for v in v2]\n",
    "        mat[i][j]=1 - spatial.distance.cosine(v1, v2)\n",
    "        j+=1\n",
    "    i+=1\n",
    "\n"
   ]
  },
  {
   "cell_type": "code",
   "execution_count": null,
   "metadata": {},
   "outputs": [],
   "source": []
  },
  {
   "cell_type": "code",
   "execution_count": 19,
   "metadata": {},
   "outputs": [
    {
     "data": {
      "text/plain": [
       "(array([  5,  15,  25,  35,  45,  55,  65,  75,  85,  95, 105, 115, 125,\n",
       "        135, 145, 155, 165, 175, 185, 195, 205, 215, 225, 235, 245, 255,\n",
       "        265, 275, 285, 295, 305]), <a list of 31 Text xticklabel objects>)"
      ]
     },
     "execution_count": 19,
     "metadata": {},
     "output_type": "execute_result"
    },
    {
     "data": {
      "image/png": "[encoded data removed]",
      "text/plain": [
       "<Figure size 432x288 with 1 Axes>"
      ]
     },
     "metadata": {
      "needs_background": "light"
     },
     "output_type": "display_data"
    }
   ],
   "source": [
    "from scipy.cluster import hierarchy\n",
    "import matplotlib.pyplot as plt\n",
    "\n",
    "Z = hierarchy.linkage(mat, 'single')\n",
    "plt.figure()\n",
    "dn = hierarchy.dendrogram(Z, labels=sites)\n",
    "plt.xticks(rotation=90)\n",
    "\n"
   ]
  },
  {
   "cell_type": "code",
   "execution_count": 20,
   "metadata": {},
   "outputs": [],
   "source": [
    "neworder=['Beerwah1']\n",
    "while len(neworder)<len(sites):\n",
    "    maxi=0\n",
    "    maxind=0\n",
    "    for k in sites:\n",
    "        for s in neworder:\n",
    "            if mat[sites.index(s)][sites.index(k)]>maxi and k not in neworder:\n",
    "                maxi=mat[sites.index(s)][sites.index(k)]\n",
    "                maxind=k\n",
    "    neworder.append(maxind)"
   ]
  },
  {
   "cell_type": "code",
   "execution_count": 21,
   "metadata": {},
   "outputs": [],
   "source": [
    "mat2=np.zeros(np.shape(mat))\n",
    "for k in sites:\n",
    "    for j in sites:\n",
    "        mat2[neworder.index(k)][neworder.index(j)]=mat[sites.index(k)][sites.index(j)]\n",
    "        "
   ]
  },
  {
   "cell_type": "code",
   "execution_count": null,
   "metadata": {},
   "outputs": [],
   "source": []
  },
  {
   "cell_type": "code",
   "execution_count": 27,
   "metadata": {},
   "outputs": [
    {
     "data": {
      "image/png": "[encoded data removed]",
      "text/plain": [
       "<Figure size 864x864 with 2 Axes>"
      ]
     },
     "metadata": {},
     "output_type": "display_data"
    }
   ],
   "source": [
    "import numpy as np; np.random.seed(0)\n",
    "import seaborn as sns; sns.set()\n",
    "fig=plt.figure(figsize=(12,12))\n",
    "\n",
    "newnames={'Bondi Junction-17':'S17-7', 'Leichhardt-17':'S17-13',\n",
    "          'Vegetable university-17':'S17-5','Marrickville-17':\"S17-3\", 'Marrickville 2-17':'S17-4',\n",
    "          'Paddington-17':\"S17-6\",  'Jannali-17':\"S17-2\", 'Caringbah-17':\"S17-1\", \n",
    "          'Anandale-17':'S17-14', 'Beerwah2':\"Q-4\",  'Surrey Hills-17':'S17-12',\n",
    "          'Tanya-17':'S17-8','Newtown-17':'S17-9','University-17':'S17-10',\n",
    "          'Marrickville sp-17':'Marrickville sp-17','Beerwah3':\"Q-5\", \"Beerwah1\":\"Q-1\", \"Saharafarms\":\"Q-2\", \n",
    "          \"Mololahvalley\":\"Q-3\", \"Balgowlah \":\"S-1\", \"Manley\":\"S-2\", \"Surry Hills\":\"S-3\",\n",
    "          \"Asheville\":\"S-4\", \"Camperdown\":\"S-5\", \"Marrickville\":\"S-6\", \"Caringbah\":\"S-7\", \n",
    "          \"Gordon\":\"S-8\", \"Lindfield\":\"S-9\", \"Palmbeach\":\"S-10\", \"Stives\":\"S-11\", \"Sutherland\":\"S-12\", \n",
    "          \"Jannali\":\"S-13\", 'Strickland':\"S-24\", 'Parramatta':\"S-22\"}\n",
    "\n",
    "labs=[newnames[j] for j in neworder]\n",
    "labs=[k.replace(\"S17-\", \"2-\").replace(\"Q-\",\"1-\").replace(\"S-\", \"3-\") for k in labs]\n",
    "\n",
    "ax = sns.heatmap(mat2[:-3, :-3], yticklabels=labs[:-3], xticklabels=labs[:-3],  cmap='coolwarm', vmin=0.75)\n",
    "#plt.yticks(sites)\n",
    "plt.yticks(rotation=0)\n",
    "fig.savefig(\"Heterogeneous.pdf\")"
   ]
  },
  {
   "cell_type": "code",
   "execution_count": null,
   "metadata": {},
   "outputs": [],
   "source": []
  },
  {
   "cell_type": "code",
   "execution_count": 79,
   "metadata": {},
   "outputs": [
    {
     "data": {
      "image/png": "[encoded data removed]",
      "text/plain": [
       "<Figure size 432x288 with 2 Axes>"
      ]
     },
     "metadata": {},
     "output_type": "display_data"
    }
   ],
   "source": [
    "import numpy as np; np.random.seed(0)\n",
    "import seaborn as sns; sns.set()\n",
    "\n",
    "fig=plt.figure()\n",
    "newnames={'Beerwah2':\"Q-4\", 'Beerwah3':\"Q-5\", \"Beerwah1\":\"Q-1\", \"Saharafarms\":\"Q-2\", \"Mololahvalley\":\"Q-3\", \"Balgowlah \":\"S-1\", \"Manley\":\"S-2\", \"Surry Hills\":\"S-3\", \"Asheville\":\"S-4\", \"Camperdown\":\"S-5\", \"Marrickville\":\"S-6\", \"Caringbah\":\"S-7\", \"Gordon\":\"S-8\", \"Lindfield\":\"S-9\", \"Palmbeach\":\"S-10\", \"Stives\":\"S-11\", \"Sutherland\":\"S-12\", \"Jannali\":\"S-13\"}\n",
    "\n",
    "ax = sns.heatmap(mat2, yticklabels=[newnames[j] for j in neworder], xticklabels=[newnames[j] for j in neworder],  cmap='coolwarm')\n",
    "#plt.yticks(sites)\n",
    "\n",
    "fig.savefig(\"Heterogeneous_log.pdf\")"
   ]
  },
  {
   "cell_type": "code",
   "execution_count": null,
   "metadata": {},
   "outputs": [],
   "source": []
  },
  {
   "cell_type": "code",
   "execution_count": null,
   "metadata": {},
   "outputs": [],
   "source": [
    "coordenadas={\"Marrickville\":(-33.90468, 151.16067), \"Surry Hills\":(-33.88972, 151.20965),\n",
    "             \"Camperdown\":(-33.88514, 151.18837), \"Asheville\":(-33.89428, 151.12279),\n",
    "             \"Balgowlah \":(-33.79207, 151.26724),\"Manley\":(-33.80352, 151.28617),\"Jannali\":(-34.01215, 151.07181),\n",
    "             \"Sutherland\":(-34.03502, 151.05768), \"Stives\": (-33.70606, 151.18046),\"Palmbeach\":(-33.66858, 151.31378),\n",
    "            \"Lindfield\":(-33.77102, 151.16314),\"Gordon\":(-33.75781, 151.15081),\"Caringbah\":(-34.06095, 151.11111), \n",
    "             \"Parramatta\":(-33.800766, 151.009321), \"Strickland\":(-33.778420, 151.171036)\n",
    "            }"
   ]
  }
 ],
 "metadata": {
  "kernelspec": {
   "display_name": "Python 3",
   "language": "python",
   "name": "python3"
  },
  "language_info": {
   "codemirror_mode": {
    "name": "ipython",
    "version": 3
   },
   "file_extension": ".py",
   "mimetype": "text/x-python",
   "name": "python",
   "nbconvert_exporter": "python",
   "pygments_lexer": "ipython3",
   "version": "3.7.7"
  }
 },
 "nbformat": 4,
 "nbformat_minor": 2
}
